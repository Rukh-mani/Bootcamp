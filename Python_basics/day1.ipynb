{
 "cells": [
  {
   "cell_type": "code",
   "execution_count": 1,
   "metadata": {},
   "outputs": [
    {
     "name": "stdout",
     "output_type": "stream",
     "text": [
      "Hi\n"
     ]
    }
   ],
   "source": [
    "print('Hi')"
   ]
  },
  {
   "cell_type": "code",
   "execution_count": 3,
   "metadata": {},
   "outputs": [
    {
     "name": "stdout",
     "output_type": "stream",
     "text": [
      ":P, :D, ;)\n"
     ]
    }
   ],
   "source": [
    "print(':P, :D, ;)')"
   ]
  },
  {
   "cell_type": "code",
   "execution_count": 1,
   "metadata": {},
   "outputs": [
    {
     "name": "stdout",
     "output_type": "stream",
     "text": [
      "this is the first line\n",
      "this is the second line\n",
      "this is the third line\n"
     ]
    }
   ],
   "source": [
    "print('this is the first line')\n",
    "print('this is the second line')\n",
    "print('this is the third line')"
   ]
  },
  {
   "cell_type": "code",
   "execution_count": 2,
   "metadata": {},
   "outputs": [
    {
     "name": "stdout",
     "output_type": "stream",
     "text": [
      "Hi there, rukhu\n"
     ]
    }
   ],
   "source": [
    "name = input(\"What is your name? \")\n",
    "print(\"Hi there, \" + name)"
   ]
  },
  {
   "cell_type": "code",
   "execution_count": 5,
   "metadata": {},
   "outputs": [
    {
     "name": "stdout",
     "output_type": "stream",
     "text": [
      "email addres is mailmetina1@gmail.com\n"
     ]
    }
   ],
   "source": [
    "input_email = input(\"give your email id please\")\n",
    "print(\"email addres is\" + \" \" + input_email+ \"@gmail.com\")"
   ]
  },
  {
   "cell_type": "markdown",
   "metadata": {},
   "source": [
    "LOOPS"
   ]
  },
  {
   "cell_type": "code",
   "execution_count": 6,
   "metadata": {},
   "outputs": [
    {
     "name": "stdout",
     "output_type": "stream",
     "text": [
      "Thanks and bye!\n"
     ]
    }
   ],
   "source": [
    "while True:\n",
    "    number = int(input(\"Please type in a number, 10 to quit: \"))\n",
    " \n",
    "    if number == 10:\n",
    "        break\n",
    " \n",
    "    print(number ** 2)\n",
    " \n",
    "print(\"Thanks and bye!\")"
   ]
  },
  {
   "cell_type": "code",
   "execution_count": 12,
   "metadata": {},
   "outputs": [
    {
     "name": "stdout",
     "output_type": "stream",
     "text": [
      "you have three chances to enter the right pin\n"
     ]
    }
   ],
   "source": [
    "#Excercise: Create a program that asks for your PIN a blocks you \n",
    "# if you enter the wrong PIN three times.\n",
    "attempts = 0\n",
    "max_attempts = 3\n",
    "correct_pin = 2345\n",
    " \n",
    "print(\"you have three chances to enter the right pin\")\n",
    " \n",
    "while attempts < max_attempts:\n",
    "    guess = int(input(\"Enter your pin: \"))\n",
    "\n",
    "    if guess == correct_pin:\n",
    "        break\n",
    "    attempts += 1\n",
    "print(\"oops\")\n"
   ]
  },
  {
   "cell_type": "code",
   "execution_count": 5,
   "metadata": {},
   "outputs": [],
   "source": [
    "#Excercise: Write a program that prompts the user to enter a number. The program should keep accepting numbers until the user enters a negative number. After the loop ends, the program should display the sum and \n",
    "# average of the entered numbers\n",
    "import numpy as np\n",
    "\n",
    "number = float(input(\"Please enter a number here: \"))\n",
    "list_of_numbers = [number]\n",
    "while number >= 0:\n",
    "    number = float(input(\"Please enter a number here: \"))\n",
    "    list_of_numbers.append(number)\n",
    "\n",
    "sum_of_numbers = np.sum(list_of_numbers)\n",
    "average_of_numbers = np.average(list_of_numbers)\n",
    "print(list_of_numbers)\n",
    "print(sum_of_numbers, average_of_numbers)"
   ]
  },
  {
   "cell_type": "code",
   "execution_count": 1,
   "metadata": {},
   "outputs": [
    {
     "name": "stdout",
     "output_type": "stream",
     "text": [
      "[50.0, 50.0, 10.0]\n"
     ]
    }
   ],
   "source": [
    "#excercise - check this later!\n",
    "# Write a program that prompts the user to enter a series of numbers. The program should keep accepting numbers until the sum of the entered numbers exceeds 100. After the loop ends, \n",
    "# display the total sum of the entered numbers.\n",
    "\n",
    "import numpy as np\n",
    "\n",
    "total_sum =0\n",
    "number = float(input(\"Please enter a number here: \"))\n",
    "list_of_numbers = [number]\n",
    "while total_sum <=100:\n",
    "    number = float(input(\"Please enter a number here: \"))\n",
    "    list_of_numbers.append(number)\n",
    "    total_sum=np.sum(list_of_numbers)\n",
    "\n",
    "# sum_of_numbers = np.sum(list_of_numbers)\n",
    "# average_of_numbers = np.average(list_of_numbers)\n",
    "print(list_of_numbers)\n",
    "# print(sum_of_numbers, average_of_numbers)"
   ]
  }
 ],
 "metadata": {
  "kernelspec": {
   "display_name": "dwwshop",
   "language": "python",
   "name": "python3"
  },
  "language_info": {
   "codemirror_mode": {
    "name": "ipython",
    "version": 3
   },
   "file_extension": ".py",
   "mimetype": "text/x-python",
   "name": "python",
   "nbconvert_exporter": "python",
   "pygments_lexer": "ipython3",
   "version": "3.11.7"
  }
 },
 "nbformat": 4,
 "nbformat_minor": 2
}
