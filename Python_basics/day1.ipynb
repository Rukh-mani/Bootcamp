{
 "cells": [
  {
   "cell_type": "code",
   "execution_count": 1,
   "metadata": {},
   "outputs": [
    {
     "name": "stdout",
     "output_type": "stream",
     "text": [
      "Hi\n"
     ]
    }
   ],
   "source": [
    "print('Hi')"
   ]
  },
  {
   "cell_type": "code",
   "execution_count": 3,
   "metadata": {},
   "outputs": [
    {
     "name": "stdout",
     "output_type": "stream",
     "text": [
      ":P, :D, ;)\n"
     ]
    }
   ],
   "source": [
    "print(':P, :D, ;)')"
   ]
  },
  {
   "cell_type": "code",
   "execution_count": 1,
   "metadata": {},
   "outputs": [
    {
     "name": "stdout",
     "output_type": "stream",
     "text": [
      "this is the first line\n",
      "this is the second line\n",
      "this is the third line\n"
     ]
    }
   ],
   "source": [
    "print('this is the first line')\n",
    "print('this is the second line')\n",
    "print('this is the third line')"
   ]
  },
  {
   "cell_type": "code",
   "execution_count": 2,
   "metadata": {},
   "outputs": [
    {
     "name": "stdout",
     "output_type": "stream",
     "text": [
      "Hi there, rukhu\n"
     ]
    }
   ],
   "source": [
    "name = input(\"What is your name? \")\n",
    "print(\"Hi there, \" + name)"
   ]
  },
  {
   "cell_type": "code",
   "execution_count": 5,
   "metadata": {},
   "outputs": [
    {
     "name": "stdout",
     "output_type": "stream",
     "text": [
      "email addres is mailmetina1@gmail.com\n"
     ]
    }
   ],
   "source": [
    "input_email = input(\"give your email id please\")\n",
    "print(\"email addres is\" + \" \" + input_email+ \"@gmail.com\")"
   ]
  },
  {
   "cell_type": "markdown",
   "metadata": {},
   "source": [
    "LOOPS"
   ]
  },
  {
   "cell_type": "code",
   "execution_count": 6,
   "metadata": {},
   "outputs": [
    {
     "name": "stdout",
     "output_type": "stream",
     "text": [
      "Thanks and bye!\n"
     ]
    }
   ],
   "source": [
    "while True:\n",
    "    number = int(input(\"Please type in a number, 10 to quit: \"))\n",
    " \n",
    "    if number == 10:\n",
    "        break\n",
    " \n",
    "    print(number ** 2)\n",
    " \n",
    "print(\"Thanks and bye!\")"
   ]
  },
  {
   "cell_type": "code",
   "execution_count": 12,
   "metadata": {},
   "outputs": [
    {
     "name": "stdout",
     "output_type": "stream",
     "text": [
      "you have three chances to enter the right pin\n"
     ]
    }
   ],
   "source": [
    "#Excercise: Create a program that asks for your PIN a blocks you \n",
    "# if you enter the wrong PIN three times.\n",
    "attempts = 0\n",
    "max_attempts = 3\n",
    "correct_pin = 2345\n",
    " \n",
    "print(\"you have three chances to enter the right pin\")\n",
    " \n",
    "while attempts < max_attempts:\n",
    "    guess = int(input(\"Enter your pin: \"))\n",
    "\n",
    "    if guess == correct_pin:\n",
    "        break\n",
    "    attempts += 1\n",
    "print(\"oops\")\n"
   ]
  },
  {
   "cell_type": "code",
   "execution_count": 5,
   "metadata": {},
   "outputs": [],
   "source": [
    "#Excercise: Write a program that prompts the user to enter a number. The program should keep accepting numbers until the user enters a negative number. After the loop ends, the program should display the sum and \n",
    "# average of the entered numbers\n",
    "import numpy as np\n",
    "\n",
    "number = float(input(\"Please enter a number here: \"))\n",
    "list_of_numbers = [number]\n",
    "while number >= 0:\n",
    "    number = float(input(\"Please enter a number here: \"))\n",
    "    list_of_numbers.append(number)\n",
    "\n",
    "sum_of_numbers = np.sum(list_of_numbers)\n",
    "average_of_numbers = np.average(list_of_numbers)\n",
    "print(list_of_numbers)\n",
    "print(sum_of_numbers, average_of_numbers)"
   ]
  },
  {
   "cell_type": "code",
   "execution_count": 1,
   "metadata": {},
   "outputs": [
    {
     "name": "stdout",
     "output_type": "stream",
     "text": [
      "[50.0, 50.0, 10.0]\n"
     ]
    }
   ],
   "source": [
    "#excercise - check this later!\n",
    "# Write a program that prompts the user to enter a series of numbers. The program should keep accepting numbers until the sum of the entered numbers exceeds 100. After the loop ends, \n",
    "# display the total sum of the entered numbers.\n",
    "\n",
    "import numpy as np\n",
    "\n",
    "total_sum =0\n",
    "number = float(input(\"Please enter a number here: \"))\n",
    "list_of_numbers = [number]\n",
    "while total_sum <=100:\n",
    "    number = float(input(\"Please enter a number here: \"))\n",
    "    list_of_numbers.append(number)\n",
    "    total_sum=np.sum(list_of_numbers)\n",
    "\n",
    "# sum_of_numbers = np.sum(list_of_numbers)\n",
    "# average_of_numbers = np.average(list_of_numbers)\n",
    "print(list_of_numbers)\n",
    "# print(sum_of_numbers, average_of_numbers)"
   ]
  },
  {
   "cell_type": "markdown",
   "metadata": {},
   "source": [
    "HOMEWORK EXCERCISES"
   ]
  },
  {
   "cell_type": "code",
   "execution_count": 3,
   "metadata": {},
   "outputs": [
    {
     "name": "stdout",
     "output_type": "stream",
     "text": [
      "         *\n",
      "        ***\n",
      "       *****\n",
      "      *******\n",
      "     *********\n",
      "    ***********\n",
      "   *************\n",
      "  ***************\n",
      " *****************\n",
      "*******************\n"
     ]
    }
   ],
   "source": [
    "#excercise\n",
    "# Christmas tree\n",
    "# Using loop and * symbol, draw a Christmas tree\n",
    "\n",
    "height_of_the_tree = 10\n",
    "\n",
    "for i in range(height_of_the_tree):\n",
    "    #print(height_of_the_tree -i -1) , print(2*i+1)\n",
    "    print( \" \" * (height_of_the_tree -i -1) + \"*\" * ((2*i)+1))\n",
    "\n"
   ]
  },
  {
   "cell_type": "code",
   "execution_count": 84,
   "metadata": {},
   "outputs": [
    {
     "name": "stdout",
     "output_type": "stream",
     "text": [
      "6 chi nky\n"
     ]
    }
   ],
   "source": [
    "# String Slicing\n",
    "# Objective: Write a program that prompts the user to enter a word. \n",
    "# The program should then perform various slicing operations on the word and display the results.\n",
    "\n",
    "# Instructions:\n",
    "# Prompt the user to enter a word.\n",
    "# Print the length of the word.\n",
    "# Slice and print the first three characters of the word.\n",
    "# Slice and print the last three characters of the word.\n",
    "# Slice and print the word in reverse order.\n",
    "\n",
    "input_word = input(\"PLease enter a word: \")\n",
    "input_length = len(input_word)\n",
    "substring_one = input_word[0:3]\n",
    "substring_two = input_word[(input_length-3):]\n",
    "print(input_length, substring_one, substring_two)\n",
    "\n",
    "reversed_word=[]\n",
    "for i in range(input_length):\n",
    "    reversed_word.append(input_word[-i-1])\n",
    "\n",
    "\n",
    "reversed_word_str = ''.join(reversed_word)\n",
    "print(reversed_word_str)\n"
   ]
  },
  {
   "cell_type": "code",
   "execution_count": 86,
   "metadata": {},
   "outputs": [
    {
     "name": "stdout",
     "output_type": "stream",
     "text": [
      "20.0\n"
     ]
    }
   ],
   "source": [
    "# AREA OF A RECTANGLE\n",
    "# Write a Python program that prompts the user to enter the length and width of a rectangle. Calculate and display the area of the rectangle \n",
    "# using the formula: area = length * width. Use variables to store the length, width, and area values.\n",
    "\n",
    "length = float(input(\"Please enter the length of the rectangle: \"))\n",
    "breadth = float(input(\"Please enter the breadth of the rectangle: \"))\n",
    "Area_Rect= length*breadth\n",
    "\n",
    "print(Area_Rect)"
   ]
  },
  {
   "cell_type": "code",
   "execution_count": 88,
   "metadata": {},
   "outputs": [
    {
     "name": "stdout",
     "output_type": "stream",
     "text": [
      "32.0\n"
     ]
    }
   ],
   "source": [
    "# Write a Python program that prompts the user to enter a temperature in Celsius. \n",
    "# Convert the Celsius temperature to Fahrenheit using the formula: fahrenheit = (celsius * 9/5) + 32. \n",
    "# Display the converted temperature in Fahrenheit. Use variables to store the Celsius and Fahrenheit values.\n",
    "\n",
    "temp_in_C = float(input(\"please enter the temperature in degree celcius:\"))\n",
    "\n",
    "temp_farenheit = (temp_in_C * 9/5) + 32\n",
    "print(temp_farenheit)"
   ]
  },
  {
   "cell_type": "code",
   "execution_count": 89,
   "metadata": {},
   "outputs": [
    {
     "name": "stdout",
     "output_type": "stream",
     "text": [
      "21.6712580348944\n"
     ]
    }
   ],
   "source": [
    "# BMI Calculator\n",
    "# Write a Python program that prompts the user to enter their weight in kilograms and height in meters. \n",
    "# Calculate the Body Mass Index (BMI) using the formula: bmi = weight / (height * height). \n",
    "# Display the calculated BMI. Use variables to store the weight, height, and BMI values.\n",
    "\n",
    "weight_kg = float(input(\"Please enter your weight in kgs: \"))\n",
    "height_m = float(input(\"Please enter your height in meters: \"))\n",
    "BMI = weight_kg/(height_m**2)\n",
    "\n",
    "print(BMI)"
   ]
  },
  {
   "cell_type": "code",
   "execution_count": 90,
   "metadata": {},
   "outputs": [
    {
     "name": "stdout",
     "output_type": "stream",
     "text": [
      "your grade is A\n"
     ]
    }
   ],
   "source": [
    "# Grading System\n",
    "# Write a Python program that prompts the user to enter a score between 0 and 100. \n",
    "# Based on the score entered, the program should determine and display the corresponding grade according to the following grading system:\n",
    "\n",
    "# Scores from 90 to 100 (inclusive) receive an \"A\" grade.\n",
    "# Scores from 80 to 89 (inclusive) receive a \"B\" grade.\n",
    "# Scores from 70 to 79 (inclusive) receive a \"C\" grade.\n",
    "# Scores from 60 to 69 (inclusive) receive a \"D\" grade.\n",
    "# Scores below 60 receive an \"F\" grade.\n",
    "\n",
    "score= int(input(\"please enter your score (0-100) here: \"))\n",
    "\n",
    "if 90 <= score <= 100:\n",
    "    print(\"your grade is A\")\n",
    "elif 80 <= score <= 89:\n",
    "    print(\"your grade is B\")\n",
    "elif 70 <= score <= 79:\n",
    "    print(\"your grade is C\")\n",
    "elif 60 <= score <= 69:\n",
    "    print(\"your grade is D\")\n",
    "else:\n",
    "    print(\"your grade is F\")"
   ]
  },
  {
   "cell_type": "code",
   "execution_count": null,
   "metadata": {},
   "outputs": [],
   "source": [
    "# #Secret number\n",
    "# Create program that let user guess a secret number. In this game, the user is prompted to enter a guess for a secret number between 1 and 20. \n",
    "# They have a maximum of 5 attempts to guess the correct number. After each guess, the program provides feedback on \n",
    "# whether the guess was too low or too high. If the user guesses the correct number within the given attempts, they win the game. \n",
    "# Otherwise, the game ends and the secret number is revealed.\n",
    "\n",
    "max_n_attempts = 5\n",
    "\n",
    "user_attempt = 1\n",
    "correct_number = 15\n",
    "\n",
    "while user_attempt < max_n_attempts:\n",
    "    user_input = float(input(\"Please guess a number between 1 and 20: \"))\n",
    "    if user_input == correct_number:\n",
    "        print(\"your guess was correct\")\n",
    "        break\n",
    "    elif user_input < (correct_number):\n",
    "        print(\"your input was too low\")\n",
    "    else:\n",
    "        print(\"your input was too high\")\n",
    "    user_attempt = user_attempt+1\n",
    "\n",
    "if user_attempt == max_n_attempts:\n",
    "    print(f\"Sorry, you've used all your attempts. The correct number was {correct_number}.\")\n"
   ]
  },
  {
   "cell_type": "code",
   "execution_count": 93,
   "metadata": {},
   "outputs": [
    {
     "name": "stdout",
     "output_type": "stream",
     "text": [
      "you have three chances to enter the right pin\n",
      "Acccess granted\n",
      "Access denied\n"
     ]
    }
   ],
   "source": [
    "# Password Verification\n",
    "# Write a program that asks the user to enter a password. \n",
    "# Use a loop to allow the user three attempts to enter the correct password. \n",
    "# If the user enters the correct password, print \"Access granted\" and exit the loop using the break statement. \n",
    "# If the user fails to enter the correct password within three attempts, print \"Access denied\" and exit the loop.\n",
    "\n",
    "trials = 0\n",
    "max_trials = 3\n",
    "correct_password = \"WhateverWhenever1234\"\n",
    " \n",
    "print(\"you have three chances to enter the right pin\")\n",
    " \n",
    "while trials < max_trials:\n",
    "    guess = str(input(\"Enter your password: \"))\n",
    "\n",
    "    if guess == correct_password:\n",
    "        print(\"Acccess granted\")\n",
    "        break\n",
    "\n",
    "    trials += 1\n",
    "\n",
    "if trials == max_trials:\n",
    "    print(\"Access denied\")\n"
   ]
  },
  {
   "cell_type": "code",
   "execution_count": 57,
   "metadata": {},
   "outputs": [
    {
     "name": "stdout",
     "output_type": "stream",
     "text": [
      "it is not a prime number\n"
     ]
    }
   ],
   "source": [
    "#finding prime numbers\n",
    "\n",
    "# Write a program that asks the user to enter a positive integer. Use a loop to check if the number is prime or not.\n",
    "# If it is prime, print \"It is a prime number\" and exit the loop using the break statement.\n",
    "\n",
    "# a number is prime if it is only divisible by itself and not any other number\n",
    "import numpy as np\n",
    "pos_int = int(input(\"Please enter a positive integer greater than 2:\"))\n",
    "for i in range(2, pos_int):\n",
    "    if pos_int % i ==0:\n",
    "        print(\"it is not a prime number\")\n",
    "        break\n",
    "else: print(\"it is a prime number\")\n",
    "    "
   ]
  },
  {
   "cell_type": "code",
   "execution_count": 58,
   "metadata": {},
   "outputs": [
    {
     "name": "stdout",
     "output_type": "stream",
     "text": [
      "2\n",
      "4\n",
      "6\n",
      "8\n",
      "10\n"
     ]
    }
   ],
   "source": [
    "# Skipping Odd Numbers\n",
    "# Write a program that uses a loop to iterate through numbers from 1 to 10. \n",
    "# Print only the even numbers and skip the odd numbers using the continue statement.\n",
    "\n",
    "start = 1\n",
    "end = 10\n",
    "\n",
    "for i in range(start, end+1):\n",
    "    if i%2 ==0:\n",
    "        print(i)"
   ]
  },
  {
   "cell_type": "code",
   "execution_count": 106,
   "metadata": {},
   "outputs": [
    {
     "name": "stdout",
     "output_type": "stream",
     "text": [
      "  1 \n",
      " 2 2 \n",
      "3 3 3 \n"
     ]
    }
   ],
   "source": [
    "# Pyramid Pattern\n",
    "# Write a program that asks the user to enter a positive integer.\n",
    "#  The program should then print a pyramid pattern using numbers from 1 to the input number. The pattern should be displayed as follows:\n",
    "\n",
    "# For example, if the user enters 5, the pattern should be:\n",
    "\n",
    "#     1\n",
    "#    2 2\n",
    "#   3 3 3\n",
    "#  4 4 4 4\n",
    "# 5 5 5 5 5\n",
    "# The number of rows in the pyramid should be equal to the user's input.\n",
    "\n",
    "# Write the program using nested while loops to generate the pyramid pattern.\n",
    "\n",
    "\n",
    "#corrected my code using chatgpt\n",
    "pyramid_ht = 3\n",
    "i = 1\n",
    "\n",
    "while i < pyramid_ht + 1:\n",
    "    # Print spaces first, for pyramid alignment\n",
    "    print(\" \" * (pyramid_ht - i), end=\"\")\n",
    "    \n",
    "    # Print the numbers, repeat 'i' i times, separated by space\n",
    "    j = 1\n",
    "    while j < i + 1:\n",
    "        print(f'{i} ', end=\"\")\n",
    "        j = j + 1\n",
    "\n",
    "    print()  # Move to the next line after each row\n",
    "    i = i + 1\n"
   ]
  }
 ],
 "metadata": {
  "kernelspec": {
   "display_name": "dwwshop",
   "language": "python",
   "name": "python3"
  },
  "language_info": {
   "codemirror_mode": {
    "name": "ipython",
    "version": 3
   },
   "file_extension": ".py",
   "mimetype": "text/x-python",
   "name": "python",
   "nbconvert_exporter": "python",
   "pygments_lexer": "ipython3",
   "version": "3.11.7"
  }
 },
 "nbformat": 4,
 "nbformat_minor": 2
}
