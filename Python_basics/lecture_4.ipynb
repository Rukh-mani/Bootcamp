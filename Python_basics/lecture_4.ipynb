{
 "cells": [
  {
   "cell_type": "code",
   "execution_count": 8,
   "metadata": {},
   "outputs": [],
   "source": [
    "def add(a: int, b: int) -> str:\n",
    "    return str(a+b)"
   ]
  },
  {
   "cell_type": "code",
   "execution_count": 9,
   "metadata": {},
   "outputs": [
    {
     "data": {
      "text/plain": [
       "'7'"
      ]
     },
     "execution_count": 9,
     "metadata": {},
     "output_type": "execute_result"
    }
   ],
   "source": [
    "result: str = add(3,4)\n",
    "result"
   ]
  },
  {
   "cell_type": "code",
   "execution_count": 10,
   "metadata": {},
   "outputs": [],
   "source": [
    "bla = \"abcdef\"\n",
    "new_bla = bla.replace(\"abcdef\", \"ghifj\")\n",
    "bla, new_bla"
   ]
  },
  {
   "cell_type": "code",
   "execution_count": 18,
   "metadata": {},
   "outputs": [
    {
     "name": "stdout",
     "output_type": "stream",
     "text": [
      "I love oranges. Apples are delicious.\n",
      "I love oranges. oranges are delicious.\n"
     ]
    }
   ],
   "source": [
    "sentence = \"I love apples. Apples are delicious.\"\n",
    "new_sentence = sentence.replace(\"apples\", \"oranges\", 2) #the 2 here in position of count will not work because it is case sensitive. \n",
    "#see below when it does work.\n",
    "print(new_sentence) \n",
    "\n",
    "sentence2 = \"I love apples. apples are delicious.\"\n",
    "new_sentence2 = sentence2.replace(\"apples\", \"oranges\", 2) #here it changes it in both places since it is the same word \"apples\"\n",
    "print(new_sentence2) "
   ]
  },
  {
   "cell_type": "code",
   "execution_count": 23,
   "metadata": {},
   "outputs": [
    {
     "name": "stdout",
     "output_type": "stream",
     "text": [
      "0.7364712141640124\n",
      "9\n",
      "1.3477553305176646\n",
      "banana\n",
      "['banana', 'cherry', 'apple']\n",
      "2\n",
      "[1, 5, 4, 2, 7]\n"
     ]
    }
   ],
   "source": [
    "import random\n",
    " \n",
    "# Generating random numbers\n",
    "print(random.random())  # Random float between 0 and 1\n",
    "print(random.randint(1, 10))  # Random integer between 1 and 10\n",
    "print(random.uniform(1.0, 5.0))  # Random float between 1.0 and 5.0\n",
    " \n",
    "# Making random choices\n",
    "my_list = ['apple', 'banana', 'cherry']\n",
    "print(random.choice(my_list))  # Randomly select an element from the list\n",
    "random.shuffle(my_list)  # Randomly shuffle the list elements\n",
    "print(my_list)\n",
    " \n",
    "# Setting seed value\n",
    "random.seed(42)\n",
    "print(random.randint(1, 10))  # Generate the same random number sequence\n",
    " \n",
    "# Generating a random sample\n",
    "population = range(1, 11)\n",
    "sample = random.sample(population, 5)\n",
    "print(sample)"
   ]
  },
  {
   "cell_type": "code",
   "execution_count": 31,
   "metadata": {},
   "outputs": [
    {
     "data": {
      "text/plain": [
       "[10, 2, 3, 4]"
      ]
     },
     "execution_count": 31,
     "metadata": {},
     "output_type": "execute_result"
    }
   ],
   "source": [
    "list1 = [1, 2, 3, 4]\n",
    "list2 = list1\n",
    " \n",
    "list1[0] = 10\n",
    "\n",
    "list2 #this is because it points to the same memory location\n",
    "\n",
    "# The assignment b = a copies the value stored in variable a to the variable b. However, \n",
    "# the value stored in a is not the list itself, but rather a reference to the list.\n",
    "# Therefore, the assignment b = a copies the reference. \n",
    "# As a result, there are now two references pointing to the same memory location that contains the list"
   ]
  },
  {
   "cell_type": "code",
   "execution_count": 4,
   "metadata": {},
   "outputs": [
    {
     "name": "stdout",
     "output_type": "stream",
     "text": [
      "Total length of lines: 301141\n",
      "Total count of lines: 3001\n"
     ]
    }
   ],
   "source": [
    "#example\n",
    "with open(\"california_housing_test.csv\") as new_file:\n",
    "    count = 0\n",
    "    total_length = 0\n",
    " \n",
    "    for line in new_file:\n",
    "        count += 1\n",
    "        length = len(line)\n",
    "        total_length += length\n",
    " \n",
    "print(\"Total length of lines:\", total_length)\n",
    "print(\"Total count of lines:\", count)"
   ]
  },
  {
   "cell_type": "markdown",
   "metadata": {},
   "source": [
    "# homework"
   ]
  },
  {
   "cell_type": "code",
   "execution_count": 14,
   "metadata": {},
   "outputs": [
    {
     "data": {
      "text/plain": [
       "15"
      ]
     },
     "execution_count": 14,
     "metadata": {},
     "output_type": "execute_result"
    }
   ],
   "source": [
    "with open(\"test.txt\") as dummy_file:\n",
    "    ip_data = dummy_file.read()\n",
    "\n",
    "    # for words in ip_data:\n",
    "    #     print(words)\n",
    "    content = ip_data.split()\n",
    "    no_of_words = len(content)\n",
    "no_of_words    \n"
   ]
  },
  {
   "cell_type": "code",
   "execution_count": 31,
   "metadata": {},
   "outputs": [
    {
     "name": "stdout",
     "output_type": "stream",
     "text": [
      "      name  age  grade\n",
      "0     John   18     85\n",
      "1    Sarah   17     92\n",
      "2  Michael   19     78\n"
     ]
    },
    {
     "data": {
      "text/plain": [
       "(18.0, 85.0)"
      ]
     },
     "execution_count": 31,
     "metadata": {},
     "output_type": "execute_result"
    }
   ],
   "source": [
    "#reading csv file\n",
    "import numpy as np\n",
    "import pandas as pd\n",
    "\n",
    "df = pd.read_csv(\"test.csv\")\n",
    "\n",
    "avg_age = np.mean(df[\"age\"])\n",
    "avg_grade = np.mean(df[\"grade\"])\n",
    "\n",
    "print(df)\n",
    "avg_age, avg_grade\n",
    "\n",
    "\n"
   ]
  },
  {
   "cell_type": "code",
   "execution_count": null,
   "metadata": {},
   "outputs": [],
   "source": [
    "# Excercise - Employee Data\n",
    "# Write a program that collects employee information such as name, age, and position. \n",
    "# Prompt the user to enter this information and write it to a file called \"employee_data.txt\". \n",
    "# Each employee's information should be written as a separate entry, with each attribute separated by a comma.\n",
    "user_ip = input(\"Please enter details of employees\")\n",
    "filename= \"employee_data\"\n",
    "\n",
    "with open(\"employee_data.txt\", \"w\") as filename:\n",
    "    filename.write(user_ip)\n"
   ]
  },
  {
   "cell_type": "code",
   "execution_count": 40,
   "metadata": {},
   "outputs": [],
   "source": [
    "#excercise:\n",
    "# Guest book\n",
    "# Create a guest book program that prompts users to enter their names and writes them to a file called \"guest_book.txt\". \n",
    "# Each name should be written on a new line. The program should continue to prompt for names until the user enters \"quit\".\n",
    "\n",
    "while True: \n",
    "    user_input_name = input(\"Please enter names in the guest list: \")\n",
    "    if user_input_name == \"quit\":\n",
    "        break\n",
    "    else: \n",
    "        with open(\"guest_book.txt\", 'a') as guest_book:\n",
    "            guest_book.write(f'{user_input_name}\\n')\n",
    "\n",
    "# open('guest_book.txt', 'w').close()"
   ]
  },
  {
   "cell_type": "code",
   "execution_count": 97,
   "metadata": {},
   "outputs": [
    {
     "data": {
      "text/plain": [
       "{'John Doe': '85',\n",
       " 'Jane Smith': '92',\n",
       " 'Michael Johnson': '78',\n",
       " 'Emily Davis': '95',\n",
       " 'David Lee': '87',\n",
       " 'Sarah Wilson': '91'}"
      ]
     },
     "execution_count": 97,
     "metadata": {},
     "output_type": "execute_result"
    }
   ],
   "source": [
    "# Write a Python program that reads a text file containing student names and their corresponding scores. \n",
    "# The program should create a dictionary where the student names are the keys and their scores are the values. \n",
    "# Then, calculate and print the average score of all the students.\n",
    "\n",
    "with open(\"test.txt\") as sample_text:\n",
    "    sample_content = sample_text.read() #reading the data\n",
    "\n",
    "items = sample_content.split('\\n') #splitting it with \\n so that we remove it in sample_content = \n",
    "#'John Doe,85\\nJane Smith,92\\nMichael Johnson,78\\nEmily Davis,95\\nDavid Lee,87\\nSarah Wilson,91'\n",
    "\n",
    "items_list =[]\n",
    "for idx in items: #using the for loop to create a list of lists\n",
    "    names = idx.split(',')\n",
    "    items_list.append(names)\n",
    "\n",
    "student_dictionary = {}\n",
    "for i in range(len(items_list)):\n",
    "    for j in range(len(items_list[0])):\n",
    "        names = items_list[i][i-i]\n",
    "        scores = items_list[i][j]\n",
    "        student_dictionary[names] = scores \n",
    "\n",
    "student_dictionary\n"
   ]
  },
  {
   "cell_type": "code",
   "execution_count": 113,
   "metadata": {},
   "outputs": [
    {
     "name": "stdout",
     "output_type": "stream",
     "text": [
      "3\n",
      "2\n",
      "1\n",
      "3\n",
      "3\n",
      "2\n"
     ]
    }
   ],
   "source": [
    "# Count words and store result\n",
    "# Write a program that reads a text file containing words. \n",
    "# The program should count the frequency of each word in the file and store the results in a dictionary. \n",
    "# Then, print the words along with their frequencies in alphabetical order.\n",
    "\n",
    "with open(\"counting_words.txt\") as filename:\n",
    "    wordfile = filename.read()\n",
    "\n",
    "words = wordfile.split('\\n')\n",
    "words = words[:(len(words)-1)] #removing the empty string at last\n",
    "\n",
    "import numpy as np\n",
    "\n",
    "words_dictionary ={}\n",
    "\n",
    "for index in words:\n",
    "    print(words.count(index))\n",
    "#    words_dictionary[index] = words.count(index)\n",
    "\n",
    "# words_dictionary\n",
    "\n",
    "\n",
    "    "
   ]
  }
 ],
 "metadata": {
  "kernelspec": {
   "display_name": "dwwshop",
   "language": "python",
   "name": "python3"
  },
  "language_info": {
   "codemirror_mode": {
    "name": "ipython",
    "version": 3
   },
   "file_extension": ".py",
   "mimetype": "text/x-python",
   "name": "python",
   "nbconvert_exporter": "python",
   "pygments_lexer": "ipython3",
   "version": "3.11.7"
  }
 },
 "nbformat": 4,
 "nbformat_minor": 2
}
