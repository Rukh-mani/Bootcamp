{
 "cells": [
  {
   "cell_type": "code",
   "execution_count": 7,
   "metadata": {},
   "outputs": [],
   "source": [
    "# Employee Data\n",
    "# Write a program that collects employee information such as name, age, and position. \n",
    "# Prompt the user to enter this information and write it to a file called \"employee_data.txt\". \n",
    "# Each employee's information should be written as a separate entry, with each attribute separated by a comma.\n",
    "user_ip = input(\"Please enter details of employees\")\n",
    "filename= \"employee_data\"\n",
    "\n",
    "with open(\"employee_data.txt\", \"w\") as filename:\n",
    "    filename.write(user_ip)\n",
    "    \n",
    "\n"
   ]
  },
  {
   "cell_type": "code",
   "execution_count": 8,
   "metadata": {},
   "outputs": [],
   "source": [
    "def add(a: int, b: int) -> str:\n",
    "    return str(a+b)"
   ]
  },
  {
   "cell_type": "code",
   "execution_count": 9,
   "metadata": {},
   "outputs": [
    {
     "data": {
      "text/plain": [
       "'7'"
      ]
     },
     "execution_count": 9,
     "metadata": {},
     "output_type": "execute_result"
    }
   ],
   "source": [
    "result: str = add(3,4)\n",
    "result"
   ]
  },
  {
   "cell_type": "code",
   "execution_count": 10,
   "metadata": {},
   "outputs": [],
   "source": [
    "bla = \"abcdef\"\n",
    "new_bla = bla.replace(\"abcdef\", \"ghifj\")\n",
    "bla, new_bla"
   ]
  },
  {
   "cell_type": "code",
   "execution_count": 18,
   "metadata": {},
   "outputs": [
    {
     "name": "stdout",
     "output_type": "stream",
     "text": [
      "I love oranges. Apples are delicious.\n",
      "I love oranges. oranges are delicious.\n"
     ]
    }
   ],
   "source": [
    "sentence = \"I love apples. Apples are delicious.\"\n",
    "new_sentence = sentence.replace(\"apples\", \"oranges\", 2) #the 2 here in position of count will not work because it is case sensitive. \n",
    "#see below when it does work.\n",
    "print(new_sentence) \n",
    "\n",
    "sentence2 = \"I love apples. apples are delicious.\"\n",
    "new_sentence2 = sentence2.replace(\"apples\", \"oranges\", 2) #here it changes it in both places since it is the same word \"apples\"\n",
    "print(new_sentence2) "
   ]
  },
  {
   "cell_type": "code",
   "execution_count": 23,
   "metadata": {},
   "outputs": [
    {
     "name": "stdout",
     "output_type": "stream",
     "text": [
      "0.7364712141640124\n",
      "9\n",
      "1.3477553305176646\n",
      "banana\n",
      "['banana', 'cherry', 'apple']\n",
      "2\n",
      "[1, 5, 4, 2, 7]\n"
     ]
    }
   ],
   "source": [
    "import random\n",
    " \n",
    "# Generating random numbers\n",
    "print(random.random())  # Random float between 0 and 1\n",
    "print(random.randint(1, 10))  # Random integer between 1 and 10\n",
    "print(random.uniform(1.0, 5.0))  # Random float between 1.0 and 5.0\n",
    " \n",
    "# Making random choices\n",
    "my_list = ['apple', 'banana', 'cherry']\n",
    "print(random.choice(my_list))  # Randomly select an element from the list\n",
    "random.shuffle(my_list)  # Randomly shuffle the list elements\n",
    "print(my_list)\n",
    " \n",
    "# Setting seed value\n",
    "random.seed(42)\n",
    "print(random.randint(1, 10))  # Generate the same random number sequence\n",
    " \n",
    "# Generating a random sample\n",
    "population = range(1, 11)\n",
    "sample = random.sample(population, 5)\n",
    "print(sample)"
   ]
  },
  {
   "cell_type": "code",
   "execution_count": 31,
   "metadata": {},
   "outputs": [
    {
     "data": {
      "text/plain": [
       "[10, 2, 3, 4]"
      ]
     },
     "execution_count": 31,
     "metadata": {},
     "output_type": "execute_result"
    }
   ],
   "source": [
    "list1 = [1, 2, 3, 4]\n",
    "list2 = list1\n",
    " \n",
    "list1[0] = 10\n",
    "\n",
    "list2 #this is because it points to the same memory location\n",
    "\n",
    "# The assignment b = a copies the value stored in variable a to the variable b. However, \n",
    "# the value stored in a is not the list itself, but rather a reference to the list.\n",
    "# Therefore, the assignment b = a copies the reference. \n",
    "# As a result, there are now two references pointing to the same memory location that contains the list"
   ]
  }
 ],
 "metadata": {
  "kernelspec": {
   "display_name": "dwwshop",
   "language": "python",
   "name": "python3"
  },
  "language_info": {
   "codemirror_mode": {
    "name": "ipython",
    "version": 3
   },
   "file_extension": ".py",
   "mimetype": "text/x-python",
   "name": "python",
   "nbconvert_exporter": "python",
   "pygments_lexer": "ipython3",
   "version": "3.11.7"
  }
 },
 "nbformat": 4,
 "nbformat_minor": 2
}
