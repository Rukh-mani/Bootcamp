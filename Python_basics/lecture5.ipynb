{
 "cells": [
  {
   "cell_type": "markdown",
   "metadata": {},
   "source": [
    "# classes and objects"
   ]
  },
  {
   "cell_type": "markdown",
   "metadata": {},
   "source": [
    "# homework"
   ]
  },
  {
   "cell_type": "code",
   "execution_count": null,
   "metadata": {},
   "outputs": [],
   "source": [
    "# Error Handling in Python\n",
    "# Your task is to create a program that performs a series of mathematical calculations based on user input. \n",
    "# However, you need to incorporate error handling to ensure that the program gracefully handles any potential errors that may arise during the calculations.\n",
    "\n",
    "# Requirements:\n",
    "\n",
    "# Write a Python program that prompts the user to enter two numbers and an operator (+, -, *, /).\n",
    "# Implement error handling mechanisms to handle the following scenarios:\n",
    "# Division by zero (ZeroDivisionError)\n",
    "# Invalid input for numbers (ValueError)\n",
    "# Invalid input for the operator (ValueError or KeyError)\n",
    "# Any other unexpected errors (Exception)\n",
    "# Include appropriate error messages for each specific error scenario.\n",
    "# Ensure that the program continues to execute and prompts the user for new input after handling an error.\n",
    "# Test the program with different inputs to ensure the error handling is working correctly."
   ]
  },
  {
   "cell_type": "code",
   "execution_count": null,
   "metadata": {},
   "outputs": [
    {
     "name": "stdout",
     "output_type": "stream",
     "text": [
      "'@'\n",
      "Invalid input of numbers. Please try again\n",
      "Invalid input of numbers. Please try again\n",
      "Invalid input of numbers. Please try again\n"
     ]
    }
   ],
   "source": [
    "def error_handling(): #you can define functions that dont take any arguements!!\n",
    "    import operator\n",
    "    user_input = input(\"Please enters two numbers and an operator please. They must be seperated by commas\")\n",
    "    user_input = user_input.split(',')\n",
    "\n",
    "    operators = {\"+\": operator.add, \"-\": operator.sub, \"*\": operator.mul, \"/\": operator.truediv }\n",
    "\n",
    "    number_1 = int(user_input[0])\n",
    "    number_2 = int(user_input[1])\n",
    "    operatorinput_ = operators[user_input[2]] #returns: <function _operator.add(a, b, /)>\n",
    "    result = operatorinput_(number_1, number_2)\n",
    "    return result\n",
    "\n",
    "while True: \n",
    "    try:\n",
    "        output = error_handling()\n",
    "        print(f'the output of my function is {output}')\n",
    "        break\n",
    "    except ZeroDivisionError:\n",
    "        print(\"cannot be divided by zero, enter another number\")\n",
    "        continue\n",
    "\n",
    "    except ValueError:\n",
    "        print(\"Invalid input of numbers. Please try again\")\n",
    "        continue\n",
    "\n",
    "    except ValueError:\n",
    "        print(\"Invalid input of operators. Please try again\")\n",
    "        continue\n",
    "\n",
    "    except Exception as err:\n",
    "        print(err)"
   ]
  },
  {
   "cell_type": "code",
   "execution_count": null,
   "metadata": {},
   "outputs": [],
   "source": [
    "# Circle\n",
    "# Create a class called Circle. The class should have the following methods:\n",
    "\n",
    "# __init__(self, radius): Initializes the radius of the circle.\n",
    "# calculate_area(self): Calculates and returns the area of the circle.\n",
    "# calculate_circumference(self): Calculates and returns the circumference of the circle.\n",
    "# Write a program to create an instance of the Circle class with radius 7. Print the area and circumference of the circle.\n",
    "\n"
   ]
  },
  {
   "cell_type": "code",
   "execution_count": 16,
   "metadata": {},
   "outputs": [
    {
     "name": "stdout",
     "output_type": "stream",
     "text": [
      "area of the circle is 50.26548245743669\n",
      "circumference of the circle is 25.132741228718345\n"
     ]
    }
   ],
   "source": [
    "import numpy as np\n",
    "class Circle:\n",
    "    \n",
    "    def __init__(self, radius):\n",
    "        self.radius = radius\n",
    "\n",
    "    def calculate_area(self):\n",
    "        area_circle = np.pi * (self.radius)**2\n",
    "        print(f'area of the circle is {area_circle}')\n",
    "    \n",
    "    def calculate_circumference(self):\n",
    "        circa_circle = 2 * np.pi*self.radius\n",
    "        print(f'circumference of the circle is {circa_circle}')\n",
    "    \n",
    "\n",
    "radius = int(input(\"please enter an integer\"))\n",
    "\n",
    "#creating instances of the class\n",
    "\n",
    "circle_class = Circle(radius)\n",
    "\n",
    "#calling area and circumference methods on the class\n",
    "\n",
    "area_of_circle = circle_class.calculate_area()\n",
    "circumference_of_Circle = circle_class.calculate_circumference()\n"
   ]
  },
  {
   "cell_type": "code",
   "execution_count": null,
   "metadata": {},
   "outputs": [],
   "source": [
    "# Book\n",
    "# Create a class called Book. The class should have the following methods:\n",
    "\n",
    "# __init__(self, title, author, year): Initializes the title, author, and year of the book.\n",
    "# get_book_info(self): Returns a string containing the information of the book in the format \"Title: [title], Author: [author], Year: [year]\".\n",
    "# Write a program to create an instance of the Book class with title \"To Kill a Mockingbird\",\n",
    "# author \"Harper Lee\", and year 1960. Use the get_book_info() method to print the book's information."
   ]
  },
  {
   "cell_type": "code",
   "execution_count": 19,
   "metadata": {},
   "outputs": [
    {
     "name": "stdout",
     "output_type": "stream",
     "text": [
      "Book information --> Title: To kill a mocking bird, Author: Harper Lee, Year: 1960\n"
     ]
    }
   ],
   "source": [
    "class Book:\n",
    "    def __init__(self, title, author, year):\n",
    "        self.title = title\n",
    "        self.author = author\n",
    "        self.year = year\n",
    "    \n",
    "    def get_book_info(self):\n",
    "        print(f'Book information --> Title: {self.title}, Author: {self.author}, Year: {self.year}')\n",
    "\n",
    "#creating an instance of book class\n",
    "\n",
    "book_class = Book(\"To kill a mocking bird\", \"Harper Lee\", \"1960\")\n",
    "\n",
    "#calling method on book class\n",
    "book_class.get_book_info()\n"
   ]
  },
  {
   "cell_type": "code",
   "execution_count": null,
   "metadata": {},
   "outputs": [
    {
     "name": "stdout",
     "output_type": "stream",
     "text": [
      "An error occurred:  Invalid input for the operator. Please enter a valid operator.\n",
      "An error occurred:  Invalid input. Please enter valid numbers or operators.\n"
     ]
    }
   ],
   "source": [
    "def calculator(num1:int, num2:int, operator:str):\n",
    "  if operator not in '+-*/':\n",
    "    raise ValueError('Invalid input for the operator. Please enter a valid operator.')\n",
    "  if type(num1 or num2) != float:\n",
    "    raise ValueError('Invalid input. Please enter valid numbers or operators.')\n",
    "  if operator == '+':\n",
    "    return num1 + num2\n",
    "  if operator == '-':\n",
    "    return num1 - num2\n",
    "  if operator == '*':\n",
    "    return num1 * num2\n",
    "  if operator == '/':\n",
    "    return num1/num2\n",
    "\n",
    "while True:\n",
    "  try:\n",
    "    n1 = input(\"Enter the first number: \")\n",
    "    n2 = input(\"Enter the second number: \")\n",
    "    op = input(\"Enter the operator (+, -, *, /): \")\n",
    "    print('Result:', calculator(n1, n2, op))\n",
    "    break\n",
    "  except ZeroDivisionError as zde:\n",
    "    print(str('Division by zero is not allowed. Please enter valid numbers and operator.'))\n",
    "  except Exception as e:\n",
    "    print('An error occurred: ', str(e))"
   ]
  }
 ],
 "metadata": {
  "kernelspec": {
   "display_name": "dwwshop",
   "language": "python",
   "name": "python3"
  },
  "language_info": {
   "codemirror_mode": {
    "name": "ipython",
    "version": 3
   },
   "file_extension": ".py",
   "mimetype": "text/x-python",
   "name": "python",
   "nbconvert_exporter": "python",
   "pygments_lexer": "ipython3",
   "version": "3.11.7"
  }
 },
 "nbformat": 4,
 "nbformat_minor": 2
}
