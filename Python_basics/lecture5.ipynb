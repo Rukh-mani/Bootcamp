{
 "cells": [
  {
   "cell_type": "markdown",
   "metadata": {},
   "source": [
    "# classes and objects"
   ]
  },
  {
   "cell_type": "markdown",
   "metadata": {},
   "source": [
    "# homework"
   ]
  },
  {
   "cell_type": "code",
   "execution_count": null,
   "metadata": {},
   "outputs": [],
   "source": [
    "# Error Handling in Python\n",
    "# Your task is to create a program that performs a series of mathematical calculations based on user input. \n",
    "# However, you need to incorporate error handling to ensure that the program gracefully handles any potential errors that may arise during the calculations.\n",
    "\n",
    "# Requirements:\n",
    "\n",
    "# Write a Python program that prompts the user to enter two numbers and an operator (+, -, *, /).\n",
    "# Implement error handling mechanisms to handle the following scenarios:\n",
    "# Division by zero (ZeroDivisionError)\n",
    "# Invalid input for numbers (ValueError)\n",
    "# Invalid input for the operator (ValueError or KeyError)\n",
    "# Any other unexpected errors (Exception)\n",
    "# Include appropriate error messages for each specific error scenario.\n",
    "# Ensure that the program continues to execute and prompts the user for new input after handling an error.\n",
    "# Test the program with different inputs to ensure the error handling is working correctly."
   ]
  },
  {
   "cell_type": "code",
   "execution_count": null,
   "metadata": {},
   "outputs": [
    {
     "name": "stdout",
     "output_type": "stream",
     "text": [
      "the output of my function is 5\n"
     ]
    }
   ],
   "source": [
    "def error_handling(): #you can define functions that dont take any arguements!!\n",
    "    import operator\n",
    "    user_input = input(\"Please enters two numbers and an operator please. They must be seperated by commas\")\n",
    "    user_input = user_input.split(',')\n",
    "\n",
    "    operators = {\"+\": operator.add, \"-\": operator.sub, \"*\": operator.mul, \"/\": operator.truediv }\n",
    "\n",
    "    number_1 = int(user_input[0])\n",
    "    number_2 = int(user_input[1])\n",
    "    operatorinput_ = operators[user_input[2]] #returns: <function _operator.add(a, b, /)>\n",
    "    result = operatorinput_(number_1, number_2)\n",
    "    return result\n",
    "\n",
    "while True: \n",
    "    try:\n",
    "        output = error_handling()\n",
    "        print(f'the output of my function is {output}')\n",
    "        break\n",
    "    except ZeroDivisionError:\n",
    "        print(\"cannot be divided by zero, enter another number\")\n",
    "        continue\n",
    "\n",
    "    except ValueError:\n",
    "        print(\"Invalid input of numbers. Please try again\")\n",
    "        continue\n",
    "\n",
    "    except KeyError:\n",
    "        print(\"Invalid input of operators. Please try again\")\n",
    "\n",
    "    except Exception as err:\n",
    "        print(err)"
   ]
  },
  {
   "cell_type": "code",
   "execution_count": null,
   "metadata": {},
   "outputs": [],
   "source": [
    "# Book\n",
    "# Create a class called Book. The class should have the following methods:\n",
    "\n",
    "# __init__(self, title, author, year): Initializes the title, author, and year of the book.\n",
    "# get_book_info(self): Returns a string containing the information of the book in the format \"Title: [title], Author: [author], Year: [year]\".\n",
    "# Write a program to create an instance of the Book class with title \"To Kill a Mockingbird\",\n",
    "# author \"Harper Lee\", and year 1960. Use the get_book_info() method to print the book's information."
   ]
  }
 ],
 "metadata": {
  "kernelspec": {
   "display_name": "dwwshop",
   "language": "python",
   "name": "python3"
  },
  "language_info": {
   "codemirror_mode": {
    "name": "ipython",
    "version": 3
   },
   "file_extension": ".py",
   "mimetype": "text/x-python",
   "name": "python",
   "nbconvert_exporter": "python",
   "pygments_lexer": "ipython3",
   "version": "3.11.7"
  }
 },
 "nbformat": 4,
 "nbformat_minor": 2
}
