{
 "cells": [
  {
   "cell_type": "code",
   "execution_count": 3,
   "metadata": {},
   "outputs": [
    {
     "name": "stdout",
     "output_type": "stream",
     "text": [
      "720\n"
     ]
    }
   ],
   "source": [
    "#excercise - factorial\n",
    "number = int(input(\"please give an input number: \"))\n",
    "factorial = 1\n",
    "for i in range(1, number+1):\n",
    "    factorial = i*factorial\n",
    "\n",
    "print(factorial)"
   ]
  },
  {
   "cell_type": "code",
   "execution_count": 10,
   "metadata": {},
   "outputs": [
    {
     "data": {
      "text/plain": [
       "0.34124427633889276"
      ]
     },
     "execution_count": 10,
     "metadata": {},
     "output_type": "execute_result"
    }
   ],
   "source": [
    "import numpy as np\n",
    "random_array = np.random.rand(1,5)\n",
    "\n",
    "new_list = [random_array, 2, 3, 4, 5]\n",
    "new_list[0][0][0]"
   ]
  },
  {
   "cell_type": "markdown",
   "metadata": {},
   "source": [
    "HOMEWORK"
   ]
  },
  {
   "cell_type": "code",
   "execution_count": 26,
   "metadata": {},
   "outputs": [
    {
     "name": "stdout",
     "output_type": "stream",
     "text": [
      "1\n",
      "4\n",
      "9\n",
      "16\n",
      "25\n"
     ]
    }
   ],
   "source": [
    "# Square of a number\n",
    "# Write a program that takes a list of numbers as input and prints the square of each number using a \"for each\" loop.\n",
    "\n",
    "input_list = input(\"please input numbers one by one to form a list: \")  # the result will be a string\n",
    "input_list = input_list.split(\" \")  # Make sure to store the split result\n",
    "\n",
    "for item in input_list: #converting the string into a proper list with indexable elements\n",
    "    new_item = int(item)\n",
    "    print(new_item**2)"
   ]
  },
  {
   "cell_type": "code",
   "execution_count": 38,
   "metadata": {},
   "outputs": [
    {
     "name": "stdout",
     "output_type": "stream",
     "text": [
      "15\n"
     ]
    }
   ],
   "source": [
    "# Vowel count\n",
    "# Create a program that prompts the user to enter a sentence. \n",
    "# Using a \"for each\" loop, iterate through each character in the sentence and count the number of vowels (a, e, i, o, u) present. \n",
    "# Print the total count of vowels at the end.\n",
    "\n",
    "input_str = input(\"Please enter a sentence: \")\n",
    "\n",
    "vowel_list =['a','e','i','o','u']\n",
    "vowel_in_sentence = []\n",
    "\n",
    "for i in range(len(input_str)): #dont need range(len(input_str)+1) since we are also only considering index from 0 to the (len(input_str)-1)th character in the str\n",
    "    for j in range(len(vowel_list)):\n",
    "        if input_str[i] == vowel_list[j]:\n",
    "            vowel_in_sentence.append(input_str[i])\n",
    "\n",
    "total_number_of_vowels = len(vowel_in_sentence)\n",
    "print(total_number_of_vowels) "
   ]
  },
  {
   "cell_type": "code",
   "execution_count": null,
   "metadata": {},
   "outputs": [],
   "source": [
    "#prev excercise alternate solution\n",
    "\n",
    "input_str = input(\"Please enter a sentence: \")\n",
    "vowel_list = ['a', 'e', 'i', 'o', 'u']\n",
    "vowel_in_sentence = []\n",
    "\n",
    "for i in range(len(input_str)):\n",
    "    if input_str[i] in vowel_list:\n",
    "        vowel_in_sentence.append(input_str[i])\n",
    "\n",
    "# Print the count of vowels\n",
    "print(\"Total number of vowels:\", len(vowel_in_sentence))"
   ]
  },
  {
   "cell_type": "code",
   "execution_count": 41,
   "metadata": {},
   "outputs": [
    {
     "name": "stdout",
     "output_type": "stream",
     "text": [
      "Multiplication of 2 x 1 = 2 \n",
      "Multiplication of 2 x 2 = 4 \n",
      "Multiplication of 2 x 3 = 6 \n",
      "Multiplication of 2 x 4 = 8 \n",
      "Multiplication of 2 x 5 = 10 \n",
      "Multiplication of 2 x 6 = 12 \n",
      "Multiplication of 2 x 7 = 14 \n",
      "Multiplication of 2 x 8 = 16 \n",
      "Multiplication of 2 x 9 = 18 \n",
      "Multiplication of 2 x 10 = 20 \n"
     ]
    }
   ],
   "source": [
    "# Multiplication table\n",
    "# Write a program that generates a multiplication table for a given number using a \"for range()\" loop. \n",
    "# The program should prompt the user to enter a number, and then use a loop to display the multiplication table for that number up to 10.\n",
    "\n",
    "user_ip = int(input(\"Please give an input number\"))\n",
    "mul_table=[]\n",
    "\n",
    "for i in range(1,11):\n",
    "    multi = i*user_ip\n",
    "    mul_table.append(multi)\n",
    "    print(f\"Multiplication of {user_ip} x {i} = {multi} \")\n"
   ]
  },
  {
   "cell_type": "code",
   "execution_count": 50,
   "metadata": {},
   "outputs": [
    {
     "name": "stdout",
     "output_type": "stream",
     "text": [
      "aby\n",
      "archie\n"
     ]
    }
   ],
   "source": [
    "# Starts with A\n",
    "# Create a program that takes a list of names as input. \n",
    "# Using a \"for each\" loop, iterate through each name and check if it starts with the letter \"A\". Print out only the names that start with \"A\".\n",
    "\n",
    "# Feel free to adjust the complexity or add more requirements to these exercises as needed.\n",
    "\n",
    "list_names = input(\"Please enter a list of names\")\n",
    "list_names = list_names.split(\",\")\n",
    "\n",
    "for name in (list_names):\n",
    "    if 'a' in name[0]:\n",
    "        print(name)"
   ]
  },
  {
   "cell_type": "code",
   "execution_count": null,
   "metadata": {},
   "outputs": [],
   "source": [
    "#alternate solution\n",
    "\n",
    "names = [\"Alice\", \"Bob\", \"Amy\", \"John\", \"Alex\"]\n",
    " \n",
    "for name in names:\n",
    "    if name.startswith(\"A\"):\n",
    "        print(name)"
   ]
  },
  {
   "cell_type": "code",
   "execution_count": 51,
   "metadata": {},
   "outputs": [],
   "source": [
    "# Average of a list\n",
    "# Write a function called average that takes a list of numbers as input and returns the average (mean) of those numbers.\n",
    "\n",
    "def avg_list(list_numbers):\n",
    "    average = sum(list_numbers)/len(list_numbers)\n",
    "    return average\n",
    "\n",
    "dummy_list = [1,2,3,4,5,6,7,8,9,10]\n",
    "avg_list(dummy_list)"
   ]
  },
  {
   "cell_type": "code",
   "execution_count": 57,
   "metadata": {},
   "outputs": [
    {
     "data": {
      "text/plain": [
       "[2, 22, 96]"
      ]
     },
     "execution_count": 57,
     "metadata": {},
     "output_type": "execute_result"
    }
   ],
   "source": [
    "# Even numbers\n",
    "# Write a function called even_numbers that takes a list of numbers as input and \n",
    "# returns a new list containing only the even numbers from the original list.\n",
    "\n",
    "# Show solution\n",
    "\n",
    "def even_nos(nums):\n",
    "    empty_list=[]\n",
    "\n",
    "    for i in nums:\n",
    "        if i%2 ==0:\n",
    "            empty_list.append(i)\n",
    "    return empty_list\n",
    "\n",
    "even_nos([2,5,22,87,96])"
   ]
  },
  {
   "cell_type": "code",
   "execution_count": 69,
   "metadata": {},
   "outputs": [
    {
     "data": {
      "text/plain": [
       "10"
      ]
     },
     "execution_count": 69,
     "metadata": {},
     "output_type": "execute_result"
    }
   ],
   "source": [
    "# Largest number\n",
    "# Write a function called largest_number that takes a list of numbers as input and \n",
    "# returns the largest number in the list.\n",
    "\n",
    "def largest_num(num_list):\n",
    "    num_list.sort()\n",
    "    final_ans = num_list[-1]\n",
    "\n",
    "    return final_ans\n",
    "\n",
    "largest_num(dummy_list)"
   ]
  }
 ],
 "metadata": {
  "kernelspec": {
   "display_name": "dwwshop",
   "language": "python",
   "name": "python3"
  },
  "language_info": {
   "codemirror_mode": {
    "name": "ipython",
    "version": 3
   },
   "file_extension": ".py",
   "mimetype": "text/x-python",
   "name": "python",
   "nbconvert_exporter": "python",
   "pygments_lexer": "ipython3",
   "version": "3.11.7"
  }
 },
 "nbformat": 4,
 "nbformat_minor": 2
}
