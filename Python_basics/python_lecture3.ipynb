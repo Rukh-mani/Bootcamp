{
 "cells": [
  {
   "cell_type": "code",
   "execution_count": 3,
   "metadata": {},
   "outputs": [
    {
     "name": "stdout",
     "output_type": "stream",
     "text": [
      "720\n"
     ]
    }
   ],
   "source": [
    "#excercise - factorial\n",
    "number = int(input(\"please give an input number: \"))\n",
    "factorial = 1\n",
    "for i in range(1, number+1):\n",
    "    factorial = i*factorial\n",
    "\n",
    "print(factorial)"
   ]
  },
  {
   "cell_type": "code",
   "execution_count": 10,
   "metadata": {},
   "outputs": [
    {
     "data": {
      "text/plain": [
       "0.34124427633889276"
      ]
     },
     "execution_count": 10,
     "metadata": {},
     "output_type": "execute_result"
    }
   ],
   "source": [
    "import numpy as np\n",
    "random_array = np.random.rand(1,5)\n",
    "\n",
    "new_list = [random_array, 2, 3, 4, 5]\n",
    "new_list[0][0][0]"
   ]
  },
  {
   "cell_type": "markdown",
   "metadata": {},
   "source": [
    "HOMEWORK"
   ]
  },
  {
   "cell_type": "code",
   "execution_count": 26,
   "metadata": {},
   "outputs": [
    {
     "name": "stdout",
     "output_type": "stream",
     "text": [
      "1\n",
      "4\n",
      "9\n",
      "16\n",
      "25\n"
     ]
    }
   ],
   "source": [
    "# Square of a number\n",
    "# Write a program that takes a list of numbers as input and prints the square of each number using a \"for each\" loop.\n",
    "\n",
    "input_list = input(\"please input numbers one by one to form a list: \")  # the result will be a string\n",
    "input_list = input_list.split(\" \")  # Make sure to store the split result\n",
    "\n",
    "for item in input_list: #converting the string into a proper list with indexable elements\n",
    "    new_item = int(item)\n",
    "    print(new_item**2)"
   ]
  },
  {
   "cell_type": "code",
   "execution_count": 38,
   "metadata": {},
   "outputs": [
    {
     "name": "stdout",
     "output_type": "stream",
     "text": [
      "15\n"
     ]
    }
   ],
   "source": [
    "# Vowel count\n",
    "# Create a program that prompts the user to enter a sentence. \n",
    "# Using a \"for each\" loop, iterate through each character in the sentence and count the number of vowels (a, e, i, o, u) present. \n",
    "# Print the total count of vowels at the end.\n",
    "\n",
    "input_str = input(\"Please enter a sentence: \")\n",
    "\n",
    "vowel_list =['a','e','i','o','u']\n",
    "vowel_in_sentence = []\n",
    "\n",
    "for i in range(len(input_str)): #dont need range(len(input_str)+1) since we are also only considering index from 0 to the (len(input_str)-1)th character in the str\n",
    "    for j in range(len(vowel_list)):\n",
    "        if input_str[i] == vowel_list[j]:\n",
    "            vowel_in_sentence.append(input_str[i])\n",
    "\n",
    "total_number_of_vowels = len(vowel_in_sentence)\n",
    "print(total_number_of_vowels) "
   ]
  },
  {
   "cell_type": "code",
   "execution_count": null,
   "metadata": {},
   "outputs": [],
   "source": [
    "#prev excercise alternate solution\n",
    "\n",
    "input_str = input(\"Please enter a sentence: \")\n",
    "vowel_list = ['a', 'e', 'i', 'o', 'u']\n",
    "vowel_in_sentence = []\n",
    "\n",
    "for i in range(len(input_str)):\n",
    "    if input_str[i] in vowel_list:\n",
    "        vowel_in_sentence.append(input_str[i])\n",
    "\n",
    "# Print the count of vowels\n",
    "print(\"Total number of vowels:\", len(vowel_in_sentence))"
   ]
  },
  {
   "cell_type": "code",
   "execution_count": 41,
   "metadata": {},
   "outputs": [
    {
     "name": "stdout",
     "output_type": "stream",
     "text": [
      "Multiplication of 2 x 1 = 2 \n",
      "Multiplication of 2 x 2 = 4 \n",
      "Multiplication of 2 x 3 = 6 \n",
      "Multiplication of 2 x 4 = 8 \n",
      "Multiplication of 2 x 5 = 10 \n",
      "Multiplication of 2 x 6 = 12 \n",
      "Multiplication of 2 x 7 = 14 \n",
      "Multiplication of 2 x 8 = 16 \n",
      "Multiplication of 2 x 9 = 18 \n",
      "Multiplication of 2 x 10 = 20 \n"
     ]
    }
   ],
   "source": [
    "# Multiplication table\n",
    "# Write a program that generates a multiplication table for a given number using a \"for range()\" loop. \n",
    "# The program should prompt the user to enter a number, and then use a loop to display the multiplication table for that number up to 10.\n",
    "\n",
    "user_ip = int(input(\"Please give an input number\"))\n",
    "mul_table=[]\n",
    "\n",
    "for i in range(1,11):\n",
    "    multi = i*user_ip\n",
    "    mul_table.append(multi)\n",
    "    print(f\"Multiplication of {user_ip} x {i} = {multi} \")\n"
   ]
  },
  {
   "cell_type": "code",
   "execution_count": 50,
   "metadata": {},
   "outputs": [
    {
     "name": "stdout",
     "output_type": "stream",
     "text": [
      "aby\n",
      "archie\n"
     ]
    }
   ],
   "source": [
    "# Starts with A\n",
    "# Create a program that takes a list of names as input. \n",
    "# Using a \"for each\" loop, iterate through each name and check if it starts with the letter \"A\". Print out only the names that start with \"A\".\n",
    "\n",
    "# Feel free to adjust the complexity or add more requirements to these exercises as needed.\n",
    "\n",
    "list_names = input(\"Please enter a list of names\")\n",
    "list_names = list_names.split(\",\")\n",
    "\n",
    "for name in (list_names):\n",
    "    if 'a' in name[0]:\n",
    "        print(name)"
   ]
  },
  {
   "cell_type": "code",
   "execution_count": null,
   "metadata": {},
   "outputs": [],
   "source": [
    "#alternate solution\n",
    "\n",
    "names = [\"Alice\", \"Bob\", \"Amy\", \"John\", \"Alex\"]\n",
    " \n",
    "for name in names:\n",
    "    if name.startswith(\"A\"):\n",
    "        print(name)"
   ]
  },
  {
   "cell_type": "code",
   "execution_count": 51,
   "metadata": {},
   "outputs": [],
   "source": [
    "# Average of a list\n",
    "# Write a function called average that takes a list of numbers as input and returns the average (mean) of those numbers.\n",
    "\n",
    "def avg_list(list_numbers):\n",
    "    average = sum(list_numbers)/len(list_numbers)\n",
    "    return average\n",
    "\n",
    "dummy_list = [1,2,3,4,5,6,7,8,9,10]\n",
    "avg_list(dummy_list)"
   ]
  },
  {
   "cell_type": "code",
   "execution_count": 57,
   "metadata": {},
   "outputs": [
    {
     "data": {
      "text/plain": [
       "[2, 22, 96]"
      ]
     },
     "execution_count": 57,
     "metadata": {},
     "output_type": "execute_result"
    }
   ],
   "source": [
    "# Even numbers\n",
    "# Write a function called even_numbers that takes a list of numbers as input and \n",
    "# returns a new list containing only the even numbers from the original list.\n",
    "\n",
    "# Show solution\n",
    "\n",
    "def even_nos(nums):\n",
    "    empty_list=[]\n",
    "\n",
    "    for i in nums:\n",
    "        if i%2 ==0:\n",
    "            empty_list.append(i)\n",
    "    return empty_list\n",
    "\n",
    "even_nos([2,5,22,87,96])"
   ]
  },
  {
   "cell_type": "code",
   "execution_count": 69,
   "metadata": {},
   "outputs": [
    {
     "data": {
      "text/plain": [
       "10"
      ]
     },
     "execution_count": 69,
     "metadata": {},
     "output_type": "execute_result"
    }
   ],
   "source": [
    "# Largest number\n",
    "# Write a function called largest_number that takes a list of numbers as input and \n",
    "# returns the largest number in the list.\n",
    "\n",
    "def largest_num(num_list):\n",
    "    num_list.sort()\n",
    "    final_ans = num_list[-1]\n",
    "\n",
    "    return final_ans\n",
    "\n",
    "largest_num(dummy_list)"
   ]
  },
  {
   "cell_type": "code",
   "execution_count": 1,
   "metadata": {},
   "outputs": [
    {
     "ename": "IndentationError",
     "evalue": "expected an indented block after 'for' statement on line 5 (4201342427.py, line 6)",
     "output_type": "error",
     "traceback": [
      "\u001b[1;36m  Cell \u001b[1;32mIn[1], line 6\u001b[1;36m\u001b[0m\n\u001b[1;33m    if word not in unique_words:\u001b[0m\n\u001b[1;37m    ^\u001b[0m\n\u001b[1;31mIndentationError\u001b[0m\u001b[1;31m:\u001b[0m expected an indented block after 'for' statement on line 5\n"
     ]
    }
   ],
   "source": [
    "#word frequency analyzer\n",
    "def analyze_word_frequency(sentence):\n",
    "    words = sentence.split()\n",
    "    unique_words = []\n",
    "    for word in words:\n",
    "        if word not in unique_words:\n",
    "            unique_words.append(word)\n",
    "    for word in unique_words:\n",
    "        frequency = words.count(word)\n",
    "        print(f\"- Word: {word}, Frequency: {frequency}\")\n",
    " \n"
   ]
  },
  {
   "cell_type": "code",
   "execution_count": 27,
   "metadata": {},
   "outputs": [
    {
     "data": {
      "text/plain": [
       "[[1, 2, 3], [4, 5, 6], [7, 8, 9], [1, 2, 3]]"
      ]
     },
     "execution_count": 27,
     "metadata": {},
     "output_type": "execute_result"
    }
   ],
   "source": [
    "matrix = [[1, 2, 3], [4, 5, 6], [7, 8, 9], [1,2,3]]\n",
    "matrix"
   ]
  },
  {
   "cell_type": "code",
   "execution_count": 24,
   "metadata": {},
   "outputs": [
    {
     "data": {
      "text/plain": [
       "[[1, 4, 7, 1], [2, 5, 8, 2], [3, 6, 9, 3]]"
      ]
     },
     "execution_count": 24,
     "metadata": {},
     "output_type": "execute_result"
    }
   ],
   "source": [
    "import numpy as np\n",
    "np.transpose(matrix).tolist()"
   ]
  },
  {
   "cell_type": "code",
   "execution_count": 36,
   "metadata": {},
   "outputs": [
    {
     "name": "stdout",
     "output_type": "stream",
     "text": [
      "[0, 0, 0, 0]\n",
      "[0, 0, 0, 0]\n",
      "[0, 0, 0, 0]\n",
      "[0, 0, 0, 0]\n",
      "\n"
     ]
    },
    {
     "data": {
      "text/plain": [
       "[[0, 0, 0, 0], [0, 0, 0, 0], [0, 0, 0, 0]]"
      ]
     },
     "execution_count": 36,
     "metadata": {},
     "output_type": "execute_result"
    }
   ],
   "source": [
    "bla =transpose_matrix_zeros(matrix)\n",
    "bla"
   ]
  },
  {
   "cell_type": "code",
   "execution_count": 38,
   "metadata": {},
   "outputs": [
    {
     "data": {
      "text/plain": [
       "[[1, 2, 3], [4, 5, 6], [7, 8, 9], [1, 2, 3]]"
      ]
     },
     "execution_count": 38,
     "metadata": {},
     "output_type": "execute_result"
    }
   ],
   "source": [
    "matrix"
   ]
  },
  {
   "cell_type": "code",
   "execution_count": 39,
   "metadata": {},
   "outputs": [],
   "source": [
    "for l in range(len(matrix)):\n",
    "    for i in range(len(matrix[0])):\n",
    "      bla[i][l] = matrix[l][i]"
   ]
  },
  {
   "cell_type": "code",
   "execution_count": 40,
   "metadata": {},
   "outputs": [
    {
     "data": {
      "text/plain": [
       "[[3, 6, 9, 3], [3, 6, 9, 3], [3, 6, 9, 3]]"
      ]
     },
     "execution_count": 40,
     "metadata": {},
     "output_type": "execute_result"
    }
   ],
   "source": [
    "bla"
   ]
  },
  {
   "cell_type": "code",
   "execution_count": 26,
   "metadata": {},
   "outputs": [
    {
     "name": "stdout",
     "output_type": "stream",
     "text": [
      "[4, 5, 6, 7]\n",
      "[7, 8, 9, 10]\n",
      "['a', 'b', 'c', 'd']\n",
      "\n",
      "3\n",
      "--------------\n",
      "[0, 0, 0]\n",
      "[0, 0, 0]\n",
      "[0, 0, 0]\n",
      "[0, 0, 0]\n",
      "[0, 0, 0]\n",
      "\n",
      "l: 0  i: 0 ....    4\n",
      "           ....     4\n",
      "[4, 0, 0]\n",
      "[4, 0, 0]\n",
      "[4, 0, 0]\n",
      "[4, 0, 0]\n",
      "\n",
      "l: 0  i: 1 ....    5\n",
      "           ....     5\n",
      "[5, 0, 0]\n",
      "[5, 0, 0]\n",
      "[5, 0, 0]\n",
      "[5, 0, 0]\n",
      "\n",
      "l: 0  i: 2 ....    6\n",
      "           ....     6\n",
      "[6, 0, 0]\n",
      "[6, 0, 0]\n",
      "[6, 0, 0]\n",
      "[6, 0, 0]\n",
      "\n",
      "l: 0  i: 3 ....    7\n",
      "           ....     7\n",
      "[7, 0, 0]\n",
      "[7, 0, 0]\n",
      "[7, 0, 0]\n",
      "[7, 0, 0]\n",
      "\n",
      "l: 1  i: 0 ....    7\n",
      "           ....     7\n",
      "[7, 7, 0]\n",
      "[7, 7, 0]\n",
      "[7, 7, 0]\n",
      "[7, 7, 0]\n",
      "\n",
      "l: 1  i: 1 ....    8\n",
      "           ....     8\n",
      "[7, 8, 0]\n",
      "[7, 8, 0]\n",
      "[7, 8, 0]\n",
      "[7, 8, 0]\n",
      "\n",
      "l: 1  i: 2 ....    9\n",
      "           ....     9\n",
      "[7, 9, 0]\n",
      "[7, 9, 0]\n",
      "[7, 9, 0]\n",
      "[7, 9, 0]\n",
      "\n",
      "l: 1  i: 3 ....    10\n",
      "           ....     10\n",
      "[7, 10, 0]\n",
      "[7, 10, 0]\n",
      "[7, 10, 0]\n",
      "[7, 10, 0]\n",
      "\n",
      "l: 2  i: 0 ....    a\n",
      "           ....     a\n",
      "[7, 10, 'a']\n",
      "[7, 10, 'a']\n",
      "[7, 10, 'a']\n",
      "[7, 10, 'a']\n",
      "\n",
      "l: 2  i: 1 ....    b\n",
      "           ....     b\n",
      "[7, 10, 'b']\n",
      "[7, 10, 'b']\n",
      "[7, 10, 'b']\n",
      "[7, 10, 'b']\n",
      "\n",
      "l: 2  i: 2 ....    c\n",
      "           ....     c\n",
      "[7, 10, 'c']\n",
      "[7, 10, 'c']\n",
      "[7, 10, 'c']\n",
      "[7, 10, 'c']\n",
      "\n",
      "l: 2  i: 3 ....    d\n",
      "           ....     d\n",
      "[7, 10, 'd']\n",
      "[7, 10, 'd']\n",
      "[7, 10, 'd']\n",
      "[7, 10, 'd']\n",
      "\n",
      "[7, 10, 'd']\n",
      "[7, 10, 'd']\n",
      "[7, 10, 'd']\n",
      "[7, 10, 'd']\n",
      "\n",
      "[[7, 10, 'd'], [7, 10, 'd'], [7, 10, 'd'], [7, 10, 'd']]\n"
     ]
    }
   ],
   "source": [
    "matrix = [[4,5,6,7],\n",
    "          [7,8,9,10],\n",
    "          [\"a\", \"b\", \"c\", \"d\"]]\n",
    "print_matrix(matrix)\n",
    "print(len(matrix))\n",
    "print(\"--------------\")\n",
    "transposed = matrix_transpose(matrix)\n",
    "print_matrix(transposed)\n",
    "print(transposed)"
   ]
  },
  {
   "cell_type": "code",
   "execution_count": 3,
   "metadata": {},
   "outputs": [],
   "source": [
    "def print_matrix(matrix):\n",
    "  for line in matrix:\n",
    "    print(line)\n",
    "  print()\n",
    "\n",
    "def matrix_transpose(matrix):\n",
    "  transposed_matrix = transpose_matrix_zeros(matrix)\n",
    "  for l in range(len(matrix)):\n",
    "    for i in range(len(matrix[0])):\n",
    "      transposed_matrix[i][l] = matrix[l][i]\n",
    "      # print(\"l:\",l,\" i:\",i,\"....   \",matrix[l][i])\n",
    "      # print(\"           ....    \",transposed_matrix[i][l])\n",
    "      # print_matrix(transposed_matrix)\n",
    "  return transposed_matrix"
   ]
  },
  {
   "cell_type": "code",
   "execution_count": 33,
   "metadata": {},
   "outputs": [
    {
     "data": {
      "text/plain": [
       "[[1, 4, 7, 1], [2, 5, 8, 2], [3, 6, 9, 3]]"
      ]
     },
     "execution_count": 33,
     "metadata": {},
     "output_type": "execute_result"
    }
   ],
   "source": [
    "new_mat = [[1, 2, 3], [4, 5, 6], [7, 8, 9], [1,2,3]]\n",
    "\n",
    "final = matrix_transpose(new_mat)\n",
    "final"
   ]
  },
  {
   "cell_type": "code",
   "execution_count": 29,
   "metadata": {},
   "outputs": [],
   "source": [
    "def transpose_matrix_zeros(matrix):\n",
    "    transposed_zero_matrix = []\n",
    "    # creates an transposed_matrix of correct structure, including only zero\n",
    "    for l in range(len((matrix)[0])):\n",
    "            transposed_zero_matrix.append([0] * len((matrix)))\n",
    "    # print_matrix(transposed_zero_matrix)\n",
    "    return transposed_zero_matrix"
   ]
  },
  {
   "cell_type": "code",
   "execution_count": 35,
   "metadata": {},
   "outputs": [
    {
     "data": {
      "text/plain": [
       "4"
      ]
     },
     "execution_count": 35,
     "metadata": {},
     "output_type": "execute_result"
    }
   ],
   "source": [
    "len((new_mat))"
   ]
  },
  {
   "cell_type": "code",
   "execution_count": 39,
   "metadata": {},
   "outputs": [
    {
     "data": {
      "text/plain": [
       "[4, 3, 4, 3, 4, 3, 4, 3]"
      ]
     },
     "execution_count": 39,
     "metadata": {},
     "output_type": "execute_result"
    }
   ],
   "source": [
    "[4,3] * len((new_mat))"
   ]
  },
  {
   "cell_type": "code",
   "execution_count": 30,
   "metadata": {},
   "outputs": [
    {
     "data": {
      "text/plain": [
       "[[0, 0, 0, 0], [0, 0, 0, 0], [0, 0, 0, 0]]"
      ]
     },
     "execution_count": 30,
     "metadata": {},
     "output_type": "execute_result"
    }
   ],
   "source": [
    "dummy = transpose_matrix_zeros(new_mat)\n",
    "dummy"
   ]
  },
  {
   "cell_type": "code",
   "execution_count": 11,
   "metadata": {},
   "outputs": [
    {
     "data": {
      "text/plain": [
       "[[0, 3, 0, 0], [0, 3, 0, 0], [0, 3, 0, 0]]"
      ]
     },
     "execution_count": 11,
     "metadata": {},
     "output_type": "execute_result"
    }
   ],
   "source": [
    "dummy[0][1] = 3\n",
    "dummy"
   ]
  }
 ],
 "metadata": {
  "kernelspec": {
   "display_name": "dwwshop",
   "language": "python",
   "name": "python3"
  },
  "language_info": {
   "codemirror_mode": {
    "name": "ipython",
    "version": 3
   },
   "file_extension": ".py",
   "mimetype": "text/x-python",
   "name": "python",
   "nbconvert_exporter": "python",
   "pygments_lexer": "ipython3",
   "version": "3.11.7"
  }
 },
 "nbformat": 4,
 "nbformat_minor": 2
}
