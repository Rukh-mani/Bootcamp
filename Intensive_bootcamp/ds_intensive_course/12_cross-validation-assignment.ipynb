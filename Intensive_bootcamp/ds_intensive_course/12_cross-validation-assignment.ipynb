{
 "cells": [
  {
   "cell_type": "code",
   "execution_count": null,
   "metadata": {},
   "outputs": [],
   "source": [
    "# Import libraries\n",
    "\n",
    "from sklearn.datasets import load_iris\n",
    "from sklearn.linear_model import LogisticRegression\n",
    "from sklearn.ensemble import RandomForestClassifier\n",
    "from sklearn.model_selection import cross_val_score,KFold,StratifiedKFold,LeaveOneOut"
   ]
  },
  {
   "cell_type": "code",
   "execution_count": null,
   "metadata": {},
   "outputs": [],
   "source": [
    "# Dataset Preparation\n",
    "\n",
    "# Load the Iris dataset\n",
    "iris = load_iris()\n",
    "X, y = iris.data, iris.target"
   ]
  },
  {
   "cell_type": "markdown",
   "metadata": {},
   "source": [
    "### Model Selection\n",
    "\n",
    "You will use a logistic regression model as a baseline to apply the cross-validation techniques. Initialize the logistic regression model with the parameters provided below."
   ]
  },
  {
   "cell_type": "code",
   "execution_count": null,
   "metadata": {},
   "outputs": [],
   "source": [
    "# Model Selection\n",
    "\n",
    "# Initialize Logistic Regression\n",
    "model = LogisticRegression(max_iter=200, random_state=42)"
   ]
  },
  {
   "cell_type": "markdown",
   "metadata": {},
   "source": [
    "### K-Fold Cross-Validation\n",
    "\n",
    "Implement K-Fold cross-validation with 5 splits and ensure that the dataset is shuffled before splitting. Calculate and output the cross-validation scores and the average score. Use the logistic regression model."
   ]
  },
  {
   "cell_type": "code",
   "execution_count": null,
   "metadata": {},
   "outputs": [],
   "source": [
    "# K-Fold Cross-Validation\n"
   ]
  },
  {
   "cell_type": "markdown",
   "metadata": {},
   "source": [
    "## Stratified K-Fold Cross-Validation\n",
    "\n",
    "The Iris dataset is balanced but in practice, datasets can often be imbalanced. Stratified K-Fold cross-validation is a variation of K-Fold that returns stratified folds: each set contains approximately the same percentage of samples of each target class as the complete set. Implement Stratified K-Fold CV and explain why it might be preferred over regular K-Fold for imbalanced datasets."
   ]
  },
  {
   "cell_type": "code",
   "execution_count": null,
   "metadata": {},
   "outputs": [],
   "source": [
    "# Stratified K-Fold Cross-Validation\n"
   ]
  },
  {
   "cell_type": "markdown",
   "metadata": {},
   "source": [
    "## Leave-One-Out Cross-Validation\n",
    "\n",
    "Leave-One-Out (LOO) is a cross-validation technique that can provide a robust estimate of model performance but can be computationally expensive, especially for large datasets. Implement LOO CV and discuss the trade-offs associated with using this method."
   ]
  },
  {
   "cell_type": "code",
   "execution_count": null,
   "metadata": {},
   "outputs": [],
   "source": [
    "# Leave-One-Out Cross-Validation\n"
   ]
  },
  {
   "cell_type": "markdown",
   "metadata": {},
   "source": [
    "## Cross-Validation with a the Random Forest Classifier\n",
    "\n",
    "Now, let's try a different classifier. Use a RandomForestClassifier and perform the same three cross-validation techniques as before. Discuss the differences in the cross-validation scores between the logistic regression and the random forest classifiers."
   ]
  },
  {
   "cell_type": "code",
   "execution_count": null,
   "metadata": {},
   "outputs": [],
   "source": [
    "# Cross-Validation with RF classifier\n",
    "\n",
    "\n",
    "# K-Fold Cross-Validation\n",
    "\n",
    "# Stratified K-Fold Cross-Validation\n",
    "\n",
    "# Leave-One-Out Cross-Validation"
   ]
  },
  {
   "cell_type": "markdown",
   "metadata": {},
   "source": [
    "### Analysis\n",
    "\n",
    "Summarize the results from the previous tasks. Reflect on the average scores and the variability of the scores for each cross-validation technique. Discuss the implications of using each technique and the circumstances in which one might be preferred over the others."
   ]
  },
  {
   "cell_type": "code",
   "execution_count": null,
   "metadata": {},
   "outputs": [],
   "source": []
  }
 ],
 "metadata": {
  "language_info": {
   "name": "python"
  }
 },
 "nbformat": 4,
 "nbformat_minor": 2
}
