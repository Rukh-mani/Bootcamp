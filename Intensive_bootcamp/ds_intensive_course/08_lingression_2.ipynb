{
 "cells": [
  {
   "cell_type": "code",
   "execution_count": 1,
   "metadata": {},
   "outputs": [],
   "source": [
    "# Import necessary libraries\n",
    "from sklearn import datasets\n",
    "from sklearn.model_selection import train_test_split\n",
    "from sklearn.linear_model import LinearRegression\n",
    "from sklearn.metrics import mean_squared_error, r2_score\n",
    "\n",
    "# Load the diabetes dataset\n",
    "diabetes_data = datasets.load_diabetes()\n",
    "\n",
    "# Extract the features and the target variable\n",
    "X, y = diabetes_data.data, diabetes_data.target\n",
    "\n",
    "# Split the data into training and testing sets\n",
    "\n",
    "# Create linear regression object\n",
    "\n",
    "# Train the model using the training sets\n",
    "\n",
    "# Make predictions using the testing set\n",
    "\n",
    "# The coefficients\n",
    "\n",
    "# The mean squared error\n",
    "\n",
    "# The coefficient of determination: 1 is perfect prediction\n",
    "# use the function from scikit: r2_score(y_test, y_pred)"
   ]
  },
  {
   "cell_type": "code",
   "execution_count": null,
   "metadata": {},
   "outputs": [],
   "source": []
  }
 ],
 "metadata": {
  "kernelspec": {
   "display_name": "Python 3",
   "language": "python",
   "name": "python3"
  },
  "language_info": {
   "codemirror_mode": {
    "name": "ipython",
    "version": 3
   },
   "file_extension": ".py",
   "mimetype": "text/x-python",
   "name": "python",
   "nbconvert_exporter": "python",
   "pygments_lexer": "ipython3",
   "version": "3.11.4"
  }
 },
 "nbformat": 4,
 "nbformat_minor": 2
}
