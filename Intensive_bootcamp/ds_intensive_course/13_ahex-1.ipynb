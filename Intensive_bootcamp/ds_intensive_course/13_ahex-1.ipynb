{
 "cells": [
  {
   "cell_type": "markdown",
   "metadata": {},
   "source": [
    "# Exercise for pipelines and hyperparameter tuning\n",
    "\n",
    "- classification task based on the wine dataset\n",
    "- task is to compare the available models and pick out the best possible one\n",
    "- use k-fold cross validation for evaluation\n",
    "- optimize the models using hyperparameter tuning\n",
    "\n",
    "## Typical hyperparameter ranges:\n",
    "---\n",
    "### Logistic Regression:\n",
    "- C (Inverse of regularization strength): Common values are logarithmic scale like 0.001, 0.01, 0.1, 1, 10, 100.\n",
    "\n",
    "### Random Forest:\n",
    "- n_estimators (Number of trees in the forest): Usually ranges from 10 to 200, incremented by 10 or 50.\n",
    "- max_features (The number of features to consider when looking for the best split): Can be sqrt, log2, or a fraction (0.1, 0.2, ..., 0.9).\n",
    "- max_depth (Maximum depth of the tree): Can range from 10 to 100 or None (unlimited depth).\n",
    "\n",
    "### Support Vector Machine (SVM):\n",
    "- C (Regularization parameter): Similar to logistic regression, often ranges on a logarithmic scale like 0.1, 1, 10, 100.\n",
    "- gamma (Kernel coefficient for ‘rbf’, ‘poly’ and ‘sigmoid’): Common values are 0.001, 0.01, 0.1, 1, 10, 100."
   ]
  },
  {
   "cell_type": "code",
   "execution_count": 4,
   "metadata": {},
   "outputs": [
    {
     "data": {
      "text/plain": [
       "{'LogisticRegression': Pipeline(steps=[('scaler', StandardScaler()),\n",
       "                 ('classifier', LogisticRegression(C=0.1))]),\n",
       " 'RandomForest': Pipeline(steps=[('scaler', StandardScaler()),\n",
       "                 ('classifier', RandomForestClassifier(n_estimators=200))]),\n",
       " 'SVC': Pipeline(steps=[('scaler', StandardScaler()),\n",
       "                 ('classifier', SVC(C=10, gamma=0.1))])}"
      ]
     },
     "execution_count": 4,
     "metadata": {},
     "output_type": "execute_result"
    }
   ],
   "source": [
    "from sklearn.datasets import load_wine\n",
    "from sklearn.model_selection import GridSearchCV\n",
    "from sklearn.preprocessing import StandardScaler\n",
    "from sklearn.pipeline import Pipeline\n",
    "from sklearn.linear_model import LogisticRegression\n",
    "from sklearn.ensemble import RandomForestClassifier\n",
    "from sklearn.svm import SVC\n",
    "\n",
    "# Load the wine dataset\n",
    "X, y = load_wine(return_X_y=True)\n",
    "\n",
    "# Define the classifiers and their respective hyperparameters for tuning\n",
    "classifiers = {\n",
    "    'LogisticRegression': LogisticRegression(),\n",
    "    'RandomForest': RandomForestClassifier(),\n",
    "    'SVC': SVC()\n",
    "}\n",
    "\n",
    "params = {\n",
    "    'LogisticRegression': {'classifier__C': [0.01, 0.1, 1, 10, 100]},\n",
    "    'RandomForest': {'classifier__n_estimators': [10, 50, 100, 200]},\n",
    "    'SVC': {'classifier__C': [0.1, 1, 10, 100], 'classifier__gamma': [0.01, 0.1, 1, 10, 100]}\n",
    "}\n",
    "\n",
    "# Create pipelines for each classifier\n",
    "pipelines = {}\n",
    "for clf_name, clf in classifiers.items():\n",
    "    pipeline = Pipeline([\n",
    "        ('scaler', StandardScaler()),\n",
    "        ('classifier', clf)\n",
    "    ])\n",
    "    pipelines[clf_name] = pipeline\n",
    "\n",
    "# Perform Grid Search with Cross-Validation\n",
    "best_estimators = {}\n",
    "for clf_name, pipeline in pipelines.items():\n",
    "    grid_search = GridSearchCV(pipeline, params[clf_name], cv=5, scoring='accuracy')\n",
    "    grid_search.fit(X, y)\n",
    "    best_estimators[clf_name] = grid_search.best_estimator_\n",
    "\n",
    "# Display the best estimator for each classifier\n",
    "best_estimators"
   ]
  },
  {
   "cell_type": "code",
   "execution_count": 3,
   "metadata": {},
   "outputs": [
    {
     "data": {
      "text/plain": [
       "('SVC',\n",
       " Pipeline(steps=[('scaler', StandardScaler()),\n",
       "                 ('classifier', SVC(C=10, gamma=0.1))]),\n",
       " 0.9888888888888889)"
      ]
     },
     "execution_count": 3,
     "metadata": {},
     "output_type": "execute_result"
    }
   ],
   "source": [
    "# Perform Grid Search with Cross-Validation and find the best estimator and score for each classifier\n",
    "best_estimators_scores = {}\n",
    "for clf_name, pipeline in pipelines.items():\n",
    "    grid_search = GridSearchCV(pipeline, params[clf_name], cv=5, scoring='accuracy')\n",
    "    grid_search.fit(X, y)\n",
    "    best_estimators[clf_name] = grid_search.best_estimator_\n",
    "    best_estimators_scores[clf_name] = grid_search.best_score_\n",
    "\n",
    "# Find the classifier with the highest cross-validation score\n",
    "best_classifier_name = max(best_estimators_scores, key=best_estimators_scores.get)\n",
    "best_classifier = best_estimators[best_classifier_name]\n",
    "best_score = best_estimators_scores[best_classifier_name]\n",
    "\n",
    "(best_classifier_name, best_classifier, best_score)\n"
   ]
  },
  {
   "cell_type": "code",
   "execution_count": null,
   "metadata": {},
   "outputs": [],
   "source": []
  }
 ],
 "metadata": {
  "kernelspec": {
   "display_name": "Python 3",
   "language": "python",
   "name": "python3"
  },
  "language_info": {
   "codemirror_mode": {
    "name": "ipython",
    "version": 3
   },
   "file_extension": ".py",
   "mimetype": "text/x-python",
   "name": "python",
   "nbconvert_exporter": "python",
   "pygments_lexer": "ipython3",
   "version": "3.11.4"
  }
 },
 "nbformat": 4,
 "nbformat_minor": 2
}
