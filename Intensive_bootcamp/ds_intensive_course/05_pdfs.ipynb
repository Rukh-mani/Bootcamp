{
 "cells": [
  {
   "cell_type": "code",
   "execution_count": null,
   "metadata": {},
   "outputs": [],
   "source": [
    "# Import libraries\n",
    "from scipy.stats import norm,expon\n",
    "import random\n",
    "import matplotlib.pyplot as plt\n",
    "import numpy as np"
   ]
  },
  {
   "cell_type": "code",
   "execution_count": null,
   "metadata": {},
   "outputs": [],
   "source": [
    "# Generate 1000 random numbers from a uniform distribution\n",
    "random_numbers = [random.uniform(0, 1) for _ in range(1000)]\n",
    "\n",
    "# Calculate mean and variance\n",
    "mean = #TODO use np.mean to calculate mean \n",
    "variance = #TODO use np.mean to calculate variance \n",
    "\n",
    "# Plot a histogram\n",
    "plt.hist(random_numbers, bins=20, edgecolor='k')\n",
    "plt.title(f\"Uniform Distribution\\nMean: {mean:.2f}, Variance: {variance:.2f}\")\n",
    "plt.xlabel(\"Value\")\n",
    "plt.ylabel(\"Frequency\")\n",
    "plt.show()"
   ]
  },
  {
   "cell_type": "code",
   "execution_count": null,
   "metadata": {},
   "outputs": [],
   "source": [
    "# Generate 1000 random numbers from a normal distribution\n",
    "random_numbers = [random.normalvariate(5, 2) for _ in range(1000)]\n",
    "\n",
    "# Calculate mean and variance\n",
    "mean = #TODO use np.mean to calculate mean \n",
    "variance = #TODO use np.mean to calculate variance \n",
    "\n",
    "# Plot a histogram\n",
    "plt.hist(random_numbers, bins=20, edgecolor='k')\n",
    "plt.title(f\"Normal Distribution\\nMean: {mean:.2f}, Variance: {variance:.2f}\")\n",
    "plt.xlabel(\"Value\")\n",
    "plt.ylabel(\"Frequency\")\n",
    "plt.show()"
   ]
  },
  {
   "cell_type": "code",
   "execution_count": null,
   "metadata": {},
   "outputs": [],
   "source": [
    "# Generate 1000 random numbers from an exponential distribution\n",
    "random_numbers = [-np.log(1 - random.random()) / 0.5 for _ in range(1000)]\n",
    "\n",
    "# Calculate mean and variance\n",
    "mean = #TODO use np.mean to calculate mean \n",
    "variance = #TODO use np.mean to calculate variance \n",
    "\n",
    "# Plot a histogram\n",
    "plt.hist(random_numbers, bins=20, edgecolor='k')\n",
    "plt.title(f\"Exponential Distribution\\nMean: {mean:.2f}, Variance: {variance:.2f}\")\n",
    "plt.xlabel(\"Value\")\n",
    "plt.ylabel(\"Frequency\")\n",
    "plt.show()"
   ]
  },
  {
   "cell_type": "code",
   "execution_count": null,
   "metadata": {},
   "outputs": [],
   "source": [
    "# Generate random data\n",
    "random.seed(0)\n",
    "data = #TODO generate data from normal distribution \n",
    "\n",
    "# Calculate PDF and CDF\n",
    "mean, std_dev = mean = #TODO use np.mean to calculate mean and variance \n",
    "\n",
    "pdf = #TODO use stats.norm.pdf(data, loc, scale) to obtain values of pdf\n",
    "cdf = #TODO use stats.norm.cdf(data, loc, scale) to obtain values of cdf function\n",
    "\n",
    "# Plot the PDF\n",
    "plt.figure(figsize=(12, 4))\n",
    "plt.subplot(121)\n",
    "plt.hist(data, bins=30, density=True, alpha=0.5, color='b', label='Histogram')\n",
    "plt.scatter(data, pdf, label='PDF', color='red')\n",
    "plt.title('Probability Density Function (PDF)')\n",
    "plt.xlabel('Value')\n",
    "plt.ylabel('Density')\n",
    "plt.legend()\n",
    "\n",
    "# Plot the CDF\n",
    "plt.subplot(122)\n",
    "plt.hist(data, bins=30, density=True, cumulative=True, alpha=0.5, color='b', label='CDF (Empirical)')\n",
    "plt.scatter(data, cdf, label='CDF (Theoretical)', color='red')\n",
    "plt.title('Cumulative Distribution Function (CDF)')\n",
    "plt.xlabel('Value')\n",
    "plt.ylabel('Cumulative Probability')\n",
    "plt.legend()\n",
    "\n",
    "plt.tight_layout()\n",
    "plt.show()\n"
   ]
  }
 ],
 "metadata": {
  "kernelspec": {
   "display_name": ".venv",
   "language": "python",
   "name": "python3"
  },
  "language_info": {
   "codemirror_mode": {
    "name": "ipython",
    "version": 3
   },
   "file_extension": ".py",
   "mimetype": "text/x-python",
   "name": "python",
   "nbconvert_exporter": "python",
   "pygments_lexer": "ipython3",
   "version": "3.11.5"
  },
  "orig_nbformat": 4
 },
 "nbformat": 4,
 "nbformat_minor": 2
}
