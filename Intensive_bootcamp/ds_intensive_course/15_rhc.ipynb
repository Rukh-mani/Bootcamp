{
 "cells": [
  {
   "cell_type": "code",
   "execution_count": null,
   "metadata": {},
   "outputs": [],
   "source": [
    "import numpy as np\n",
    "import random"
   ]
  },
  {
   "cell_type": "code",
   "execution_count": null,
   "metadata": {},
   "outputs": [],
   "source": [
    "# Constants for the example\n",
    "num_employees = 20\n",
    "num_shifts = 7\n",
    "max_shifts_per_employee = 5"
   ]
  },
  {
   "cell_type": "code",
   "execution_count": null,
   "metadata": {},
   "outputs": [],
   "source": [
    "# Generate random initial schedule\n",
    "initial_schedule = np.random.randint(0, num_shifts, size=(num_employees, max_shifts_per_employee))\n",
    "print(initial_schedule)"
   ]
  },
  {
   "cell_type": "code",
   "execution_count": null,
   "metadata": {},
   "outputs": [],
   "source": [
    "def objective_function(schedule):\n",
    "    total_workload_balance = 0\n",
    "    total_understaffed_periods = 0\n",
    "\n",
    "    for shift_idx in range(len(schedule[0])):\n",
    "        employees_on_shift = [schedule[employee_idx][shift_idx] for employee_idx in range(len(schedule))]\n",
    "\n",
    "        # Calculate workload balance for this shift\n",
    "        workload_balance = len(set(employees_on_shift))\n",
    "\n",
    "        total_workload_balance += workload_balance\n",
    "\n",
    "        # Calculate understaffed periods (e.g., if not enough employees are scheduled)\n",
    "        if len(set(employees_on_shift)) < 2:\n",
    "            total_understaffed_periods += 1\n",
    "\n",
    "    # The objective is to maximize workload balance and minimize understaffed periods\n",
    "    # You can assign weights to these objectives if needed\n",
    "    return total_workload_balance, total_understaffed_periods\n"
   ]
  },
  {
   "cell_type": "code",
   "execution_count": null,
   "metadata": {},
   "outputs": [],
   "source": [
    "# Implement Randomized Hill Climbing\n",
    "def randomized_hill_climbing(initial_schedule, max_iterations):\n",
    "    current_schedule = initial_schedule\n",
    "    current_score = objective_function(current_schedule)\n",
    "\n",
    "    for _ in range(max_iterations):\n",
    "        # Generate a neighboring solution by making a small random change\n",
    "        neighbor_schedule = current_schedule.copy()\n",
    "        employee_idx = random.randint(0, num_employees - 1)\n",
    "        shift_idx = random.randint(0, max_shifts_per_employee - 1)\n",
    "        new_shift = random.randint(0, num_shifts - 1)\n",
    "        neighbor_schedule[employee_idx, shift_idx] = new_shift\n",
    "\n",
    "        # Calculate the score for the neighbor schedule\n",
    "        neighbor_score = objective_function(neighbor_schedule)\n",
    "\n",
    "        # If the neighbor schedule is better, accept it\n",
    "        if neighbor_score < current_score:\n",
    "            current_schedule = neighbor_schedule\n",
    "            current_score = neighbor_score\n",
    "\n",
    "    return current_schedule, current_score\n"
   ]
  },
  {
   "cell_type": "code",
   "execution_count": null,
   "metadata": {},
   "outputs": [],
   "source": [
    "# The optimized_schedule contains the final employee schedule\n",
    "# The final_score indicates how well the schedule optimizes your objectives\n",
    "randomized_hill_climbing(initial_schedule, 10)"
   ]
  },
  {
   "cell_type": "code",
   "execution_count": null,
   "metadata": {},
   "outputs": [],
   "source": []
  }
 ],
 "metadata": {
  "kernelspec": {
   "display_name": ".venv",
   "language": "python",
   "name": "python3"
  },
  "language_info": {
   "codemirror_mode": {
    "name": "ipython",
    "version": 3
   },
   "file_extension": ".py",
   "mimetype": "text/x-python",
   "name": "python",
   "nbconvert_exporter": "python",
   "pygments_lexer": "ipython3",
   "version": "3.11.5"
  },
  "orig_nbformat": 4
 },
 "nbformat": 4,
 "nbformat_minor": 2
}
