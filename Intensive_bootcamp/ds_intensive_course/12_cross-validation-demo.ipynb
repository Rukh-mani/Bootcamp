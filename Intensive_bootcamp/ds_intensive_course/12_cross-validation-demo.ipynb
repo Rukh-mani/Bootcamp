{
 "cells": [
  {
   "cell_type": "code",
   "execution_count": 1,
   "metadata": {},
   "outputs": [],
   "source": [
    "# Import necessary libraries\n",
    "import numpy as np\n",
    "from sklearn.datasets import load_iris\n",
    "from sklearn.model_selection import (\n",
    "    cross_val_score, KFold, StratifiedKFold, LeaveOneOut\n",
    ")\n",
    "from sklearn.linear_model import LogisticRegression\n",
    "from sklearn.metrics import accuracy_score"
   ]
  },
  {
   "cell_type": "code",
   "execution_count": 2,
   "metadata": {},
   "outputs": [],
   "source": [
    "# Load the Iris dataset\n",
    "iris = load_iris()\n",
    "X, y = iris.data, iris.target"
   ]
  },
  {
   "cell_type": "code",
   "execution_count": 3,
   "metadata": {},
   "outputs": [],
   "source": [
    "# Initialize the model\n",
    "model = LogisticRegression(max_iter=200, random_state=42)"
   ]
  },
  {
   "cell_type": "code",
   "execution_count": 4,
   "metadata": {},
   "outputs": [
    {
     "name": "stdout",
     "output_type": "stream",
     "text": [
      "K-Fold CV scores: [1.         1.         0.93333333 0.96666667 0.96666667]\n",
      "Average K-Fold CV score: 0.9733333333333334\n"
     ]
    }
   ],
   "source": [
    "# Demonstrate K-Fold CV\n",
    "kf = KFold(n_splits=5, shuffle=True, random_state=42)\n",
    "kfold_scores = cross_val_score(model, X, y, cv=kf)\n",
    "\n",
    "print(\"K-Fold CV scores:\", kfold_scores)\n",
    "print(\"Average K-Fold CV score:\", np.mean(kfold_scores))"
   ]
  },
  {
   "cell_type": "code",
   "execution_count": 5,
   "metadata": {},
   "outputs": [
    {
     "name": "stdout",
     "output_type": "stream",
     "text": [
      "Stratified K-Fold CV scores: [1.         0.96666667 0.93333333 1.         0.93333333]\n",
      "Average Stratified K-Fold CV score: 0.9666666666666668\n"
     ]
    }
   ],
   "source": [
    "# Demonstrate Stratified K-Fold CV\n",
    "skf = StratifiedKFold(n_splits=5, shuffle=True, random_state=42)\n",
    "stratified_scores = cross_val_score(model, X, y, cv=skf)\n",
    "\n",
    "print(\"Stratified K-Fold CV scores:\", stratified_scores)\n",
    "print(\"Average Stratified K-Fold CV score:\", np.mean(stratified_scores))"
   ]
  },
  {
   "cell_type": "code",
   "execution_count": 6,
   "metadata": {},
   "outputs": [
    {
     "name": "stdout",
     "output_type": "stream",
     "text": [
      "Leave-One-Out CV scores: [1. 1. 1. 1. 1. 1. 1. 1. 1. 1. 1. 1. 1. 1. 1. 1. 1. 1. 1. 1. 1. 1. 1. 1.\n",
      " 1. 1. 1. 1. 1. 1. 1. 1. 1. 1. 1. 1. 1. 1. 1. 1. 1. 1. 1. 1. 1. 1. 1. 1.\n",
      " 1. 1. 1. 1. 1. 1. 1. 1. 1. 1. 1. 1. 1. 1. 1. 1. 1. 1. 1. 1. 1. 1. 0. 1.\n",
      " 1. 1. 1. 1. 1. 0. 1. 1. 1. 1. 1. 0. 1. 1. 1. 1. 1. 1. 1. 1. 1. 1. 1. 1.\n",
      " 1. 1. 1. 1. 1. 1. 1. 1. 1. 1. 0. 1. 1. 1. 1. 1. 1. 1. 1. 1. 1. 1. 1. 0.\n",
      " 1. 1. 1. 1. 1. 1. 1. 1. 1. 1. 1. 1. 1. 1. 1. 1. 1. 1. 1. 1. 1. 1. 1. 1.\n",
      " 1. 1. 1. 1. 1. 1.]\n",
      "Average Leave-One-Out CV score: 0.9666666666666667\n"
     ]
    }
   ],
   "source": [
    "# Demonstrate Leave-One-Out CV\n",
    "loo = LeaveOneOut()\n",
    "loo_scores = cross_val_score(model, X, y, cv=loo)\n",
    "\n",
    "print(\"Leave-One-Out CV scores:\", loo_scores)\n",
    "print(\"Average Leave-One-Out CV score:\", np.mean(loo_scores))"
   ]
  },
  {
   "cell_type": "code",
   "execution_count": 7,
   "metadata": {},
   "outputs": [],
   "source": [
    "# Write results to a text file\n",
    "with open('cv_results.txt', 'w') as f:\n",
    "    f.write(f\"K-Fold CV scores: {kfold_scores}\\n\")\n",
    "    f.write(f\"Average K-Fold CV score: {np.mean(kfold_scores)}\\n\")\n",
    "    f.write(f\"Stratified K-Fold CV scores: {stratified_scores}\\n\")\n",
    "    f.write(f\"Average Stratified K-Fold CV score: {np.mean(stratified_scores)}\\n\")\n",
    "    f.write(f\"Leave-One-Out CV scores: {loo_scores}\\n\")\n",
    "    f.write(f\"Average Leave-One-Out CV score: {np.mean(loo_scores)}\\n\")"
   ]
  }
 ],
 "metadata": {
  "kernelspec": {
   "display_name": "Python 3",
   "language": "python",
   "name": "python3"
  },
  "language_info": {
   "codemirror_mode": {
    "name": "ipython",
    "version": 3
   },
   "file_extension": ".py",
   "mimetype": "text/x-python",
   "name": "python",
   "nbconvert_exporter": "python",
   "pygments_lexer": "ipython3",
   "version": "3.11.4"
  }
 },
 "nbformat": 4,
 "nbformat_minor": 2
}
