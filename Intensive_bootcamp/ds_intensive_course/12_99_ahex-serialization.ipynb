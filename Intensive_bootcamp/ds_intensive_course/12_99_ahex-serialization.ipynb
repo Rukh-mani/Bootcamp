{
 "cells": [
  {
   "cell_type": "markdown",
   "metadata": {},
   "source": [
    "# Serializing exercise\n",
    "\n",
    "- predicitons on the iris dataset\n",
    "- "
   ]
  },
  {
   "cell_type": "code",
   "execution_count": 1,
   "metadata": {},
   "outputs": [],
   "source": [
    "from sklearn.datasets import load_iris\n",
    "from sklearn.linear_model import LogisticRegression\n",
    "from sklearn.model_selection import train_test_split, GridSearchCV, cross_val_score\n",
    "from sklearn.preprocessing import StandardScaler\n",
    "from sklearn.ensemble import RandomForestClassifier\n",
    "from sklearn.svm import SVC\n",
    "from sklearn.pipeline import Pipeline\n",
    "import joblib\n",
    "import numpy as np\n",
    "\n",
    "# Load the Iris dataset\n",
    "iris = load_iris()\n",
    "X, y = iris.data, iris.target\n",
    "\n",
    "# Create pipelines\n",
    "# pipeline = ...\n",
    "\n",
    "# Perform GridSearch Hyperparameter optimization for\n",
    "# the random forest classifier and SVC\n",
    "\n",
    "\"\"\"\n",
    "note: rf__ and svm__ correspond to \"model_name\" string\n",
    "you define in the pipeline (so the name of the estimator)\n",
    "\n",
    "rf_grid = {\n",
    "    \"rf__n_estimators\": [...],\n",
    "    \"rf__min_samples_split\": [...],\n",
    "    \"rf__min_samples_leaf\": [...]\n",
    "    }\n",
    "\n",
    "svc_grid = {\n",
    "    'svm__C': [...], \n",
    "    'svm__gamma': [...],\n",
    "    'svm__kernel': ['rbf', 'linear']\n",
    "}\n",
    "\"\"\""
   ]
  },
  {
   "cell_type": "code",
   "execution_count": null,
   "metadata": {},
   "outputs": [],
   "source": [
    "# Cross-Validation\n",
    "\n",
    "# Serialize the pipeline\n",
    "\n",
    "# Evaluate your models and identify the best one"
   ]
  },
  {
   "cell_type": "markdown",
   "metadata": {},
   "source": [
    "## Serializing using Neural network\n",
    "- the same task using neural network\n",
    "- use just a shallow NN\n",
    "- do not forget to normalize"
   ]
  },
  {
   "cell_type": "code",
   "execution_count": null,
   "metadata": {},
   "outputs": [],
   "source": [
    "import tensorflow as tf\n",
    "from tensorflow.keras.models import Sequential\n",
    "from tensorflow.keras.layers import Dense, Normalization\n",
    "from sklearn.model_selection import train_test_split\n",
    "from sklearn.datasets import load_iris\n",
    "\n",
    "# Load dataset (for example, Iris dataset)\n",
    "iris = load_iris()\n",
    "X, y = iris.data, iris.target\n",
    "X_train, X_test, y_train, y_test = train_test_split(X, y, test_size=0.2, random_state=42)\n",
    "\n",
    "# Define a Keras model with preprocessing layers\n",
    "model = Sequential([\n",
    "    # Normalization layer for preprocessing\n",
    "\n",
    "    # Dense layers for classification\n",
    "])\n",
    "\n",
    "# Compile the model\n",
    "\n",
    "# Train the model\n",
    "\n",
    "# Evaluate the model\n"
   ]
  }
 ],
 "metadata": {
  "kernelspec": {
   "display_name": "Python 3",
   "language": "python",
   "name": "python3"
  },
  "language_info": {
   "codemirror_mode": {
    "name": "ipython",
    "version": 3
   },
   "file_extension": ".py",
   "mimetype": "text/x-python",
   "name": "python",
   "nbconvert_exporter": "python",
   "pygments_lexer": "ipython3",
   "version": "3.11.4"
  }
 },
 "nbformat": 4,
 "nbformat_minor": 2
}
