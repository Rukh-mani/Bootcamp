{
 "cells": [
  {
   "cell_type": "code",
   "execution_count": 1,
   "metadata": {},
   "outputs": [],
   "source": [
    "# Import libraries\n",
    "import random\n",
    "import numpy as np\n",
    "import matplotlib.pyplot as plt\n",
    "from scipy.stats import binom, poisson"
   ]
  },
  {
   "cell_type": "code",
   "execution_count": 2,
   "metadata": {},
   "outputs": [
    {
     "data": {
      "text/plain": [
       "array([6, 5, 1, 3, 2, 3, 2, 4, 4, 4, 3, 6, 5, 3, 4, 4, 5, 6, 1, 2, 6, 5,\n",
       "       5, 6, 5, 3, 6, 3, 1, 2, 1, 5, 2, 2, 2, 1, 3, 3, 2, 3, 2, 2, 2, 4,\n",
       "       6, 5, 3, 5, 4, 1, 4, 2, 5, 6, 2, 2, 1, 2, 3, 2, 1, 5, 4, 6, 3, 4,\n",
       "       1, 5, 4, 4, 3, 3, 5, 1, 5, 5, 3, 1, 3, 5, 5, 3, 6, 1, 1, 5, 1, 4,\n",
       "       3, 1, 4, 3, 6, 2, 5, 1, 1, 1, 3, 2, 4, 2, 6, 4, 2, 6, 4, 3, 4, 3,\n",
       "       5, 4, 3, 4, 6, 5, 2, 4, 6, 2, 1, 4, 6, 1, 6, 6, 4, 3, 3, 4, 5, 5,\n",
       "       1, 6, 6, 5, 3, 1, 1, 4, 3, 4, 4, 3, 6, 4, 1, 3, 6, 5, 6, 3, 6, 1,\n",
       "       2, 3, 6, 2, 3, 4, 3, 1, 1, 4, 1, 6, 2, 3, 3, 5, 2, 2, 3, 5, 1, 1,\n",
       "       3, 3, 3, 2, 2, 5, 6, 5, 3, 4, 1, 1, 3, 1, 3, 3, 5, 1, 6, 2, 6, 4,\n",
       "       1, 2, 5, 1, 6, 4, 6, 1, 4, 4, 2, 3, 1, 5, 4, 6, 5, 2, 3, 5, 6, 6,\n",
       "       2, 2, 4, 6, 3, 3, 6, 1, 1, 6, 5, 5, 3, 3, 2, 4, 2, 2, 4, 5, 2, 4,\n",
       "       6, 6, 5, 4, 2, 1, 1, 2, 6, 4, 6, 4, 5, 3, 2, 2, 4, 1, 1, 1, 5, 4,\n",
       "       2, 5, 3, 3, 3, 3, 4, 6, 6, 1, 5, 5, 5, 4, 4, 6, 5, 4, 2, 1, 1, 1,\n",
       "       6, 3, 2, 2, 5, 6, 2, 6, 4, 2, 4, 5, 4, 2, 2, 6, 3, 4, 5, 4, 2, 4,\n",
       "       2, 1, 2, 4, 4, 4, 4, 5, 6, 1, 2, 6, 1, 1, 5, 6, 4, 5, 1, 1, 6, 5,\n",
       "       5, 6, 6, 6, 1, 3, 4, 4, 3, 6, 4, 4, 6, 6, 6, 3, 4, 3, 5, 2, 6, 6,\n",
       "       3, 2, 1, 5, 6, 6, 5, 5, 1, 4, 4, 1, 4, 5, 5, 4, 3, 3, 4, 6, 5, 4,\n",
       "       2, 1, 1, 4, 2, 2, 1, 1, 1, 1, 3, 5, 1, 2, 5, 4, 1, 4, 6, 3, 6, 5,\n",
       "       6, 6, 1, 1, 2, 2, 6, 4, 2, 6, 4, 5, 6, 4, 2, 4, 1, 5, 2, 1, 1, 3,\n",
       "       6, 6, 5, 2, 4, 4, 3, 5, 2, 6, 4, 2, 6, 2, 3, 4, 1, 4, 2, 6, 1, 5,\n",
       "       6, 1, 3, 6, 5, 5, 2, 3, 1, 3, 1, 6, 2, 6, 2, 3, 4, 3, 5, 6, 5, 5,\n",
       "       3, 6, 1, 6, 4, 4, 2, 5, 4, 6, 4, 6, 2, 1, 2, 5, 1, 2, 3, 4, 5, 2,\n",
       "       5, 5, 3, 4, 3, 4, 3, 4, 5, 6, 4, 5, 1, 4, 3, 2, 3, 6, 1, 5, 1, 3,\n",
       "       4, 2, 4, 2, 2, 2, 6, 1, 2, 3, 3, 2, 2, 1, 4, 4, 1, 6, 3, 2, 1, 2,\n",
       "       1, 6, 4, 6, 1, 3, 6, 1, 4, 1, 6, 6, 1, 3, 3, 2, 6, 6, 5, 3, 4, 2,\n",
       "       5, 1, 6, 1, 6, 5, 4, 1, 5, 1, 2, 3, 2, 2, 2, 1, 2, 5, 1, 4, 2, 2,\n",
       "       5, 1, 4, 3, 3, 4, 1, 5, 5, 5, 2, 6, 1, 1, 3, 5, 6, 4, 3, 5, 1, 2,\n",
       "       1, 6, 2, 5, 4, 4, 5, 1, 1, 5, 1, 3, 6, 2, 2, 5, 4, 1, 2, 2, 3, 2,\n",
       "       4, 2, 5, 1, 6, 3, 4, 2, 3, 3, 2, 4, 5, 5, 1, 5, 2, 5, 5, 6, 3, 2,\n",
       "       4, 5, 2, 4, 4, 4, 4, 6, 6, 6, 3, 6, 6, 6, 4, 2, 2, 6, 6, 4, 1, 3,\n",
       "       2, 5, 6, 1, 1, 6, 6, 1, 5, 3, 1, 3, 2, 4, 1, 4, 1, 6, 1, 4, 1, 6,\n",
       "       3, 3, 2, 5, 1, 4, 6, 1, 4, 4, 1, 4, 4, 3, 6, 6, 2, 3, 4, 1, 5, 6,\n",
       "       3, 6, 5, 3, 3, 2, 1, 1, 1, 1, 2, 5, 3, 5, 6, 5, 5, 5, 5, 4, 1, 6,\n",
       "       5, 3, 6, 3, 1, 4, 6, 1, 1, 4, 1, 3, 6, 5, 5, 1, 2, 3, 6, 5, 4, 2,\n",
       "       6, 5, 3, 6, 1, 6, 1, 1, 4, 4, 4, 5, 6, 5, 4, 6, 3, 2, 3, 6, 6, 3,\n",
       "       4, 4, 3, 6, 1, 4, 5, 2, 1, 3, 6, 5, 4, 3, 1, 5, 2, 5, 4, 5, 4, 2,\n",
       "       3, 1, 5, 1, 2, 1, 4, 2, 4, 1, 3, 4, 2, 6, 3, 5, 2, 4, 4, 3, 3, 3,\n",
       "       6, 2, 3, 3, 2, 5, 5, 1, 6, 4, 2, 5, 1, 4, 5, 5, 1, 5, 3, 3, 2, 6,\n",
       "       3, 1, 2, 1, 4, 5, 1, 2, 2, 5, 3, 4, 6, 5, 4, 2, 4, 4, 5, 2, 5, 3,\n",
       "       6, 2, 1, 5, 1, 3, 1, 6, 1, 4, 1, 1, 3, 1, 6, 6, 2, 3, 6, 6, 2, 2,\n",
       "       6, 5, 4, 5, 6, 4, 2, 5, 5, 2, 1, 1, 2, 6, 6, 6, 1, 6, 5, 6, 3, 3,\n",
       "       3, 1, 2, 6, 6, 6, 3, 4, 4, 2, 3, 5, 2, 2, 5, 4, 6, 6, 5, 1, 6, 6,\n",
       "       5, 4, 4, 5, 3, 5, 4, 4, 5, 1, 3, 6, 2, 2, 3, 2, 4, 3, 3, 3, 3, 6,\n",
       "       1, 5, 2, 5, 3, 5, 3, 6, 5, 3, 2, 6, 3, 1, 2, 3, 3, 3, 1, 3, 1, 2,\n",
       "       6, 3, 6, 5, 2, 3, 5, 2, 1, 5, 6, 3, 1, 3, 4, 3, 6, 5, 1, 5, 5, 4,\n",
       "       5, 2, 1, 3, 3, 6, 6, 4, 6, 6])"
      ]
     },
     "execution_count": 2,
     "metadata": {},
     "output_type": "execute_result"
    }
   ],
   "source": [
    "#Create a Python function that simulates rolling a fair six-sided die 'n' times\n",
    "def simulate_die_rolls(n):\n",
    "    outcomes = np.random.randint(1,7, size=n) #returns low inclusive and high exclusive jus like range function\n",
    "    return outcomes\n",
    "\n",
    "\n",
    "# TODO Simulate die rolls 1000 times\n",
    "\n",
    "simulated_outcomes = simulate_die_rolls(1000)\n",
    "simulated_outcomes"
   ]
  },
  {
   "cell_type": "code",
   "execution_count": null,
   "metadata": {},
   "outputs": [
    {
     "name": "stdout",
     "output_type": "stream",
     "text": [
      "2\n",
      "2\n",
      "1\n",
      "1\n",
      "2\n"
     ]
    }
   ],
   "source": [
    "# bla = np.array([1,2,3,4,5,5,2,1])\n",
    "\n",
    "# for i in (np.unique(bla)):\n",
    "#     print((np.count_nonzero(bla==i)))\n",
    "# # just to understand how np.count works"
   ]
  },
  {
   "cell_type": "code",
   "execution_count": null,
   "metadata": {},
   "outputs": [
    {
     "name": "stdout",
     "output_type": "stream",
     "text": [
      "[0 2 4 6 8]\n"
     ]
    }
   ],
   "source": [
    "# print(np.arange(0,10,2)) # # start stop and step"
   ]
  },
  {
   "cell_type": "code",
   "execution_count": null,
   "metadata": {},
   "outputs": [
    {
     "name": "stdout",
     "output_type": "stream",
     "text": [
      "170\n",
      "160\n",
      "165\n",
      "168\n",
      "163\n",
      "174\n"
     ]
    }
   ],
   "source": [
    "# outcomes = list(simulated_outcomes.copy())\n",
    "# frequency=np.zeros(len(outcomes))\n",
    "# for i in range(1, 7):\n",
    "#     count = outcomes.count(i) #counts the no of times the number i occurs in 'outcomes'\n",
    "#     # alternate solution: another loop or outcomes.count()\n",
    "#     frequency[i] = count / len(outcomes)\n",
    "#     print(count)"
   ]
  },
  {
   "cell_type": "code",
   "execution_count": null,
   "metadata": {},
   "outputs": [
    {
     "name": "stdout",
     "output_type": "stream",
     "text": [
      "176\n",
      "154\n",
      "169\n",
      "174\n",
      "159\n",
      "168\n"
     ]
    }
   ],
   "source": [
    "##frequency = [] #cannot create an empty list\n",
    "\n",
    "\n",
    "outcomes = simulated_outcomes.copy()\n",
    "frequency=np.zeros(len(outcomes))\n",
    "for i in range(1, 7):\n",
    "    count = np.count_nonzero(outcomes==i) #counts the no of times the number i occurs in 'outcomes'\n",
    "    # alternate solution: another loop or outcomes.count()\n",
    "    frequency[i] = count / len(outcomes)\n",
    "    print(count)"
   ]
  },
  {
   "cell_type": "code",
   "execution_count": 45,
   "metadata": {},
   "outputs": [
    {
     "name": "stdout",
     "output_type": "stream",
     "text": [
      "Simulated Frequencies: {1: 0.176, 2: 0.154, 3: 0.169, 4: 0.174, 5: 0.159, 6: 0.168}\n"
     ]
    }
   ],
   "source": [
    "# Exercise 7\n",
    "def calculate_relative_frequencies(outcomes):\n",
    "    frequency = {}\n",
    "    for i in range(1, 7):\n",
    "        count = np.count_nonzero(outcomes==i) #counts the no of times the number i occurs in 'outcomes'\n",
    "        frequency[i] = count / len(outcomes)\n",
    "    return frequency\n",
    "\n",
    "#TODO calculate relative frequencyof simulated outcomes\n",
    "relative_frequencies = calculate_relative_frequencies(simulated_outcomes)\n",
    "\n",
    "print(\"Simulated Frequencies:\", relative_frequencies)"
   ]
  },
  {
   "cell_type": "code",
   "execution_count": 46,
   "metadata": {},
   "outputs": [
    {
     "data": {
      "image/png": "[encoded data removed]",
      "text/plain": [
       "<Figure size 1200x400 with 2 Axes>"
      ]
     },
     "metadata": {},
     "output_type": "display_data"
    }
   ],
   "source": [
    "#TODO plot binomial and poison distribution \n",
    "\n",
    "\n",
    "# Parameters for the binomial distribution\n",
    "n_binom = 10\n",
    "p_binom = 0.4\n",
    "\n",
    "# Generate 1000 random samples from the binomial distribution\n",
    "\n",
    "samples_binom =  binom.rvs(n_binom,p_binom,size=1000) #from binom module\n",
    "\n",
    "# Parameters for the Poisson distribution\n",
    "lambda_poisson = 3  # Average rate of events\n",
    "\n",
    "# Generate random samples from the Poisson distribution\n",
    "samples_poisson = poisson.rvs(lambda_poisson, size=1000) #from poisson module\n",
    "\n",
    "# Plot histogram for the binomial distribution\n",
    "plt.figure(figsize=(12, 4))\n",
    "plt.subplot(1, 2, 1)\n",
    "plt.hist(samples_binom, bins=np.arange(0, n_binom + 2) - 0.5, density=True, alpha=0.7)\n",
    "plt.title('Binomial Distribution')\n",
    "plt.xlabel('Number of Successes')\n",
    "plt.ylabel('Probability')\n",
    "\n",
    "# Plot histogram for the Poisson distribution\n",
    "plt.subplot(1, 2, 2)\n",
    "plt.hist(samples_poisson, bins=np.arange(0, max(samples_poisson) + 2) - 0.5, density=True, alpha=0.7)\n",
    "plt.title('Poisson Distribution')\n",
    "plt.xlabel('Number of Events')\n",
    "plt.ylabel('Probability')\n",
    "\n",
    "plt.tight_layout()\n",
    "plt.show()"
   ]
  }
 ],
 "metadata": {
  "kernelspec": {
   "display_name": "dwwshop",
   "language": "python",
   "name": "python3"
  },
  "language_info": {
   "codemirror_mode": {
    "name": "ipython",
    "version": 3
   },
   "file_extension": ".py",
   "mimetype": "text/x-python",
   "name": "python",
   "nbconvert_exporter": "python",
   "pygments_lexer": "ipython3",
   "version": "3.11.7"
  },
  "orig_nbformat": 4
 },
 "nbformat": 4,
 "nbformat_minor": 2
}
