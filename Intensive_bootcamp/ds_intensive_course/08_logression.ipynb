{
 "cells": [
  {
   "cell_type": "markdown",
   "metadata": {},
   "source": [
    "# Logistic regression showcase\n",
    "\n",
    "## Task: Apply logistic regression to the iris dataset\n",
    "- import iris dataset\n",
    "- preprocess accordingly\n",
    "- make predictions"
   ]
  },
  {
   "cell_type": "code",
   "execution_count": 1,
   "metadata": {},
   "outputs": [],
   "source": [
    "# Importing necessary libraries\n",
    "import numpy as np\n",
    "import pandas as pd\n",
    "import matplotlib.pyplot as plt\n",
    "from sklearn.model_selection import train_test_split\n",
    "from sklearn.linear_model import LogisticRegression\n",
    "from sklearn.metrics import classification_report, confusion_matrix\n",
    "from sklearn.datasets import load_iris\n",
    "\n",
    "# Comment this out if you are using Jupyter Notebook (it's for JupyterLab or VSCode)\n",
    "# %matplotlib inline \n",
    "\n",
    "# Load Iris dataset\n",
    "iris = load_iris()\n",
    "X = iris.data\n",
    "y = iris.target\n",
    "\n",
    "# Convert to DataFrame just for the sake of visualization\n",
    "df = pd.DataFrame(X, columns=iris.feature_names)\n",
    "df['species'] = y\n",
    "\n",
    "# Preprocessing\n",
    "\n",
    "# Apply Logistic regression\n"
   ]
  },
  {
   "cell_type": "code",
   "execution_count": 9,
   "metadata": {},
   "outputs": [
    {
     "name": "stdout",
     "output_type": "stream",
     "text": [
      "         Current function value: 0.044942\n",
      "         Iterations: 35\n",
      "         Function evaluations: 37\n",
      "         Gradient evaluations: 37\n",
      "                          MNLogit Regression Results                          \n",
      "==============================================================================\n",
      "Dep. Variable:                species   No. Observations:                  150\n",
      "Model:                        MNLogit   Df Residuals:                      140\n",
      "Method:                           MLE   Df Model:                            8\n",
      "Date:                Thu, 14 Nov 2024   Pseudo R-squ.:                  0.9591\n",
      "Time:                        13:40:43   Log-Likelihood:                -6.7413\n",
      "converged:                      False   LL-Null:                       -164.79\n",
      "Covariance Type:            nonrobust   LLR p-value:                 1.535e-63\n",
      "=====================================================================================\n",
      "        species=1       coef    std err          z      P>|z|      [0.025      0.975]\n",
      "-------------------------------------------------------------------------------------\n",
      "const                12.4906    700.163      0.018      0.986   -1359.803    1384.784\n",
      "sepal length (cm)    10.9475   1751.413      0.006      0.995   -3421.759    3443.654\n",
      "sepal width (cm)     -9.1772    882.670     -0.010      0.992   -1739.179    1720.825\n",
      "petal length (cm)     9.7356    656.208      0.015      0.988   -1276.408    1295.880\n",
      "petal width (cm)      6.0611   1337.996      0.005      0.996   -2616.362    2628.484\n",
      "-------------------------------------------------------------------------------------\n",
      "        species=2       coef    std err          z      P>|z|      [0.025      0.975]\n",
      "-------------------------------------------------------------------------------------\n",
      "const                -7.0823    700.227     -0.010      0.992   -1379.502    1365.337\n",
      "sepal length (cm)    10.5276   1751.414      0.006      0.995   -3422.180    3443.236\n",
      "sepal width (cm)    -12.8423    882.673     -0.015      0.988   -1742.850    1717.165\n",
      "petal length (cm)    21.1647    656.233      0.032      0.974   -1265.028    1307.357\n",
      "petal width (cm)     23.1176   1338.022      0.017      0.986   -2599.358    2645.593\n",
      "=====================================================================================\n"
     ]
    },
    {
     "name": "stderr",
     "output_type": "stream",
     "text": [
      "c:\\anaconda\\envs\\dwwshop\\Lib\\site-packages\\scipy\\optimize\\_optimize.py:1397: OptimizeWarning: Maximum number of iterations has been exceeded.\n",
      "  res = _minimize_bfgs(f, x0, args, fprime, callback=callback, **opts)\n",
      "c:\\anaconda\\envs\\dwwshop\\Lib\\site-packages\\statsmodels\\base\\model.py:607: ConvergenceWarning: Maximum Likelihood optimization failed to converge. Check mle_retvals\n",
      "  warnings.warn(\"Maximum Likelihood optimization failed to \"\n"
     ]
    }
   ],
   "source": [
    "import pandas as pd\n",
    "import statsmodels.api as sm\n",
    "from sklearn.datasets import load_iris\n",
    "from sklearn.model_selection import train_test_split\n",
    "from sklearn.preprocessing import StandardScaler\n",
    "data = load_iris()\n",
    "iris = pd.DataFrame(data.data, columns=data.feature_names)\n",
    "iris['species'] = data.target\n",
    "X = iris.drop('species', axis=1)\n",
    "y = iris['species'].astype('category')\n",
    "scaler = StandardScaler()\n",
    "X_scaled = scaler.fit_transform(X)\n",
    "X_scaled = pd.DataFrame(X_scaled, columns=X.columns)\n",
    "X_scaled = sm.add_constant(X_scaled)\n",
    "model = sm.MNLogit(y, X_scaled)\n",
    "result = model.fit(method = 'bfgs')\n",
    "print(result.summary())"
   ]
  }
 ],
 "metadata": {
  "kernelspec": {
   "display_name": "dwwshop",
   "language": "python",
   "name": "python3"
  },
  "language_info": {
   "codemirror_mode": {
    "name": "ipython",
    "version": 3
   },
   "file_extension": ".py",
   "mimetype": "text/x-python",
   "name": "python",
   "nbconvert_exporter": "python",
   "pygments_lexer": "ipython3",
   "version": "3.11.7"
  }
 },
 "nbformat": 4,
 "nbformat_minor": 2
}
