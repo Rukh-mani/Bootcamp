{
 "cells": [
  {
   "cell_type": "code",
   "execution_count": 1,
   "metadata": {},
   "outputs": [
    {
     "name": "stderr",
     "output_type": "stream",
     "text": [
      "2023-11-05 13:08:50.111339: I tensorflow/core/platform/cpu_feature_guard.cc:182] This TensorFlow binary is optimized to use available CPU instructions in performance-critical operations.\n",
      "To enable the following instructions: AVX2 FMA, in other operations, rebuild TensorFlow with the appropriate compiler flags.\n",
      "/usr/local/lib/python3.11/site-packages/tqdm/auto.py:21: TqdmWarning: IProgress not found. Please update jupyter and ipywidgets. See https://ipywidgets.readthedocs.io/en/stable/user_install.html\n",
      "  from .autonotebook import tqdm as notebook_tqdm\n"
     ]
    },
    {
     "name": "stdout",
     "output_type": "stream",
     "text": [
      "Epoch 1/10\n",
      "782/782 - 6s - loss: 0.4975 - accuracy: 0.7759 - val_loss: 0.3795 - val_accuracy: 0.8300 - 6s/epoch - 7ms/step\n",
      "Epoch 2/10\n",
      "782/782 - 4s - loss: 0.2996 - accuracy: 0.8744 - val_loss: 0.3807 - val_accuracy: 0.8302 - 4s/epoch - 5ms/step\n",
      "Epoch 3/10\n",
      "782/782 - 4s - loss: 0.2434 - accuracy: 0.9042 - val_loss: 0.3903 - val_accuracy: 0.8330 - 4s/epoch - 5ms/step\n",
      "Epoch 4/10\n",
      "782/782 - 4s - loss: 0.2101 - accuracy: 0.9198 - val_loss: 0.4259 - val_accuracy: 0.8266 - 4s/epoch - 5ms/step\n",
      "Epoch 5/10\n",
      "782/782 - 4s - loss: 0.1834 - accuracy: 0.9338 - val_loss: 0.4689 - val_accuracy: 0.8194 - 4s/epoch - 5ms/step\n",
      "Epoch 6/10\n",
      "782/782 - 4s - loss: 0.1651 - accuracy: 0.9408 - val_loss: 0.5156 - val_accuracy: 0.8128 - 4s/epoch - 5ms/step\n",
      "Epoch 7/10\n",
      "782/782 - 4s - loss: 0.1477 - accuracy: 0.9495 - val_loss: 0.5739 - val_accuracy: 0.8036 - 4s/epoch - 5ms/step\n",
      "Epoch 8/10\n",
      "782/782 - 4s - loss: 0.1329 - accuracy: 0.9562 - val_loss: 0.6129 - val_accuracy: 0.8016 - 4s/epoch - 5ms/step\n",
      "Epoch 9/10\n",
      "782/782 - 4s - loss: 0.1188 - accuracy: 0.9625 - val_loss: 0.6864 - val_accuracy: 0.7947 - 4s/epoch - 5ms/step\n",
      "Epoch 10/10\n",
      "782/782 - 4s - loss: 0.1071 - accuracy: 0.9659 - val_loss: 0.7414 - val_accuracy: 0.7916 - 4s/epoch - 5ms/step\n",
      "782/782 [==============================] - 2s 2ms/step - loss: 0.7414 - accuracy: 0.7916\n",
      "[0.7413656115531921, 0.7916399836540222]\n"
     ]
    }
   ],
   "source": [
    "import tensorflow as tf\n",
    "import tensorflow_datasets as tfds\n",
    "from tensorflow.keras.preprocessing.text import Tokenizer\n",
    "from tensorflow.keras.preprocessing.sequence import pad_sequences\n",
    "import numpy as np\n",
    "\n",
    "# Parameters\n",
    "vocab_size = 10000  # Number of words to consider as features\n",
    "max_length = 120    # Cut texts after this number of words\n",
    "embedding_dim = 16  # Dimensionality of the embedding layer\n",
    "trunc_type = 'post' # Truncate from the end of the review\n",
    "oov_tok = \"<OOV>\"   # Token for out of vocabulary words\n",
    "padding_type = 'post'\n",
    "training_size = 25000\n",
    "\n",
    "# Load the IMDB dataset\n",
    "imdb, info = tfds.load(\"imdb_reviews\", with_info=True, as_supervised=True)\n",
    "train_data, test_data = imdb['train'], imdb['test']\n",
    "\n",
    "# Prepare the datasets\n",
    "train_sentences = []\n",
    "test_sentences = []\n",
    "train_labels = []\n",
    "test_labels = []\n",
    "\n",
    "# TensorFlow datasets are stored in a tf.data.Dataset object, which is a generator.\n",
    "for sentence, label in tfds.as_numpy(train_data):\n",
    "    train_sentences.append(sentence.decode('utf-8'))\n",
    "    train_labels.append(label)\n",
    "\n",
    "for sentence, label in tfds.as_numpy(test_data):\n",
    "    test_sentences.append(sentence.decode('utf-8'))\n",
    "    test_labels.append(label)\n",
    "\n",
    "train_labels = np.array(train_labels)\n",
    "test_labels = np.array(test_labels)\n",
    "\n",
    "# Tokenize the sentences\n",
    "tokenizer = Tokenizer(num_words=vocab_size, oov_token=oov_tok)\n",
    "tokenizer.fit_on_texts(train_sentences)\n",
    "\n",
    "# Convert the sentences to sequences\n",
    "train_sequences = tokenizer.texts_to_sequences(train_sentences)\n",
    "test_sequences = tokenizer.texts_to_sequences(test_sentences)\n",
    "\n",
    "# Pad the sequences so they're all the same length\n",
    "train_padded = pad_sequences(train_sequences, maxlen=max_length, padding=padding_type, truncating=trunc_type)\n",
    "test_padded = pad_sequences(test_sequences, maxlen=max_length, padding=padding_type, truncating=trunc_type)\n",
    "\n",
    "# Define the neural network model\n",
    "model = tf.keras.Sequential([\n",
    "    tf.keras.layers.Embedding(vocab_size, embedding_dim, input_length=max_length),\n",
    "    tf.keras.layers.GlobalAveragePooling1D(),\n",
    "    tf.keras.layers.Dense(24, activation='relu'),\n",
    "    tf.keras.layers.Dense(1, activation='sigmoid')\n",
    "])\n",
    "\n",
    "model.compile(loss='binary_crossentropy',optimizer='adam',metrics=['accuracy'])\n",
    "\n",
    "# Train the model\n",
    "num_epochs = 10\n",
    "history = model.fit(train_padded, train_labels, epochs=num_epochs, validation_data=(test_padded, test_labels), verbose=2)\n",
    "\n",
    "# Evaluate the model\n",
    "results = model.evaluate(test_padded, test_labels)\n",
    "print(results)\n"
   ]
  },
  {
   "cell_type": "code",
   "execution_count": null,
   "metadata": {},
   "outputs": [],
   "source": []
  }
 ],
 "metadata": {
  "kernelspec": {
   "display_name": "Python 3",
   "language": "python",
   "name": "python3"
  },
  "language_info": {
   "codemirror_mode": {
    "name": "ipython",
    "version": 3
   },
   "file_extension": ".py",
   "mimetype": "text/x-python",
   "name": "python",
   "nbconvert_exporter": "python",
   "pygments_lexer": "ipython3",
   "version": "3.11.4"
  }
 },
 "nbformat": 4,
 "nbformat_minor": 2
}
