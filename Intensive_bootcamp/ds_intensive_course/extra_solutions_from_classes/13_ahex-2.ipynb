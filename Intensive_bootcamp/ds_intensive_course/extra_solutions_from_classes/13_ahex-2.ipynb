{
 "cells": [
  {
   "cell_type": "code",
   "execution_count": 5,
   "metadata": {},
   "outputs": [
    {
     "data": {
      "text/plain": [
       "(1000, 8)"
      ]
     },
     "execution_count": 5,
     "metadata": {},
     "output_type": "execute_result"
    }
   ],
   "source": [
    "from sklearn.datasets import fetch_california_housing\n",
    "from sklearn.model_selection import GridSearchCV\n",
    "from sklearn.pipeline import Pipeline\n",
    "from sklearn.preprocessing import StandardScaler\n",
    "from sklearn.linear_model import LinearRegression\n",
    "from sklearn.ensemble import RandomForestRegressor\n",
    "from sklearn.svm import SVR\n",
    "import numpy as np\n",
    "\n",
    "# Load the California housing dataset\n",
    "X, y = fetch_california_housing(return_X_y=True)\n",
    "#X = X[:2000]\n",
    "#y = y[:2000]\n",
    "\n",
    "# Generate random indices\n",
    "n = 2000\n",
    "random_indices_X = np.random.choice(X.shape[0], n, replace=False)\n",
    "random_indices_y = np.random.choice(y.shape[0], n, replace=False)\n",
    "\n",
    "# Select rows\n",
    "selected_rows_X = X[random_indices_X]\n",
    "selected_rows_y = X[random_indices_y]\n",
    "\n",
    "X = selected_rows_X\n",
    "y = selected_rows_y"
   ]
  },
  {
   "cell_type": "code",
   "execution_count": null,
   "metadata": {},
   "outputs": [],
   "source": [
    "# Cross-validation and hyperparameter optimization\n",
    "\n",
    "# Pick the best model"
   ]
  }
 ],
 "metadata": {
  "kernelspec": {
   "display_name": "Python 3",
   "language": "python",
   "name": "python3"
  },
  "language_info": {
   "codemirror_mode": {
    "name": "ipython",
    "version": 3
   },
   "file_extension": ".py",
   "mimetype": "text/x-python",
   "name": "python",
   "nbconvert_exporter": "python",
   "pygments_lexer": "ipython3",
   "version": "3.11.4"
  }
 },
 "nbformat": 4,
 "nbformat_minor": 2
}
