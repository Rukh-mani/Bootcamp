{
 "cells": [
  {
   "cell_type": "code",
   "execution_count": 1,
   "metadata": {},
   "outputs": [],
   "source": [
    "# Import necessary libraries\n",
    "from sklearn.datasets import load_iris\n",
    "from sklearn.model_selection import train_test_split, GridSearchCV, RandomizedSearchCV\n",
    "from sklearn.preprocessing import StandardScaler\n",
    "from sklearn.pipeline import Pipeline\n",
    "from sklearn.svm import SVC\n",
    "from scipy.stats import expon, reciprocal\n",
    "import joblib"
   ]
  },
  {
   "cell_type": "code",
   "execution_count": 2,
   "metadata": {},
   "outputs": [],
   "source": [
    "# Load the Iris dataset\n",
    "iris = load_iris()\n",
    "X, y = iris.data, iris.target\n",
    "\n",
    "# Split the dataset into a training set and a test set\n",
    "X_train, X_test, y_train, y_test = train_test_split(X, y, test_size=0.2, random_state=42)"
   ]
  },
  {
   "cell_type": "markdown",
   "metadata": {},
   "source": [
    "## Grid Search cross validation"
   ]
  },
  {
   "cell_type": "code",
   "execution_count": 8,
   "metadata": {},
   "outputs": [
    {
     "name": "stdout",
     "output_type": "stream",
     "text": [
      "GridSearchCV Best parameters: {'C': 100, 'gamma': 0.01, 'kernel': 'rbf'}\n",
      "GridSearchCV Best cross-validation score: 0.967\n"
     ]
    }
   ],
   "source": [
    "# Create a pipeline integrating GridSearch\n",
    "SVM_grid_search = Pipeline([\n",
    "    ('scaler', StandardScaler()), \n",
    "    ('svm', GridSearchCV(\n",
    "        estimator=SVC(random_state=42),\n",
    "        param_grid={\n",
    "            'C': [0.1, 1, 10, 100], \n",
    "            'gamma': [1, 0.1, 0.01, 0.001],\n",
    "            'kernel': ['rbf', 'linear']\n",
    "        },\n",
    "        cv=5,\n",
    "        verbose=0\n",
    "        )\n",
    "    )\n",
    "])\n",
    "SVM_grid_search.fit(X_train, y_train)\n",
    "print(f\"GridSearchCV Best parameters: {SVM_grid_search.named_steps['svm'].best_params_}\")\n",
    "print(f\"GridSearchCV Best cross-validation score: {SVM_grid_search.named_steps['svm'].best_score_:.3f}\")"
   ]
  },
  {
   "cell_type": "markdown",
   "metadata": {},
   "source": [
    "## Randomized Search cross validation"
   ]
  },
  {
   "cell_type": "code",
   "execution_count": 9,
   "metadata": {},
   "outputs": [
    {
     "name": "stdout",
     "output_type": "stream",
     "text": [
      "GridSearchCV Best parameters: {'C': 5.9874749104613985, 'gamma': 0.047563849756408545}\n",
      "GridSearchCV Best cross-validation score: 0.967\n"
     ]
    }
   ],
   "source": [
    "# Create a pipeline integrating GridSearch\n",
    "SVM_rand_search = Pipeline([\n",
    "    ('scaler', StandardScaler()), \n",
    "    ('svm', RandomizedSearchCV(\n",
    "        estimator=SVC(random_state=42),\n",
    "        param_distributions={\n",
    "            'C': reciprocal(0.1, 100), \n",
    "            'gamma': expon(scale=1.0)\n",
    "        },\n",
    "        n_iter=50,\n",
    "        cv=5,\n",
    "        verbose=0,\n",
    "        random_state=42\n",
    "        )\n",
    "    )\n",
    "])\n",
    "SVM_rand_search.fit(X_train, y_train)\n",
    "print(f\"GridSearchCV Best parameters: {SVM_rand_search.named_steps['svm'].best_params_}\")\n",
    "print(f\"GridSearchCV Best cross-validation score: {SVM_rand_search.named_steps['svm'].best_score_:.3f}\")"
   ]
  },
  {
   "cell_type": "markdown",
   "metadata": {},
   "source": [
    "## Saving and loading trained estimators\n",
    "\n",
    "We will see in the next two batches that it is possible to save a trained estimator and load it later when we want to use it. Code below uses a Python library called *joblib* to achieve this. Don't worry, we will see this later, below code is just a first grasp."
   ]
  },
  {
   "cell_type": "code",
   "execution_count": 8,
   "metadata": {},
   "outputs": [
    {
     "data": {
      "text/plain": [
       "['grid_search_best_pipeline.joblib']"
      ]
     },
     "execution_count": 8,
     "metadata": {},
     "output_type": "execute_result"
    }
   ],
   "source": [
    "# Save the best GridSearchCV estimator\n",
    "joblib.dump(SVM_grid_search.best_estimator_, 'grid_search_best_pipeline.joblib')\n",
    "\n",
    "# Save the best RandomizedSearchCV estimator\n",
    "joblib.dump(SVM_rand_search.best_estimator_, 'random_search_best_pipeline.joblib')"
   ]
  },
  {
   "cell_type": "code",
   "execution_count": 10,
   "metadata": {},
   "outputs": [
    {
     "name": "stdout",
     "output_type": "stream",
     "text": [
      "Loaded GridSearchCV Model Test set score: 0.967\n"
     ]
    }
   ],
   "source": [
    "# Load and evaluate the best GridSearchCV estimator on unseen data\n",
    "loaded_grid_model = joblib.load('grid_search_best_pipeline.joblib')\n",
    "grid_test_score = loaded_grid_model.score(X_test, y_test)\n",
    "print(f\"Loaded GridSearchCV estimator Test set score: {grid_test_score:.3f}\")\n",
    "\n",
    "# Load and evaluate the best RandomizedSearchCV estimator on unseen data\n",
    "loaded_random_model = joblib.load('random_search_best_pipeline.joblib')\n",
    "random_test_score = loaded_random_model.score(X_test, y_test)\n",
    "print(f\"Loaded RandomizedSearchCV estimator Test set score: {random_test_score:.3f}\")"
   ]
  }
 ],
 "metadata": {
  "kernelspec": {
   "display_name": "Python 3",
   "language": "python",
   "name": "python3"
  },
  "language_info": {
   "codemirror_mode": {
    "name": "ipython",
    "version": 3
   },
   "file_extension": ".py",
   "mimetype": "text/x-python",
   "name": "python",
   "nbconvert_exporter": "python",
   "pygments_lexer": "ipython3",
   "version": "3.11.0"
  }
 },
 "nbformat": 4,
 "nbformat_minor": 2
}
