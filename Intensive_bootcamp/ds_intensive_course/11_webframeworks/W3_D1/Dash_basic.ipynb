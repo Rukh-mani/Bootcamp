{
 "cells": [
  {
   "cell_type": "markdown",
   "metadata": {
    "id": "jYkMysyl3acq"
   },
   "source": [
    "app.layout defines the structure of the web page.\n",
    "The layout contains:\n",
    "\n",
    "    A dcc.Input component:\n",
    "        Allows user input through a text box.\n",
    "        id='input': Identifier for this input box.\n",
    "        value='Enter text': Default text displayed in the input box.\n",
    "        type='text': Specifies the input type as text.\n",
    "    A html.Div component:\n",
    "        A container to display the output.\n",
    "        id='output': Identifier for the div where the result will appear.\n",
    "\n",
    "\n",
    "A callback is the connection between the app’s input (user interaction) and output (displayed results).\n",
    "Decorator @app.callback:\n",
    "\n",
    "    Output('output', 'children'): Specifies that the children property (the content) of the HTML element with id='output' will be updated.\n",
    "    Input('input', 'value'): Triggers the callback whenever the value of the input field with id='input' changes.\n",
    "\n",
    "Function update_output:\n",
    "\n",
    "    This function gets called automatically whenever the input value changes.\n",
    "    It takes the input value (input_value) and returns a string (f'You entered: {input_value}'), which becomes the content of the output div.\n",
    "\n"
   ]
  },
  {
   "cell_type": "markdown",
   "metadata": {},
   "source": [
    "### dashboard : helps with visualization key performance indicators in the form of graphs or plots"
   ]
  },
  {
   "cell_type": "code",
   "execution_count": null,
   "metadata": {
    "colab": {
     "base_uri": "https://localhost:8080/",
     "height": 1000
    },
    "executionInfo": {
     "elapsed": 17512,
     "status": "ok",
     "timestamp": 1731889158454,
     "user": {
      "displayName": "Sivasankar Arul",
      "userId": "01477207885972907621"
     },
     "user_tz": -60
    },
    "id": "vFu3-SO6pgfC",
    "outputId": "73f38314-5fa6-4de0-96e9-738f18646a2a"
   },
   "outputs": [],
   "source": [
    "import dash\n",
    "import dash_core_components as dcc\n",
    "import dash_html_components as html\n",
    "from dash.dependencies import Input, Output\n",
    "\n",
    "app = dash.Dash(__name__)\n",
    "\n",
    "app.layout = html.Div([\n",
    "    dcc.Input(id='input', value='Enter text', type='text'),\n",
    "    html.Div(id='output')\n",
    "])\n",
    "\n",
    "@app.callback(\n",
    "    Output('output', 'children'),\n",
    "    [Input('input', 'value')]\n",
    ")\n",
    "def update_output(input_value):\n",
    "    return f'You entered: {input_value}'\n",
    "\n",
    "if __name__ == '__main__':\n",
    "    app.run_server(debug=True)"
   ]
  },
  {
   "cell_type": "markdown",
   "metadata": {},
   "source": [
    "# dash tutorial"
   ]
  },
  {
   "cell_type": "code",
   "execution_count": null,
   "metadata": {},
   "outputs": [],
   "source": [
    "from dash import Dash, html\n",
    "\n",
    "#this is the Dash constructor and is responsible for initializing your app\n",
    "app = Dash() #creating an instance of Dash class\n",
    "\n",
    "#The app layout represents the app components that will be displayed \n",
    "# in the web browser and here is provided as a list\n",
    "app.layout = [html.Div(children='Hello World')] #calling a \"method\" on the class app\n",
    "\n",
    "# These lines are for running your app, and they are almost always the same for any Dash app you create.\n",
    "if __name__ == '__main__':\n",
    "    app.run(debug=True)"
   ]
  },
  {
   "cell_type": "code",
   "execution_count": null,
   "metadata": {},
   "outputs": [],
   "source": [
    "# Import packages\n",
    "#We import the dash_table module to display the data inside a Dash DataTable.\n",
    "from dash import Dash, html, dash_table\n",
    "import pandas as pd\n",
    "\n",
    "# Incorporate data\n",
    "df = pd.read_csv('https://raw.githubusercontent.com/plotly/datasets/master/gapminder2007.csv')\n",
    "\n",
    "# Initialize the app\n",
    "app = Dash()\n",
    "\n",
    "# App layout\n",
    "#In this code, children is an argument within the html.Div() component. \n",
    "# It defines the content or elements nested inside that Div component, which acts as a container in the layout.\n",
    "app.layout = [\n",
    "    html.Div(children='My First App with Data'),\n",
    "    dash_table.DataTable(data=df.to_dict('records'), page_size=10)\n",
    "]\n",
    "\n",
    "# Run the app\n",
    "if __name__ == '__main__':\n",
    "    app.run(debug=True)"
   ]
  },
  {
   "cell_type": "markdown",
   "metadata": {},
   "source": [
    "##### Using the plotly.express library, we build the histogram chart and assign it to the figure property of the dcc.Graph. This displays the histogram in our app."
   ]
  },
  {
   "cell_type": "code",
   "execution_count": null,
   "metadata": {},
   "outputs": [],
   "source": [
    "# We import the dcc module (DCC stands for Dash Core Components). \n",
    "# This module includes a Graph component called dcc.Graph, which is used to render interactive graphs.\n",
    "# We also import the plotly.express library to build the interactive graphs.\n",
    "\n",
    "from dash import Dash, html, dash_table, dcc\n",
    "import pandas as pd\n",
    "import plotly.express as px\n",
    "\n",
    "# Incorporate data\n",
    "df = pd.read_csv('https://raw.githubusercontent.com/plotly/datasets/master/gapminder2007.csv')\n",
    "\n",
    "# Initialize the app\n",
    "app = Dash()\n",
    "\n",
    "# App layout\n",
    "app.layout = [\n",
    "    html.Div(children='My First App with Data and a Graph'),\n",
    "    dash_table.DataTable(data=df.to_dict('records'), page_size=10), #page_size: The number of rows to display per page (here, 6 rows).\n",
    "    # this dcc module is called dash core components - graph in dcc is used to render interactive plots\n",
    "    # the \"px\" in px.histogram which is plotly express library is used to build interactive graphs as well\n",
    "    dcc.Graph(figure=px.histogram(df, x='continent', y='lifeExp', histfunc='avg'))\n",
    "]\n",
    "\n",
    "# Run the app\n",
    "if __name__ == '__main__':\n",
    "    app.run(debug=True)"
   ]
  },
  {
   "cell_type": "markdown",
   "metadata": {},
   "source": [
    "## controls and callbacks"
   ]
  },
  {
   "cell_type": "markdown",
   "metadata": {},
   "source": [
    "#### description for the code below:\n",
    "##### dcc.RadioItems: A Dash component that renders a set of radio buttons for the user to select from.\n",
    "##### Parameters:\n",
    "##### options: The list of options available to the user: ['pop', 'lifeExp', 'gdpPercap']. These correspond to columns in the DataFrame (df).\n",
    "##### value: The default selected value, in this case 'lifeExp' (life expectancy).\n",
    "##### id: The unique identifier for the component, which is controls_and_radio_items. This ID is important for callbacks (interactive updates in Dash apps).\n",
    "\n",
    "##### plotting - Parameters:\n",
    "##### figure: The plot configuration. Here, it is initialized as an empty dictionary ({}), meaning no graph is shown initially.\n",
    "##### id: A unique identifier for the graph (controls_and_graph), which is used to dynamically update the graph based on user inputs (like selecting a radio item)."
   ]
  },
  {
   "cell_type": "code",
   "execution_count": null,
   "metadata": {},
   "outputs": [],
   "source": [
    "from dash import Dash, html, dash_table, dcc, callback, Input, Output\n",
    "import pandas as pd\n",
    "import plotly.express as px\n",
    "\n",
    "#read the data into a df\n",
    "df = pd.read_csv('https://raw.githubusercontent.com/plotly/datasets/master/gapminder2007.csv')\n",
    "\n",
    "#initialize the app\n",
    "app = Dash()\n",
    "\n",
    "#app layout\n",
    "app.layout = [\n",
    "    html.Div(children='My first app with Dash - data and controls'),\n",
    "    html.Hr(), #it creates a horizontal line to separate the sections\n",
    "    dcc.RadioItems(options =['pop', 'lifeExp', 'gdpPercap'], value='lifeExp', id= 'controls_and_radio_items'), #creates a menu for users to select what\n",
    "      #they want to display with the current option as life exp\n",
    "    dash_table.DataTable(data=df.to_dict('records'), page_size=6), # no of items to display per page\n",
    "    dcc.Graph(figure = {}, id='controls_and_graph') #dynamically updates the plot based on user selection\n",
    "]\n",
    "\n",
    "# Add controls to build the interaction\n",
    "@callback(\n",
    "    Output(component_id='controls-and-graph', component_property='figure'),\n",
    "    Input(component_id='controls-and-radio-item', component_property='value')\n",
    ")\n",
    "def update_graph(col_chosen):\n",
    "    fig = px.histogram(df, x='continent', y=col_chosen, histfunc='avg')\n",
    "    return fig\n"
   ]
  },
  {
   "cell_type": "markdown",
   "metadata": {},
   "source": [
    "## what happens at the callback section?\n",
    "User Interaction: The user selects a column ('pop', 'lifeExp', 'gdpPercap') in the radio items (dcc.RadioItems).\n",
    "\n",
    "Callback Trigger: The selection triggers the callback because the value property of the radio items changes.\n",
    "\n",
    "Callback Function: The function update_graph runs and generates a new histogram figure (fig) based on the selected column.\n",
    "\n",
    "Graph Update: The dcc.Graph with ID controls-and-graph updates to display the new histogram."
   ]
  },
  {
   "cell_type": "code",
   "execution_count": null,
   "metadata": {},
   "outputs": [],
   "source": [
    "#the records arguement specifies the format in which the df should be made into a dictionary\n",
    "##eg: \n",
    "# import pandas as pd\n",
    "#df = pd.read_csv('https://raw.githubusercontent.com/plotly/datasets/master/gapminder2007.csv')\n",
    "#df.to_dict('records')"
   ]
  }
 ],
 "metadata": {
  "colab": {
   "authorship_tag": "ABX9TyO0MgxDKHFuo9QT5SEbX3pk",
   "provenance": []
  },
  "kernelspec": {
   "display_name": "dwwshop",
   "language": "python",
   "name": "python3"
  },
  "language_info": {
   "codemirror_mode": {
    "name": "ipython",
    "version": 3
   },
   "file_extension": ".py",
   "mimetype": "text/x-python",
   "name": "python",
   "nbconvert_exporter": "python",
   "pygments_lexer": "ipython3",
   "version": "3.11.7"
  }
 },
 "nbformat": 4,
 "nbformat_minor": 0
}
