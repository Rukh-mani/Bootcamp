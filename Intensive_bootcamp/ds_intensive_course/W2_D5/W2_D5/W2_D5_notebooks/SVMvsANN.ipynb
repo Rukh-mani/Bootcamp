{
 "cells": [
  {
   "cell_type": "code",
   "execution_count": null,
   "metadata": {
    "colab": {
     "base_uri": "https://localhost:8080/"
    },
    "executionInfo": {
     "elapsed": 24162,
     "status": "ok",
     "timestamp": 1731627624864,
     "user": {
      "displayName": "Sivasankar Arul",
      "userId": "01477207885972907621"
     },
     "user_tz": -60
    },
    "id": "kLz8vHKXCy18",
    "outputId": "e91ab00f-e811-4308-d3f9-c9820d200b9f"
   },
   "outputs": [],
   "source": [
    "## %pip install tensorflow"
   ]
  },
  {
   "cell_type": "code",
   "execution_count": 1,
   "metadata": {
    "colab": {
     "base_uri": "https://localhost:8080/"
    },
    "executionInfo": {
     "elapsed": 4545,
     "status": "ok",
     "timestamp": 1731627701202,
     "user": {
      "displayName": "Sivasankar Arul",
      "userId": "01477207885972907621"
     },
     "user_tz": -60
    },
    "id": "Gu5VTmpeCqRC",
    "outputId": "b1033b96-df65-4fe3-ef7d-e2cc302d65d3"
   },
   "outputs": [
    {
     "name": "stdout",
     "output_type": "stream",
     "text": [
      "SVM Validation Accuracy: 0.96989038434855\n"
     ]
    }
   ],
   "source": [
    "import pandas as pd\n",
    "from sklearn.model_selection import train_test_split, cross_val_score\n",
    "from sklearn.svm import SVC\n",
    "from sklearn.preprocessing import StandardScaler, LabelEncoder\n",
    "from sklearn.metrics import accuracy_score\n",
    "from tensorflow.keras.utils import to_categorical\n",
    "import numpy as np\n",
    "from sklearn.model_selection import train_test_split\n",
    "\n",
    "# Load data\n",
    "train_data = pd.read_csv('./training_validation/training_dataset.csv')\n",
    "validation_data = pd.read_csv('./training_validation/validation_dataset.csv')\n",
    "\n",
    "# Remove rows with NaN values\n",
    "train_data = train_data.dropna()\n",
    "validation_data = validation_data.dropna()\n",
    "\n",
    "\n",
    "# Separate features and target for training data\n",
    "X_train = train_data.drop(columns=['TARGET'])  # Replace 'target' with the name of your target column\n",
    "y_train = train_data['TARGET']\n",
    "\n",
    "# Separate features and target for validation data\n",
    "X_val = validation_data.drop(columns=['TARGET'])  # Replace 'target' with the name of your target column\n",
    "y_val = validation_data['TARGET']\n",
    "\n",
    "# # Encode target labels (for multiclass)\n",
    "label_encoder = LabelEncoder()\n",
    "y_train = label_encoder.fit_transform(y_train)\n",
    "y_val = label_encoder.transform(y_val)\n",
    "\n",
    "# Standardize the data\n",
    "scaler = StandardScaler()\n",
    "X_train = scaler.fit_transform(X_train)\n",
    "X_val = scaler.transform(X_val)\n",
    "number_of_classes = len(np.unique(y_train))\n",
    "\n",
    "# Train and validate SVM model\n",
    "# SVM Model with Cross Validation\n",
    "svm = SVC(kernel='linear')\n",
    "svm.fit(X_train, y_train)\n",
    "svm_y_pred = svm.predict(X_val)\n",
    "svm_accuracy = accuracy_score(y_val, svm_y_pred)\n",
    "print(\"SVM Validation Accuracy:\", svm_accuracy)\n"
   ]
  },
  {
   "cell_type": "code",
   "execution_count": 3,
   "metadata": {
    "colab": {
     "base_uri": "https://localhost:8080/"
    },
    "executionInfo": {
     "elapsed": 77516,
     "status": "ok",
     "timestamp": 1731627858586,
     "user": {
      "displayName": "Sivasankar Arul",
      "userId": "01477207885972907621"
     },
     "user_tz": -60
    },
    "id": "mcJdxPvVDgjD",
    "outputId": "0c56f71d-fd0f-42be-97fc-fad02dec0f4b"
   },
   "outputs": [
    {
     "name": "stderr",
     "output_type": "stream",
     "text": [
      "c:\\anaconda\\envs\\dwwshop\\Lib\\site-packages\\keras\\src\\layers\\core\\dense.py:87: UserWarning: Do not pass an `input_shape`/`input_dim` argument to a layer. When using Sequential models, prefer using an `Input(shape)` object as the first layer in the model instead.\n",
      "  super().__init__(activity_regularizer=activity_regularizer, **kwargs)\n"
     ]
    },
    {
     "name": "stdout",
     "output_type": "stream",
     "text": [
      "Epoch 1/50\n",
      "\u001b[1m391/391\u001b[0m \u001b[32m━━━━━━━━━━━━━━━━━━━━\u001b[0m\u001b[37m\u001b[0m \u001b[1m4s\u001b[0m 5ms/step - accuracy: 0.5075 - loss: 290.0985 - val_accuracy: 0.5937 - val_loss: 1.2061\n",
      "Epoch 2/50\n",
      "\u001b[1m391/391\u001b[0m \u001b[32m━━━━━━━━━━━━━━━━━━━━\u001b[0m\u001b[37m\u001b[0m \u001b[1m4s\u001b[0m 9ms/step - accuracy: 0.4742 - loss: 1.5197 - val_accuracy: 0.6378 - val_loss: 1.0059\n",
      "Epoch 3/50\n",
      "\u001b[1m391/391\u001b[0m \u001b[32m━━━━━━━━━━━━━━━━━━━━\u001b[0m\u001b[37m\u001b[0m \u001b[1m3s\u001b[0m 6ms/step - accuracy: 0.5090 - loss: 1.3347 - val_accuracy: 0.6658 - val_loss: 0.9330\n",
      "Epoch 4/50\n",
      "\u001b[1m391/391\u001b[0m \u001b[32m━━━━━━━━━━━━━━━━━━━━\u001b[0m\u001b[37m\u001b[0m \u001b[1m2s\u001b[0m 6ms/step - accuracy: 0.5571 - loss: 1.1155 - val_accuracy: 0.7147 - val_loss: 0.8344\n",
      "Epoch 5/50\n",
      "\u001b[1m391/391\u001b[0m \u001b[32m━━━━━━━━━━━━━━━━━━━━\u001b[0m\u001b[37m\u001b[0m \u001b[1m2s\u001b[0m 5ms/step - accuracy: 0.5893 - loss: 1.0485 - val_accuracy: 0.7410 - val_loss: 0.7899\n",
      "Epoch 6/50\n",
      "\u001b[1m391/391\u001b[0m \u001b[32m━━━━━━━━━━━━━━━━━━━━\u001b[0m\u001b[37m\u001b[0m \u001b[1m3s\u001b[0m 7ms/step - accuracy: 0.6553 - loss: 0.9417 - val_accuracy: 0.8887 - val_loss: 0.6530\n",
      "Epoch 7/50\n",
      "\u001b[1m391/391\u001b[0m \u001b[32m━━━━━━━━━━━━━━━━━━━━\u001b[0m\u001b[37m\u001b[0m \u001b[1m2s\u001b[0m 5ms/step - accuracy: 0.6809 - loss: 0.9288 - val_accuracy: 0.7438 - val_loss: 0.8466\n",
      "Epoch 8/50\n",
      "\u001b[1m391/391\u001b[0m \u001b[32m━━━━━━━━━━━━━━━━━━━━\u001b[0m\u001b[37m\u001b[0m \u001b[1m2s\u001b[0m 5ms/step - accuracy: 0.6132 - loss: 1.0279 - val_accuracy: 0.7460 - val_loss: 0.7728\n",
      "Epoch 9/50\n",
      "\u001b[1m391/391\u001b[0m \u001b[32m━━━━━━━━━━━━━━━━━━━━\u001b[0m\u001b[37m\u001b[0m \u001b[1m3s\u001b[0m 7ms/step - accuracy: 0.6203 - loss: 0.9905 - val_accuracy: 0.7669 - val_loss: 0.7542\n",
      "Epoch 10/50\n",
      "\u001b[1m391/391\u001b[0m \u001b[32m━━━━━━━━━━━━━━━━━━━━\u001b[0m\u001b[37m\u001b[0m \u001b[1m3s\u001b[0m 8ms/step - accuracy: 0.6141 - loss: 0.9982 - val_accuracy: 0.7497 - val_loss: 0.7621\n",
      "Epoch 11/50\n",
      "\u001b[1m391/391\u001b[0m \u001b[32m━━━━━━━━━━━━━━━━━━━━\u001b[0m\u001b[37m\u001b[0m \u001b[1m2s\u001b[0m 5ms/step - accuracy: 0.6247 - loss: 0.9814 - val_accuracy: 0.7788 - val_loss: 0.7482\n",
      "Epoch 12/50\n",
      "\u001b[1m391/391\u001b[0m \u001b[32m━━━━━━━━━━━━━━━━━━━━\u001b[0m\u001b[37m\u001b[0m \u001b[1m3s\u001b[0m 8ms/step - accuracy: 0.6329 - loss: 0.9572 - val_accuracy: 0.8468 - val_loss: 0.6418\n",
      "Epoch 13/50\n",
      "\u001b[1m391/391\u001b[0m \u001b[32m━━━━━━━━━━━━━━━━━━━━\u001b[0m\u001b[37m\u001b[0m \u001b[1m3s\u001b[0m 8ms/step - accuracy: 0.6712 - loss: 0.9768 - val_accuracy: 0.7430 - val_loss: 0.7820\n",
      "Epoch 14/50\n",
      "\u001b[1m391/391\u001b[0m \u001b[32m━━━━━━━━━━━━━━━━━━━━\u001b[0m\u001b[37m\u001b[0m \u001b[1m3s\u001b[0m 7ms/step - accuracy: 0.6281 - loss: 0.9719 - val_accuracy: 0.7263 - val_loss: 0.7857\n",
      "Epoch 15/50\n",
      "\u001b[1m391/391\u001b[0m \u001b[32m━━━━━━━━━━━━━━━━━━━━\u001b[0m\u001b[37m\u001b[0m \u001b[1m3s\u001b[0m 8ms/step - accuracy: 0.6298 - loss: 0.9782 - val_accuracy: 0.7513 - val_loss: 0.7678\n",
      "Epoch 16/50\n",
      "\u001b[1m391/391\u001b[0m \u001b[32m━━━━━━━━━━━━━━━━━━━━\u001b[0m\u001b[37m\u001b[0m \u001b[1m2s\u001b[0m 4ms/step - accuracy: 0.6168 - loss: 0.9912 - val_accuracy: 0.7788 - val_loss: 0.7554\n",
      "Epoch 17/50\n",
      "\u001b[1m391/391\u001b[0m \u001b[32m━━━━━━━━━━━━━━━━━━━━\u001b[0m\u001b[37m\u001b[0m \u001b[1m2s\u001b[0m 6ms/step - accuracy: 0.6402 - loss: 0.9559 - val_accuracy: 0.7724 - val_loss: 0.7540\n",
      "Epoch 18/50\n",
      "\u001b[1m391/391\u001b[0m \u001b[32m━━━━━━━━━━━━━━━━━━━━\u001b[0m\u001b[37m\u001b[0m \u001b[1m2s\u001b[0m 4ms/step - accuracy: 0.6286 - loss: 0.9679 - val_accuracy: 0.7843 - val_loss: 0.7571\n",
      "Epoch 19/50\n",
      "\u001b[1m391/391\u001b[0m \u001b[32m━━━━━━━━━━━━━━━━━━━━\u001b[0m\u001b[37m\u001b[0m \u001b[1m2s\u001b[0m 6ms/step - accuracy: 0.6069 - loss: 1.0202 - val_accuracy: 0.7460 - val_loss: 0.7833\n",
      "Epoch 20/50\n",
      "\u001b[1m391/391\u001b[0m \u001b[32m━━━━━━━━━━━━━━━━━━━━\u001b[0m\u001b[37m\u001b[0m \u001b[1m4s\u001b[0m 9ms/step - accuracy: 0.6320 - loss: 1.0272 - val_accuracy: 0.7460 - val_loss: 0.7603\n",
      "Epoch 21/50\n",
      "\u001b[1m391/391\u001b[0m \u001b[32m━━━━━━━━━━━━━━━━━━━━\u001b[0m\u001b[37m\u001b[0m \u001b[1m5s\u001b[0m 12ms/step - accuracy: 0.6268 - loss: 0.9730 - val_accuracy: 0.7594 - val_loss: 1.1985\n",
      "Epoch 22/50\n",
      "\u001b[1m391/391\u001b[0m \u001b[32m━━━━━━━━━━━━━━━━━━━━\u001b[0m\u001b[37m\u001b[0m \u001b[1m4s\u001b[0m 10ms/step - accuracy: 0.5810 - loss: 1.4852 - val_accuracy: 0.7741 - val_loss: 0.7554\n",
      "Epoch 23/50\n",
      "\u001b[1m391/391\u001b[0m \u001b[32m━━━━━━━━━━━━━━━━━━━━\u001b[0m\u001b[37m\u001b[0m \u001b[1m5s\u001b[0m 12ms/step - accuracy: 0.6169 - loss: 1.0194 - val_accuracy: 0.7469 - val_loss: 0.7439\n",
      "Epoch 24/50\n",
      "\u001b[1m391/391\u001b[0m \u001b[32m━━━━━━━━━━━━━━━━━━━━\u001b[0m\u001b[37m\u001b[0m \u001b[1m4s\u001b[0m 10ms/step - accuracy: 0.6260 - loss: 0.9769 - val_accuracy: 0.7641 - val_loss: 0.7246\n",
      "Epoch 25/50\n",
      "\u001b[1m391/391\u001b[0m \u001b[32m━━━━━━━━━━━━━━━━━━━━\u001b[0m\u001b[37m\u001b[0m \u001b[1m4s\u001b[0m 11ms/step - accuracy: 0.6039 - loss: 1.0337 - val_accuracy: 0.7746 - val_loss: 0.7158\n",
      "Epoch 26/50\n",
      "\u001b[1m391/391\u001b[0m \u001b[32m━━━━━━━━━━━━━━━━━━━━\u001b[0m\u001b[37m\u001b[0m \u001b[1m4s\u001b[0m 11ms/step - accuracy: 0.6475 - loss: 0.9487 - val_accuracy: 0.7444 - val_loss: 0.7416\n",
      "Epoch 27/50\n",
      "\u001b[1m391/391\u001b[0m \u001b[32m━━━━━━━━━━━━━━━━━━━━\u001b[0m\u001b[37m\u001b[0m \u001b[1m5s\u001b[0m 11ms/step - accuracy: 0.6159 - loss: 0.9921 - val_accuracy: 0.7835 - val_loss: 0.7704\n",
      "Epoch 28/50\n",
      "\u001b[1m391/391\u001b[0m \u001b[32m━━━━━━━━━━━━━━━━━━━━\u001b[0m\u001b[37m\u001b[0m \u001b[1m3s\u001b[0m 8ms/step - accuracy: 0.6361 - loss: 0.9605 - val_accuracy: 0.7694 - val_loss: 0.7169\n",
      "Epoch 29/50\n",
      "\u001b[1m391/391\u001b[0m \u001b[32m━━━━━━━━━━━━━━━━━━━━\u001b[0m\u001b[37m\u001b[0m \u001b[1m3s\u001b[0m 7ms/step - accuracy: 0.6013 - loss: 1.0202 - val_accuracy: 0.4921 - val_loss: 1.0296\n",
      "Epoch 30/50\n",
      "\u001b[1m391/391\u001b[0m \u001b[32m━━━━━━━━━━━━━━━━━━━━\u001b[0m\u001b[37m\u001b[0m \u001b[1m3s\u001b[0m 7ms/step - accuracy: 0.3957 - loss: 1.2517 - val_accuracy: 0.4921 - val_loss: 0.9694\n",
      "Epoch 31/50\n",
      "\u001b[1m391/391\u001b[0m \u001b[32m━━━━━━━━━━━━━━━━━━━━\u001b[0m\u001b[37m\u001b[0m \u001b[1m4s\u001b[0m 10ms/step - accuracy: 0.3789 - loss: 1.2397 - val_accuracy: 0.4921 - val_loss: 0.9619\n",
      "Epoch 32/50\n",
      "\u001b[1m391/391\u001b[0m \u001b[32m━━━━━━━━━━━━━━━━━━━━\u001b[0m\u001b[37m\u001b[0m \u001b[1m4s\u001b[0m 9ms/step - accuracy: 0.3915 - loss: 1.2297 - val_accuracy: 0.4777 - val_loss: 0.9615\n",
      "Epoch 33/50\n",
      "\u001b[1m391/391\u001b[0m \u001b[32m━━━━━━━━━━━━━━━━━━━━\u001b[0m\u001b[37m\u001b[0m \u001b[1m4s\u001b[0m 9ms/step - accuracy: 0.3974 - loss: 1.2292 - val_accuracy: 0.4921 - val_loss: 0.9613\n",
      "Epoch 34/50\n",
      "\u001b[1m391/391\u001b[0m \u001b[32m━━━━━━━━━━━━━━━━━━━━\u001b[0m\u001b[37m\u001b[0m \u001b[1m4s\u001b[0m 10ms/step - accuracy: 0.3881 - loss: 1.2449 - val_accuracy: 0.4921 - val_loss: 0.9601\n",
      "Epoch 35/50\n",
      "\u001b[1m391/391\u001b[0m \u001b[32m━━━━━━━━━━━━━━━━━━━━\u001b[0m\u001b[37m\u001b[0m \u001b[1m3s\u001b[0m 7ms/step - accuracy: 0.4021 - loss: 1.2471 - val_accuracy: 0.4921 - val_loss: 0.9551\n",
      "Epoch 36/50\n",
      "\u001b[1m391/391\u001b[0m \u001b[32m━━━━━━━━━━━━━━━━━━━━\u001b[0m\u001b[37m\u001b[0m \u001b[1m3s\u001b[0m 8ms/step - accuracy: 0.3980 - loss: 1.2535 - val_accuracy: 0.4777 - val_loss: 0.9546\n",
      "Epoch 37/50\n",
      "\u001b[1m391/391\u001b[0m \u001b[32m━━━━━━━━━━━━━━━━━━━━\u001b[0m\u001b[37m\u001b[0m \u001b[1m3s\u001b[0m 8ms/step - accuracy: 0.3943 - loss: 1.2337 - val_accuracy: 0.4921 - val_loss: 0.9631\n",
      "Epoch 38/50\n",
      "\u001b[1m391/391\u001b[0m \u001b[32m━━━━━━━━━━━━━━━━━━━━\u001b[0m\u001b[37m\u001b[0m \u001b[1m3s\u001b[0m 8ms/step - accuracy: 0.4006 - loss: 1.2492 - val_accuracy: 0.4777 - val_loss: 0.9596\n",
      "Epoch 39/50\n",
      "\u001b[1m391/391\u001b[0m \u001b[32m━━━━━━━━━━━━━━━━━━━━\u001b[0m\u001b[37m\u001b[0m \u001b[1m3s\u001b[0m 7ms/step - accuracy: 0.3942 - loss: 1.2406 - val_accuracy: 0.4777 - val_loss: 0.9614\n",
      "Epoch 40/50\n",
      "\u001b[1m391/391\u001b[0m \u001b[32m━━━━━━━━━━━━━━━━━━━━\u001b[0m\u001b[37m\u001b[0m \u001b[1m5s\u001b[0m 12ms/step - accuracy: 0.3956 - loss: 1.2341 - val_accuracy: 0.4777 - val_loss: 0.9586\n",
      "Epoch 41/50\n",
      "\u001b[1m391/391\u001b[0m \u001b[32m━━━━━━━━━━━━━━━━━━━━\u001b[0m\u001b[37m\u001b[0m \u001b[1m4s\u001b[0m 10ms/step - accuracy: 0.3938 - loss: 1.2548 - val_accuracy: 0.4777 - val_loss: 0.9537\n",
      "Epoch 42/50\n",
      "\u001b[1m391/391\u001b[0m \u001b[32m━━━━━━━━━━━━━━━━━━━━\u001b[0m\u001b[37m\u001b[0m \u001b[1m3s\u001b[0m 8ms/step - accuracy: 0.3874 - loss: 1.2460 - val_accuracy: 0.4777 - val_loss: 0.9535\n",
      "Epoch 43/50\n",
      "\u001b[1m391/391\u001b[0m \u001b[32m━━━━━━━━━━━━━━━━━━━━\u001b[0m\u001b[37m\u001b[0m \u001b[1m3s\u001b[0m 8ms/step - accuracy: 0.4090 - loss: 1.2276 - val_accuracy: 0.4921 - val_loss: 0.9592\n",
      "Epoch 44/50\n",
      "\u001b[1m391/391\u001b[0m \u001b[32m━━━━━━━━━━━━━━━━━━━━\u001b[0m\u001b[37m\u001b[0m \u001b[1m3s\u001b[0m 8ms/step - accuracy: 0.4116 - loss: 1.2358 - val_accuracy: 0.4777 - val_loss: 0.9573\n",
      "Epoch 45/50\n",
      "\u001b[1m391/391\u001b[0m \u001b[32m━━━━━━━━━━━━━━━━━━━━\u001b[0m\u001b[37m\u001b[0m \u001b[1m3s\u001b[0m 7ms/step - accuracy: 0.3970 - loss: 1.2372 - val_accuracy: 0.4921 - val_loss: 0.9601\n",
      "Epoch 46/50\n",
      "\u001b[1m391/391\u001b[0m \u001b[32m━━━━━━━━━━━━━━━━━━━━\u001b[0m\u001b[37m\u001b[0m \u001b[1m4s\u001b[0m 9ms/step - accuracy: 0.3870 - loss: 1.2416 - val_accuracy: 0.4921 - val_loss: 0.9528\n",
      "Epoch 47/50\n",
      "\u001b[1m391/391\u001b[0m \u001b[32m━━━━━━━━━━━━━━━━━━━━\u001b[0m\u001b[37m\u001b[0m \u001b[1m3s\u001b[0m 7ms/step - accuracy: 0.3788 - loss: 1.2543 - val_accuracy: 0.4921 - val_loss: 0.9522\n",
      "Epoch 48/50\n",
      "\u001b[1m391/391\u001b[0m \u001b[32m━━━━━━━━━━━━━━━━━━━━\u001b[0m\u001b[37m\u001b[0m \u001b[1m3s\u001b[0m 6ms/step - accuracy: 0.4044 - loss: 1.2514 - val_accuracy: 0.4921 - val_loss: 0.9563\n",
      "Epoch 49/50\n",
      "\u001b[1m391/391\u001b[0m \u001b[32m━━━━━━━━━━━━━━━━━━━━\u001b[0m\u001b[37m\u001b[0m \u001b[1m3s\u001b[0m 9ms/step - accuracy: 0.3986 - loss: 1.2516 - val_accuracy: 0.4921 - val_loss: 0.9590\n",
      "Epoch 50/50\n",
      "\u001b[1m391/391\u001b[0m \u001b[32m━━━━━━━━━━━━━━━━━━━━\u001b[0m\u001b[37m\u001b[0m \u001b[1m4s\u001b[0m 9ms/step - accuracy: 0.3884 - loss: 1.2403 - val_accuracy: 0.4921 - val_loss: 0.9592\n",
      "ANN Test Accuracy: 0.4772475063800812\n"
     ]
    }
   ],
   "source": [
    "import pandas as pd\n",
    "from sklearn.model_selection import train_test_split, cross_val_score\n",
    "from sklearn.svm import SVC\n",
    "from sklearn.preprocessing import StandardScaler, LabelEncoder\n",
    "from sklearn.metrics import accuracy_score\n",
    "from tensorflow.keras.models import Sequential\n",
    "from tensorflow.keras.layers import Dense\n",
    "from tensorflow.keras.optimizers import Adam\n",
    "from tensorflow.keras.utils import to_categorical\n",
    "import numpy as np\n",
    "from sklearn.model_selection import train_test_split\n",
    "\n",
    "##############\n",
    "#### ANN #####\n",
    "##############\n",
    "\n",
    "\n",
    "\n",
    "# Load data\n",
    "train_data = pd.read_csv('./training_validation/training_dataset.csv')\n",
    "validation_data = pd.read_csv('./training_validation/validation_dataset.csv')\n",
    "\n",
    "# Remove rows with NaN values\n",
    "train_data = train_data.dropna()\n",
    "validation_data = validation_data.dropna()\n",
    "\n",
    "# Separate features and target for training data\n",
    "X_train = train_data.drop(columns=['TARGET'])  # Replace 'TARGET' with the actual target column name\n",
    "y_train = train_data['TARGET']\n",
    "\n",
    "# Separate features and target for validation data\n",
    "X_val = validation_data.drop(columns=['TARGET'])\n",
    "y_val = validation_data['TARGET']\n",
    "\n",
    "# Further split the validation data into validation and test sets\n",
    "X_val, X_test, y_val, y_test = train_test_split(X_val, y_val, test_size=0.5, random_state=42)\n",
    "\n",
    "# Encode target labels (for multiclass)\n",
    "label_encoder = LabelEncoder()\n",
    "y_train = label_encoder.fit_transform(y_train)\n",
    "y_val = label_encoder.transform(y_val)\n",
    "y_test = label_encoder.transform(y_test)\n",
    "\n",
    "# Define the number of classes\n",
    "number_of_classes = len(label_encoder.classes_)\n",
    "\n",
    "# Prepare the target variable for ANN model (One-Hot Encoding)\n",
    "y_train_categorical = to_categorical(y_train, num_classes=number_of_classes)\n",
    "y_val_categorical = to_categorical(y_val, num_classes=number_of_classes)\n",
    "y_test_categorical = to_categorical(y_test, num_classes=number_of_classes)\n",
    "\n",
    "# Build the ANN Model for Multiclass Classification\n",
    "ann_model = Sequential()\n",
    "ann_model.add(Dense(64, input_dim=X_train.shape[1], activation='relu'))\n",
    "ann_model.add(Dense(32, activation='relu'))\n",
    "ann_model.add(Dense(16, activation='relu'))\n",
    "ann_model.add(Dense(number_of_classes, activation='softmax'))  # Ensure the output layer matches num_classes\n",
    "\n",
    "# Compile the model\n",
    "ann_model.compile(optimizer=Adam(learning_rate=0.001), loss='categorical_crossentropy', metrics=['accuracy'])\n",
    "\n",
    "# Train the model\n",
    "ann_model.fit(X_train, y_train_categorical, epochs=50, batch_size=16, validation_data=(X_val, y_val_categorical))\n",
    "\n",
    "# Evaluate on test data\n",
    "ann_loss, ann_accuracy = ann_model.evaluate(X_test, y_test_categorical, verbose=0)\n",
    "print(\"ANN Test Accuracy:\", ann_accuracy)"
   ]
  }
 ],
 "metadata": {
  "colab": {
   "authorship_tag": "ABX9TyPwMg3vlt/jbppbS/RuAKP6",
   "provenance": []
  },
  "kernelspec": {
   "display_name": "dwwshop",
   "language": "python",
   "name": "python3"
  },
  "language_info": {
   "codemirror_mode": {
    "name": "ipython",
    "version": 3
   },
   "file_extension": ".py",
   "mimetype": "text/x-python",
   "name": "python",
   "nbconvert_exporter": "python",
   "pygments_lexer": "ipython3",
   "version": "3.11.7"
  }
 },
 "nbformat": 4,
 "nbformat_minor": 0
}
