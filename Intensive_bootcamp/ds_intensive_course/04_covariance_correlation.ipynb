{
  "nbformat": 4,
  "nbformat_minor": 0,
  "metadata": {
    "colab": {
      "provenance": []
    },
    "kernelspec": {
      "name": "python3",
      "display_name": "Python 3"
    },
    "language_info": {
      "name": "python"
    }
  },
  "cells": [
    {
      "cell_type": "markdown",
      "source": [
        "# **Covariance and correlation**"
      ],
      "metadata": {
        "id": "Mvi8FYkWZ1KX"
      }
    },
    {
      "cell_type": "code",
      "execution_count": null,
      "metadata": {
        "id": "4Qh0HXa-XWZB"
      },
      "outputs": [],
      "source": [
        "import numpy as np\n",
        "import pandas as pd"
      ]
    },
    {
      "cell_type": "markdown",
      "source": [
        "First, we load the dataset that contains heights (in inches) and weights (in lbs) of 10000 individuals."
      ],
      "metadata": {
        "id": "xnzpa8MUaBXf"
      }
    },
    {
      "cell_type": "code",
      "source": [
        "data = pd.read_csv('https://github.com/evgeniyako-edu/datasets/raw/main/weight-height.csv')\n",
        "data.head()"
      ],
      "metadata": {
        "id": "wH4r_OsWXZYx"
      },
      "execution_count": null,
      "outputs": []
    },
    {
      "cell_type": "code",
      "source": [
        "data.shape"
      ],
      "metadata": {
        "id": "P_Bp7bWCaI95"
      },
      "execution_count": null,
      "outputs": []
    },
    {
      "cell_type": "markdown",
      "source": [
        "Height and weight are probably related. What is the covariance between them? You can use the $\\texttt{np.cov()}$ function to estimate covariance matrix."
      ],
      "metadata": {
        "id": "PJOn-n8XaONx"
      }
    },
    {
      "cell_type": "code",
      "source": [
        "np.cov(data[\"Height\"], data[\"Weight\"])"
      ],
      "metadata": {
        "id": "uPGjcPtoYKI7"
      },
      "execution_count": null,
      "outputs": []
    },
    {
      "cell_type": "markdown",
      "source": [
        "And what is the correlation coefficient between the two?"
      ],
      "metadata": {
        "id": "YNis-fZJakZK"
      }
    },
    {
      "cell_type": "code",
      "source": [
        "np.corrcoef(data[\"Height\"], data[\"Weight\"])"
      ],
      "metadata": {
        "id": "G1M7_z_waoV3"
      },
      "execution_count": null,
      "outputs": []
    },
    {
      "cell_type": "markdown",
      "source": [
        "Now, let's convert the measurements into the metric system (meters and kilos):"
      ],
      "metadata": {
        "id": "tnj_C8W8anv2"
      }
    },
    {
      "cell_type": "code",
      "source": [
        "# 1 inch = 0.0254 meters\n",
        "# 1 pound = 0.45359237 kg\n",
        "\n",
        "# TODO: your code here"
      ],
      "metadata": {
        "id": "1dd7uFA1YQqe"
      },
      "execution_count": null,
      "outputs": []
    },
    {
      "cell_type": "markdown",
      "source": [
        "Now, compute covariance and correlation between the transformed heights and weights. What do you observe?"
      ],
      "metadata": {
        "id": "4hZZPN7Wa-Bp"
      }
    },
    {
      "cell_type": "code",
      "source": [
        "# TODO: your code here"
      ],
      "metadata": {
        "id": "NCr9PKB0avbc"
      },
      "execution_count": null,
      "outputs": []
    },
    {
      "cell_type": "code",
      "source": [
        "# TODO: your code here"
      ],
      "metadata": {
        "id": "2YzO4tPRQ8VZ"
      },
      "execution_count": null,
      "outputs": []
    },
    {
      "cell_type": "code",
      "source": [],
      "metadata": {
        "id": "rnB30Z1xRBhi"
      },
      "execution_count": null,
      "outputs": []
    }
  ]
}