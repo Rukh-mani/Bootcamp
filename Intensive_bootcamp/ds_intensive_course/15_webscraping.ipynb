{
 "cells": [
  {
   "cell_type": "code",
   "execution_count": null,
   "metadata": {},
   "outputs": [],
   "source": [
    "# !pip install beautifulsoup4"
   ]
  },
  {
   "cell_type": "code",
   "execution_count": null,
   "metadata": {},
   "outputs": [],
   "source": [
    "import requests\n",
    "from bs4 import BeautifulSoup"
   ]
  },
  {
   "cell_type": "code",
   "execution_count": null,
   "metadata": {},
   "outputs": [],
   "source": [
    "\n",
    "# Define the URL of the Wikipedia page you want to scrape\n",
    "url = 'https://en.wikipedia.org/wiki/Web_scraping'\n",
    "\n",
    "# ALWAYS CHECK robots.txt before scraping"
   ]
  },
  {
   "cell_type": "code",
   "execution_count": null,
   "metadata": {},
   "outputs": [],
   "source": [
    "# Send an HTTP GET request to the URL\n",
    "response = requests.get(url)\n",
    "\n",
    "print(response)"
   ]
  },
  {
   "cell_type": "code",
   "execution_count": null,
   "metadata": {},
   "outputs": [],
   "source": [
    "print(response.status_code)"
   ]
  },
  {
   "cell_type": "code",
   "execution_count": null,
   "metadata": {},
   "outputs": [],
   "source": [
    "print(response.text)"
   ]
  },
  {
   "cell_type": "code",
   "execution_count": null,
   "metadata": {},
   "outputs": [],
   "source": [
    "# Check if the request was successful (status code 200)\n",
    "if response.status_code == 200:\n",
    "    # Parse the HTML content of the page\n",
    "    soup = BeautifulSoup(response.text, 'html.parser')\n",
    "    \n",
    "    # Extract the page title\n",
    "    title = soup.find('h1', id='firstHeading').text\n",
    "    \n",
    "    # Extract the first paragraph of the introduction\n",
    "    intro_paragraph = soup.find('div', class_='mw-parser-output').p.text\n",
    "    \n",
    "    # Print the results\n",
    "    print(\"Title:\", title)\n",
    "    print(\"Introduction:\", intro_paragraph)\n",
    "else:\n",
    "    print(\"Failed to retrieve the Wikipedia page. Status code:\", response.status_code)\n"
   ]
  },
  {
   "cell_type": "code",
   "execution_count": null,
   "metadata": {},
   "outputs": [],
   "source": [
    "#TODO find all headings 'h1', 'h2', 'h3', 'h4', 'h5', 'h6'\n",
    "headings = soup.find_all(['h1', 'h2', 'h3', 'h4', 'h5', 'h6'])"
   ]
  },
  {
   "cell_type": "code",
   "execution_count": null,
   "metadata": {},
   "outputs": [],
   "source": [
    "#TODO print all headings\n",
    "\n",
    "for h in headings:\n",
    "    print(h.text)"
   ]
  },
  {
   "cell_type": "code",
   "execution_count": null,
   "metadata": {},
   "outputs": [],
   "source": [
    "#TODO print all headings withoud the [edit] part\n",
    "\n",
    "for h in headings:\n",
    "    _ = (h.text)\n",
    "    print(_.replace(\"[edit]\", \"\"))"
   ]
  },
  {
   "cell_type": "code",
   "execution_count": null,
   "metadata": {},
   "outputs": [],
   "source": [
    "#TODO lets scrape all the references!\n",
    "#Hint Wthe links are typically under the 'a' tag with the class 'external text' \n",
    "#print the tag\n",
    "#print href parameter (link) from the tag\n",
    "#print the tag's text\n",
    "\n",
    "\n",
    "\n",
    "ref_urls = soup.find_all('a', class_='external text')\n",
    "for r in ref_urls:\n",
    "    print(r)\n",
    "    print(r[\"href\"])\n",
    "    print(r.text)\n",
    "    print(\"-\"*10)\n",
    "\n"
   ]
  },
  {
   "cell_type": "code",
   "execution_count": null,
   "metadata": {},
   "outputs": [],
   "source": []
  }
 ],
 "metadata": {
  "kernelspec": {
   "display_name": ".venv",
   "language": "python",
   "name": "python3"
  },
  "language_info": {
   "codemirror_mode": {
    "name": "ipython",
    "version": 3
   },
   "file_extension": ".py",
   "mimetype": "text/x-python",
   "name": "python",
   "nbconvert_exporter": "python",
   "pygments_lexer": "ipython3",
   "version": "3.11.5"
  },
  "orig_nbformat": 4
 },
 "nbformat": 4,
 "nbformat_minor": 2
}
