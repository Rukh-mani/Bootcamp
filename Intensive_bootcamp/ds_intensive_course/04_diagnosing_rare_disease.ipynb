{
 "cells": [
  {
   "cell_type": "code",
   "execution_count": 9,
   "metadata": {
    "id": "wfY9B4lBC61G"
   },
   "outputs": [],
   "source": [
    "\n",
    "import random\n",
    "import pandas as pd\n",
    "import numpy as np"
   ]
  },
  {
   "cell_type": "markdown",
   "metadata": {
    "id": "oVs5jVnTMJ3l"
   },
   "source": [
    "# **DIAGNOSING A RARE DISEASE**\n",
    "\n",
    "Imagine that $0.5\\%$ of the population has a certain disease:\n",
    "\n",
    "$P(D) = 0.005$\n",
    "\n",
    "There exists a $99\\%$-accurate  test to diagnose it. That is, when the person is sick, the test shows positive (+) result in $99\\%$ of the cases. Similarly, when the person is not sick, the test shows negative (-) result in $99\\%$ of the time:\n",
    "\n",
    "$P(+|Disease) = P(-|no \\ D) = 0.99$\n",
    "\n",
    "Imagine that a random person tests positive. Should they be worried? How likely is it that they are indeed sick? That is, what is the probability\n",
    "\n",
    "$P(D | +) = \\ ?$"
   ]
  },
  {
   "cell_type": "markdown",
   "metadata": {
    "id": "ONfPq3CERj-J"
   },
   "source": [
    "## The task\n",
    "\n",
    "In this exercise, you task is to simulate this scenario and estimate $P(D | +)$ based on the generated data. You will need to complete the following steps:\n",
    "\n",
    "1. Create a sample of N = 100000 people and mark random 0.5% of them as sick.\n",
    "2. Run the test for the disease on all of these people. The test is 99% accurate, meaning that some false negative and false positive results are possible.\n",
    "3. To approximate probability $P(D | +)$ we are interested in, look at the people who got tested positive. How many of them are actually sick?\n",
    "4. Play around with the parameters of our model to see how hey influence the result.\n",
    "\n",
    "Complete the code below following the instructions."
   ]
  },
  {
   "cell_type": "markdown",
   "metadata": {
    "id": "8ZKFvxdvOARC"
   },
   "source": [
    "### Setting up\n",
    "Here is everything we know about the setting:"
   ]
  },
  {
   "cell_type": "code",
   "execution_count": 6,
   "metadata": {
    "id": "aEcsYfPVC9Ff"
   },
   "outputs": [],
   "source": [
    "# Population size\n",
    "N = 100000\n",
    "\n",
    "# The probability of getting the disease\n",
    "# P(D)\n",
    "p_disease = 0.005\n",
    "\n",
    "# The probability that the test is positive\n",
    "# if the person is ill P(+|D)\n",
    "true_pos_rate = 0.99\n",
    "\n",
    "# The probability that the test is negative\n",
    "# if the person is not ill P(-|no D)\n",
    "true_neg_rate = 0.99"
   ]
  },
  {
   "cell_type": "markdown",
   "metadata": {
    "id": "AIJYfP_bRui-"
   },
   "source": [
    "### Generating N people"
   ]
  },
  {
   "cell_type": "markdown",
   "metadata": {
    "id": "zd4Sxi-7ODpd"
   },
   "source": [
    "Since probability of having the disease is `p_disease`, out of `N` people roughly `p_disease * N` should be sick.\n",
    "\n",
    "Let's generate the data that models this."
   ]
  },
  {
   "cell_type": "code",
   "execution_count": 21,
   "metadata": {
    "id": "hwfo16l0C_LA"
   },
   "outputs": [
    {
     "data": {
      "text/plain": [
       "486"
      ]
     },
     "execution_count": 21,
     "metadata": {},
     "output_type": "execute_result"
    }
   ],
   "source": [
    "# Generate N people and diagnose them with the disease (0 - healthy, 1 - sick)\n",
    "# with p_disease = 0.005\n",
    "categories = np.array([0,1])\n",
    "population = np.random.choice(categories,size=N, p=[(1. - p_disease), p_disease]) #Bernoulli trial\n",
    "population\n",
    "np.sum(population) #checking if we have the zeros we expect to have\n",
    "\n"
   ]
  },
  {
   "cell_type": "markdown",
   "metadata": {
    "id": "Wr9297a_Ow1d"
   },
   "source": [
    "### Testing for disease\n",
    "\n",
    "Now, let's test the entire population for the disease in question.\n",
    "\n",
    "For the sick people, the outcome of the test should be positive (1) with probability `true_pos_rate` and negative (0) otherwise. Similarly, for healthy individuals, it should be negative (0) with probability `true_neg_rate` and positive (1) otherwise."
   ]
  },
  {
   "cell_type": "code",
   "execution_count": 45,
   "metadata": {
    "id": "6RFHTxmoDHIB"
   },
   "outputs": [
    {
     "data": {
      "text/plain": [
       "(2, 100000)"
      ]
     },
     "execution_count": 45,
     "metadata": {},
     "output_type": "execute_result"
    }
   ],
   "source": [
    "# The list containing test results.\n",
    "# 0 = healthy, 1 = sick\n",
    "positive = 1\n",
    "negative =0\n",
    "is_sick = np.array([positive,negative])\n",
    "test_for_sick_positive= np.random.choice(is_sick, size=N, p=[true_pos_rate, (1.-true_pos_rate)])\n",
    "test_for_sick_positive\n",
    "\n",
    "is_healthy = np.array([negative, positive])\n",
    "test_for_healthy_negative = np.random.choice(is_healthy, size=N, p=[true_neg_rate, 1.-true_neg_rate])\n",
    "test_for_healthy_negative\n",
    "\n",
    "test_outcomes = np.array([test_for_healthy_negative,\n",
    "                        test_for_sick_positive])\n",
    "\n",
    "\n",
    "test_outcomes.shape"
   ]
  },
  {
   "cell_type": "code",
   "execution_count": null,
   "metadata": {},
   "outputs": [],
   "source": [
    "test_outcome = np.choose(population, test_outcomes)\n",
    "print(test_outcome.shape)\n",
    "print(test_outcome.sum())"
   ]
  },
  {
   "cell_type": "markdown",
   "metadata": {
    "id": "u85VON4KR1oR"
   },
   "source": [
    "### Analysing results of the tests\n",
    "\n",
    "How many positive test results are there compared to the actual number of sick people?\n",
    "\n"
   ]
  },
  {
   "cell_type": "code",
   "execution_count": 49,
   "metadata": {
    "id": "6qeXSCAqDN8N"
   },
   "outputs": [
    {
     "name": "stdout",
     "output_type": "stream",
     "text": [
      "1.442% of the population is diagnosed with the disease.\n",
      "Only 0.486% of people in the population are actually sick.\n"
     ]
    }
   ],
   "source": [
    "print(str(sum(100*test_outcome)/N) + '% of the population is diagnosed with the disease.')\n",
    "print('Only ' + str(100*sum(population)/N) + '% of people in the population are actually sick.')"
   ]
  },
  {
   "cell_type": "markdown",
   "metadata": {
    "id": "yr0x8vwZPyTs"
   },
   "source": [
    "Out of the people who have been diagnosed with a positive test, what is the share of individuals who are actually sick?\n",
    "\n",
    "This ratio approximates the probability P(D|+) that we are interested in."
   ]
  },
  {
   "cell_type": "code",
   "execution_count": 64,
   "metadata": {
    "id": "e_f8U9PqFhGV"
   },
   "outputs": [
    {
     "name": "stdout",
     "output_type": "stream",
     "text": [
      "Chances that the person is sick and is positive: P(D|+) 34.0%\n"
     ]
    }
   ],
   "source": [
    "prob_of_disease_gn_positive=(sum(population)/sum(test_outcome))*100\n",
    "print(f'Chances that the person is sick and is positive: P(D|+) {np.round(prob_of_disease_gn_positive)}%')"
   ]
  },
  {
   "cell_type": "code",
   "execution_count": 62,
   "metadata": {},
   "outputs": [
    {
     "data": {
      "text/plain": [
       "0.01490000000000001"
      ]
     },
     "execution_count": 62,
     "metadata": {},
     "output_type": "execute_result"
    }
   ],
   "source": [
    "#sanity check\n",
    "\n",
    "p_of_test_positive = true_pos_rate*p_disease + (1-true_neg_rate)*(1-p_disease)\n",
    "p_of_test_positive"
   ]
  },
  {
   "cell_type": "code",
   "execution_count": 52,
   "metadata": {},
   "outputs": [
    {
     "name": "stdout",
     "output_type": "stream",
     "text": [
      "Estimated P(D | +): 0.334716459197787\n"
     ]
    }
   ],
   "source": [
    "#chatgpt solution\n",
    "\n",
    "import numpy as np\n",
    "\n",
    "# Parameters\n",
    "N = 100000  # Total population\n",
    "disease_prob = 0.005  # Probability of having the disease\n",
    "test_positive_if_disease = 0.99  # Sensitivity: P(+ | D)\n",
    "test_negative_if_no_disease = 0.99  # Specificity: P(- | no D)\n",
    "\n",
    "# Step 1: Simulate the population\n",
    "# Mark 0.5% of the population as sick\n",
    "sick_population = np.random.rand(N) < disease_prob\n",
    "\n",
    "# Step 2: Simulate the test results\n",
    "# Initialize test results\n",
    "test_results = np.zeros(N, dtype=bool)\n",
    "\n",
    "# For sick individuals, test positive with 99% probability\n",
    "test_results[sick_population] = np.random.rand(sick_population.sum()) < test_positive_if_disease\n",
    "\n",
    "# For healthy individuals, test positive with 1% probability\n",
    "test_results[~sick_population] = np.random.rand((~sick_population).sum()) < (1 - test_negative_if_no_disease)\n",
    "\n",
    "# Step 3: Calculate P(D | +)\n",
    "# Find the number of true positives and false positives\n",
    "positive_tests = test_results.sum()\n",
    "true_positives = (sick_population & test_results).sum()\n",
    "\n",
    "# Estimate P(D | +)\n",
    "p_d_given_positive = true_positives / positive_tests if positive_tests > 0 else 0\n",
    "\n",
    "print(\"Estimated P(D | +):\", p_d_given_positive)\n"
   ]
  }
 ],
 "metadata": {
  "colab": {
   "provenance": []
  },
  "kernelspec": {
   "display_name": "dwwshop",
   "language": "python",
   "name": "python3"
  },
  "language_info": {
   "codemirror_mode": {
    "name": "ipython",
    "version": 3
   },
   "file_extension": ".py",
   "mimetype": "text/x-python",
   "name": "python",
   "nbconvert_exporter": "python",
   "pygments_lexer": "ipython3",
   "version": "3.11.7"
  }
 },
 "nbformat": 4,
 "nbformat_minor": 0
}
