{
 "cells": [
  {
   "cell_type": "code",
   "execution_count": 9,
   "metadata": {
    "id": "wfY9B4lBC61G"
   },
   "outputs": [],
   "source": [
    "\n",
    "import random\n",
    "import pandas as pd\n",
    "import numpy as np"
   ]
  },
  {
   "cell_type": "markdown",
   "metadata": {
    "id": "oVs5jVnTMJ3l"
   },
   "source": [
    "# **DIAGNOSING A RARE DISEASE**\n",
    "\n",
    "Imagine that $0.5\\%$ of the population has a certain disease:\n",
    "\n",
    "$P(D) = 0.005$\n",
    "\n",
    "There exists a $99\\%$-accurate  test to diagnose it. That is, when the person is sick, the test shows positive (+) result in $99\\%$ of the cases. Similarly, when the person is not sick, the test shows negative (-) result in $99\\%$ of the time:\n",
    "\n",
    "$P(+|Disease) = P(-|no \\ D) = 0.99$\n",
    "\n",
    "Imagine that a random person tests positive. Should they be worried? How likely is it that they are indeed sick? That is, what is the probability\n",
    "\n",
    "$P(D | +) = \\ ?$"
   ]
  },
  {
   "cell_type": "markdown",
   "metadata": {
    "id": "ONfPq3CERj-J"
   },
   "source": [
    "## The task\n",
    "\n",
    "In this exercise, you task is to simulate this scenario and estimate $P(D | +)$ based on the generated data. You will need to complete the following steps:\n",
    "\n",
    "1. Create a sample of N = 100000 people and mark random 0.5% of them as sick.\n",
    "2. Run the test for the disease on all of these people. The test is 99% accurate, meaning that some false negative and false positive results are possible.\n",
    "3. To approximate probability $P(D | +)$ we are interested in, look at the people who got tested positive. How many of them are actually sick?\n",
    "4. Play around with the parameters of our model to see how hey influence the result.\n",
    "\n",
    "Complete the code below following the instructions."
   ]
  },
  {
   "cell_type": "markdown",
   "metadata": {
    "id": "8ZKFvxdvOARC"
   },
   "source": [
    "### Setting up\n",
    "Here is everything we know about the setting:"
   ]
  },
  {
   "cell_type": "code",
   "execution_count": 2,
   "metadata": {
    "id": "aEcsYfPVC9Ff"
   },
   "outputs": [],
   "source": [
    "# Population size\n",
    "N = 100000\n",
    "\n",
    "# The probability of getting the disease\n",
    "# P(D)\n",
    "p_disease = 0.005\n",
    "\n",
    "# The probability that the test is positive\n",
    "# if the person is ill P(+|D)\n",
    "true_pos_rate = 0.99\n",
    "\n",
    "# The probability that the test is negative\n",
    "# if the person is not ill P(-|no D)\n",
    "true_neg_rate = 0.99"
   ]
  },
  {
   "cell_type": "markdown",
   "metadata": {
    "id": "AIJYfP_bRui-"
   },
   "source": [
    "### Generating N people"
   ]
  },
  {
   "cell_type": "markdown",
   "metadata": {
    "id": "zd4Sxi-7ODpd"
   },
   "source": [
    "Since probability of having the disease is `p_disease`, out of `N` people roughly `p_disease * N` should be sick.\n",
    "\n",
    "Let's generate the data that models this."
   ]
  },
  {
   "cell_type": "code",
   "execution_count": null,
   "metadata": {
    "id": "hwfo16l0C_LA"
   },
   "outputs": [
    {
     "data": {
      "text/plain": [
       "500.0"
      ]
     },
     "execution_count": 3,
     "metadata": {},
     "output_type": "execute_result"
    }
   ],
   "source": [
    "# Generate N people and diagnose them with the disease (0 - healthy, 1 - sick)\n",
    "# with p_disease = 0.01\n",
    "\n",
    "is_sick = N * p_disease\n",
    "is_sick\n",
    "not_sick = N - is_sick"
   ]
  },
  {
   "cell_type": "code",
   "execution_count": null,
   "metadata": {
    "id": "c1FzOlESOpNZ"
   },
   "outputs": [],
   "source": [
    "#print(100 * sum(is_sick) / N, '% of people in the population have the disease')\n"
   ]
  },
  {
   "cell_type": "markdown",
   "metadata": {
    "id": "Wr9297a_Ow1d"
   },
   "source": [
    "### Testing for disease\n",
    "\n",
    "Now, let's test the entire population for the disease in question.\n",
    "\n",
    "For the sick people, the outcome of the test should be positive (1) with probability `true_pos_rate` and negative (0) otherwise. Similarly, for healthy individuals, it should be negative (0) with probability `true_neg_rate` and positive (1) otherwise."
   ]
  },
  {
   "cell_type": "code",
   "execution_count": 11,
   "metadata": {},
   "outputs": [
    {
     "data": {
      "text/plain": [
       "array([[0., 0.],\n",
       "       [0., 0.],\n",
       "       [0., 0.],\n",
       "       ...,\n",
       "       [0., 0.],\n",
       "       [0., 0.],\n",
       "       [0., 0.]])"
      ]
     },
     "execution_count": 11,
     "metadata": {},
     "output_type": "execute_result"
    }
   ],
   "source": [
    "np.zeros(shape=(N,2))"
   ]
  },
  {
   "cell_type": "code",
   "execution_count": 17,
   "metadata": {
    "id": "6RFHTxmoDHIB"
   },
   "outputs": [
    {
     "data": {
      "text/html": [
       "<div>\n",
       "<style scoped>\n",
       "    .dataframe tbody tr th:only-of-type {\n",
       "        vertical-align: middle;\n",
       "    }\n",
       "\n",
       "    .dataframe tbody tr th {\n",
       "        vertical-align: top;\n",
       "    }\n",
       "\n",
       "    .dataframe thead th {\n",
       "        text-align: right;\n",
       "    }\n",
       "</style>\n",
       "<table border=\"1\" class=\"dataframe\">\n",
       "  <thead>\n",
       "    <tr style=\"text-align: right;\">\n",
       "      <th></th>\n",
       "      <th>Healthy</th>\n",
       "      <th>Sick</th>\n",
       "    </tr>\n",
       "  </thead>\n",
       "  <tbody>\n",
       "    <tr>\n",
       "      <th>0</th>\n",
       "      <td>0.0</td>\n",
       "      <td>0.0</td>\n",
       "    </tr>\n",
       "    <tr>\n",
       "      <th>1</th>\n",
       "      <td>0.0</td>\n",
       "      <td>0.0</td>\n",
       "    </tr>\n",
       "    <tr>\n",
       "      <th>2</th>\n",
       "      <td>0.0</td>\n",
       "      <td>0.0</td>\n",
       "    </tr>\n",
       "    <tr>\n",
       "      <th>3</th>\n",
       "      <td>0.0</td>\n",
       "      <td>0.0</td>\n",
       "    </tr>\n",
       "    <tr>\n",
       "      <th>4</th>\n",
       "      <td>0.0</td>\n",
       "      <td>0.0</td>\n",
       "    </tr>\n",
       "    <tr>\n",
       "      <th>...</th>\n",
       "      <td>...</td>\n",
       "      <td>...</td>\n",
       "    </tr>\n",
       "    <tr>\n",
       "      <th>99995</th>\n",
       "      <td>0.0</td>\n",
       "      <td>0.0</td>\n",
       "    </tr>\n",
       "    <tr>\n",
       "      <th>99996</th>\n",
       "      <td>0.0</td>\n",
       "      <td>0.0</td>\n",
       "    </tr>\n",
       "    <tr>\n",
       "      <th>99997</th>\n",
       "      <td>0.0</td>\n",
       "      <td>0.0</td>\n",
       "    </tr>\n",
       "    <tr>\n",
       "      <th>99998</th>\n",
       "      <td>0.0</td>\n",
       "      <td>0.0</td>\n",
       "    </tr>\n",
       "    <tr>\n",
       "      <th>99999</th>\n",
       "      <td>0.0</td>\n",
       "      <td>0.0</td>\n",
       "    </tr>\n",
       "  </tbody>\n",
       "</table>\n",
       "<p>100000 rows × 2 columns</p>\n",
       "</div>"
      ],
      "text/plain": [
       "       Healthy  Sick\n",
       "0          0.0   0.0\n",
       "1          0.0   0.0\n",
       "2          0.0   0.0\n",
       "3          0.0   0.0\n",
       "4          0.0   0.0\n",
       "...        ...   ...\n",
       "99995      0.0   0.0\n",
       "99996      0.0   0.0\n",
       "99997      0.0   0.0\n",
       "99998      0.0   0.0\n",
       "99999      0.0   0.0\n",
       "\n",
       "[100000 rows x 2 columns]"
      ]
     },
     "execution_count": 17,
     "metadata": {},
     "output_type": "execute_result"
    }
   ],
   "source": [
    "# The list containing test results.\n",
    "# 0 = healthy, 1 = sick\n",
    "\n",
    "test_results = pd.DataFrame(np.zeros(shape=(N,2)), columns=['Healthy','Sick'])\n",
    "test_results"
   ]
  },
  {
   "cell_type": "code",
   "execution_count": 22,
   "metadata": {},
   "outputs": [
    {
     "data": {
      "text/html": [
       "<div>\n",
       "<style scoped>\n",
       "    .dataframe tbody tr th:only-of-type {\n",
       "        vertical-align: middle;\n",
       "    }\n",
       "\n",
       "    .dataframe tbody tr th {\n",
       "        vertical-align: top;\n",
       "    }\n",
       "\n",
       "    .dataframe thead th {\n",
       "        text-align: right;\n",
       "    }\n",
       "</style>\n",
       "<table border=\"1\" class=\"dataframe\">\n",
       "  <thead>\n",
       "    <tr style=\"text-align: right;\">\n",
       "      <th></th>\n",
       "      <th>Healthy</th>\n",
       "      <th>Sick</th>\n",
       "    </tr>\n",
       "  </thead>\n",
       "  <tbody>\n",
       "    <tr>\n",
       "      <th>0</th>\n",
       "      <td>0.0</td>\n",
       "      <td>0.99</td>\n",
       "    </tr>\n",
       "    <tr>\n",
       "      <th>1</th>\n",
       "      <td>0.0</td>\n",
       "      <td>0.99</td>\n",
       "    </tr>\n",
       "    <tr>\n",
       "      <th>2</th>\n",
       "      <td>0.0</td>\n",
       "      <td>0.99</td>\n",
       "    </tr>\n",
       "    <tr>\n",
       "      <th>3</th>\n",
       "      <td>0.0</td>\n",
       "      <td>0.99</td>\n",
       "    </tr>\n",
       "    <tr>\n",
       "      <th>4</th>\n",
       "      <td>0.0</td>\n",
       "      <td>0.99</td>\n",
       "    </tr>\n",
       "    <tr>\n",
       "      <th>...</th>\n",
       "      <td>...</td>\n",
       "      <td>...</td>\n",
       "    </tr>\n",
       "    <tr>\n",
       "      <th>99995</th>\n",
       "      <td>0.0</td>\n",
       "      <td>0.00</td>\n",
       "    </tr>\n",
       "    <tr>\n",
       "      <th>99996</th>\n",
       "      <td>0.0</td>\n",
       "      <td>0.00</td>\n",
       "    </tr>\n",
       "    <tr>\n",
       "      <th>99997</th>\n",
       "      <td>0.0</td>\n",
       "      <td>0.00</td>\n",
       "    </tr>\n",
       "    <tr>\n",
       "      <th>99998</th>\n",
       "      <td>0.0</td>\n",
       "      <td>0.00</td>\n",
       "    </tr>\n",
       "    <tr>\n",
       "      <th>99999</th>\n",
       "      <td>0.0</td>\n",
       "      <td>0.00</td>\n",
       "    </tr>\n",
       "  </tbody>\n",
       "</table>\n",
       "<p>100000 rows × 2 columns</p>\n",
       "</div>"
      ],
      "text/plain": [
       "       Healthy  Sick\n",
       "0          0.0  0.99\n",
       "1          0.0  0.99\n",
       "2          0.0  0.99\n",
       "3          0.0  0.99\n",
       "4          0.0  0.99\n",
       "...        ...   ...\n",
       "99995      0.0  0.00\n",
       "99996      0.0  0.00\n",
       "99997      0.0  0.00\n",
       "99998      0.0  0.00\n",
       "99999      0.0  0.00\n",
       "\n",
       "[100000 rows x 2 columns]"
      ]
     },
     "execution_count": 22,
     "metadata": {},
     "output_type": "execute_result"
    }
   ],
   "source": [
    "test_results.loc[:int(is_sick),'Sick'] = 1*true_pos_rate\n",
    "test_results.loc[int(is_sick):,'Healthy'] = 0*true_neg_rate\n",
    "test_results"
   ]
  },
  {
   "cell_type": "markdown",
   "metadata": {
    "id": "u85VON4KR1oR"
   },
   "source": [
    "### Analysing results of the tests\n",
    "\n",
    "How many positive test results are there compared to the actual number of sick people?\n",
    "\n"
   ]
  },
  {
   "cell_type": "code",
   "execution_count": 23,
   "metadata": {
    "id": "6qeXSCAqDN8N"
   },
   "outputs": [
    {
     "ename": "TypeError",
     "evalue": "unsupported operand type(s) for +: 'int' and 'str'",
     "output_type": "error",
     "traceback": [
      "\u001b[1;31m---------------------------------------------------------------------------\u001b[0m",
      "\u001b[1;31mTypeError\u001b[0m                                 Traceback (most recent call last)",
      "Cell \u001b[1;32mIn[23], line 1\u001b[0m\n\u001b[1;32m----> 1\u001b[0m \u001b[38;5;28mprint\u001b[39m(\u001b[38;5;28mstr\u001b[39m(\u001b[38;5;28;43msum\u001b[39;49m\u001b[43m(\u001b[49m\u001b[38;5;241;43m100\u001b[39;49m\u001b[38;5;241;43m*\u001b[39;49m\u001b[43mtest_results\u001b[49m\u001b[43m)\u001b[49m\u001b[38;5;241m/\u001b[39mN) \u001b[38;5;241m+\u001b[39m \u001b[38;5;124m'\u001b[39m\u001b[38;5;132;01m% o\u001b[39;00m\u001b[38;5;124mf the population is diagnosed with the disease.\u001b[39m\u001b[38;5;124m'\u001b[39m)\n\u001b[0;32m      2\u001b[0m \u001b[38;5;28mprint\u001b[39m(\u001b[38;5;124m'\u001b[39m\u001b[38;5;124mOnly \u001b[39m\u001b[38;5;124m'\u001b[39m \u001b[38;5;241m+\u001b[39m \u001b[38;5;28mstr\u001b[39m(\u001b[38;5;241m100\u001b[39m\u001b[38;5;241m*\u001b[39m\u001b[38;5;28msum\u001b[39m(is_sick)\u001b[38;5;241m/\u001b[39mN) \u001b[38;5;241m+\u001b[39m \u001b[38;5;124m'\u001b[39m\u001b[38;5;132;01m% o\u001b[39;00m\u001b[38;5;124mf people in the population are actually sick.\u001b[39m\u001b[38;5;124m'\u001b[39m)\n",
      "\u001b[1;31mTypeError\u001b[0m: unsupported operand type(s) for +: 'int' and 'str'"
     ]
    }
   ],
   "source": [
    "print(str(sum(100*test_results)/N) + '% of the population is diagnosed with the disease.')\n",
    "print('Only ' + str(100*sum(is_sick)/N) + '% of people in the population are actually sick.')"
   ]
  },
  {
   "cell_type": "markdown",
   "metadata": {
    "id": "yr0x8vwZPyTs"
   },
   "source": [
    "Out of the people who have been diagnosed with a positive test, what is the share of individuals who are actually sick?\n",
    "\n",
    "This ratio approximates the probability P(D|+) that we are interested in."
   ]
  },
  {
   "cell_type": "code",
   "execution_count": null,
   "metadata": {
    "id": "e_f8U9PqFhGV"
   },
   "outputs": [],
   "source": [
    "# Your code here"
   ]
  }
 ],
 "metadata": {
  "colab": {
   "provenance": []
  },
  "kernelspec": {
   "display_name": "dwwshop",
   "language": "python",
   "name": "python3"
  },
  "language_info": {
   "codemirror_mode": {
    "name": "ipython",
    "version": 3
   },
   "file_extension": ".py",
   "mimetype": "text/x-python",
   "name": "python",
   "nbconvert_exporter": "python",
   "pygments_lexer": "ipython3",
   "version": "3.11.7"
  }
 },
 "nbformat": 4,
 "nbformat_minor": 0
}
