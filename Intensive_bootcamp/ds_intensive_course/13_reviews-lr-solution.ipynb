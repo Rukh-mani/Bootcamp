{
 "cells": [
  {
   "cell_type": "code",
   "execution_count": 1,
   "metadata": {},
   "outputs": [
    {
     "name": "stderr",
     "output_type": "stream",
     "text": [
      "2023-11-15 11:41:50.951938: I tensorflow/core/platform/cpu_feature_guard.cc:182] This TensorFlow binary is optimized to use available CPU instructions in performance-critical operations.\n",
      "To enable the following instructions: AVX2 FMA, in other operations, rebuild TensorFlow with the appropriate compiler flags.\n"
     ]
    },
    {
     "name": "stdout",
     "output_type": "stream",
     "text": [
      "Validation accuracy:  0.8882\n",
      "\n",
      "Validation Classification Report:\n",
      "               precision    recall  f1-score   support\n",
      "\n",
      "           0       0.91      0.87      0.89      2576\n",
      "           1       0.87      0.91      0.89      2424\n",
      "\n",
      "    accuracy                           0.89      5000\n",
      "   macro avg       0.89      0.89      0.89      5000\n",
      "weighted avg       0.89      0.89      0.89      5000\n",
      "\n",
      "Test accuracy:  0.87632\n",
      "\n",
      "Test Classification Report:\n",
      "               precision    recall  f1-score   support\n",
      "\n",
      "           0       0.88      0.87      0.88     12500\n",
      "           1       0.87      0.88      0.88     12500\n",
      "\n",
      "    accuracy                           0.88     25000\n",
      "   macro avg       0.88      0.88      0.88     25000\n",
      "weighted avg       0.88      0.88      0.88     25000\n",
      "\n"
     ]
    }
   ],
   "source": [
    "# ! pip install tensorflow_datasets\n",
    "import tensorflow_datasets as tfds\n",
    "from sklearn.model_selection import train_test_split\n",
    "from sklearn.feature_extraction.text import TfidfVectorizer\n",
    "from sklearn.linear_model import LogisticRegression\n",
    "from sklearn.metrics import accuracy_score, classification_report\n",
    "import numpy as np\n",
    "\n",
    "# Load the IMDB dataset\n",
    "imdb, info = tfds.load(\"imdb_reviews\", with_info=True, as_supervised=True)\n",
    "\n",
    "# Retrieve the train and test data\n",
    "train_data, test_data = imdb['train'], imdb['test']\n",
    "\n",
    "# Prepare the datasets\n",
    "train_sentences = []\n",
    "train_labels = []\n",
    "\n",
    "test_sentences = []\n",
    "test_labels = []\n",
    "\n",
    "# TensorFlow datasets are stored in a tf.data.Dataset object, which is a generator. \n",
    "# Hence, we need to loop through it to retrieve data.\n",
    "for sentence, label in tfds.as_numpy(train_data):\n",
    "    train_sentences.append(sentence.decode('utf-8'))\n",
    "    train_labels.append(label)\n",
    "\n",
    "for sentence, label in tfds.as_numpy(test_data):\n",
    "    test_sentences.append(sentence.decode('utf-8'))\n",
    "    test_labels.append(label)\n",
    "\n",
    "train_labels = np.array(train_labels)\n",
    "test_labels = np.array(test_labels)\n",
    "\n",
    "# Split the training data to create a validation set\n",
    "train_sentences, val_sentences, train_labels, val_labels = train_test_split(\n",
    "    train_sentences, train_labels, test_size=0.2, random_state=42)\n",
    "\n",
    "# Initialize a TF-IDF vectorizer\n",
    "vectorizer = TfidfVectorizer(stop_words='english')\n",
    "\n",
    "# Fit the vectorizer to the training data and transform the sentences\n",
    "X_train = vectorizer.fit_transform(train_sentences)\n",
    "\n",
    "# Transform the validation and test data with the same vectorizer\n",
    "X_val = vectorizer.transform(val_sentences)\n",
    "X_test = vectorizer.transform(test_sentences)\n",
    "\n",
    "# Define the Logistic Regression model\n",
    "model = LogisticRegression(random_state=42)\n",
    "\n",
    "# Train the model\n",
    "model.fit(X_train, train_labels)\n",
    "\n",
    "# Predict on the validation set\n",
    "val_pred = model.predict(X_val)\n",
    "\n",
    "# Evaluate the model\n",
    "print(\"Validation accuracy: \", accuracy_score(val_labels, val_pred))\n",
    "print(\"\\nValidation Classification Report:\\n\", classification_report(val_labels, val_pred))\n",
    "\n",
    "# Predict on the test set\n",
    "test_pred = model.predict(X_test)\n",
    "\n",
    "# Evaluate the model\n",
    "print(\"Test accuracy: \", accuracy_score(test_labels, test_pred))\n",
    "print(\"\\nTest Classification Report:\\n\", classification_report(test_labels, test_pred))\n"
   ]
  },
  {
   "cell_type": "code",
   "execution_count": 3,
   "metadata": {},
   "outputs": [
    {
     "data": {
      "text/plain": [
       "array([1, 1, 1, ..., 0, 1, 0])"
      ]
     },
     "execution_count": 3,
     "metadata": {},
     "output_type": "execute_result"
    }
   ],
   "source": [
    "train_labels"
   ]
  },
  {
   "cell_type": "code",
   "execution_count": null,
   "metadata": {},
   "outputs": [],
   "source": []
  }
 ],
 "metadata": {
  "kernelspec": {
   "display_name": "Python 3",
   "language": "python",
   "name": "python3"
  },
  "language_info": {
   "codemirror_mode": {
    "name": "ipython",
    "version": 3
   },
   "file_extension": ".py",
   "mimetype": "text/x-python",
   "name": "python",
   "nbconvert_exporter": "python",
   "pygments_lexer": "ipython3",
   "version": "3.11.4"
  }
 },
 "nbformat": 4,
 "nbformat_minor": 2
}
