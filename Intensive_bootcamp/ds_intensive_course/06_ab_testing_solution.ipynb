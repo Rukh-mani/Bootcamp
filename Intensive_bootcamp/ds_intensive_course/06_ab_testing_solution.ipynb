{
 "cells": [
  {
   "cell_type": "code",
   "execution_count": null,
   "metadata": {},
   "outputs": [],
   "source": [
    "import pandas as pd\n",
    "import random\n"
   ]
  },
  {
   "cell_type": "code",
   "execution_count": null,
   "metadata": {},
   "outputs": [],
   "source": [
    "\n",
    "df = pd.read_csv(\"data/marketing_campaign.csv\", sep = \"\\t\")\n",
    "df.head()"
   ]
  },
  {
   "cell_type": "code",
   "execution_count": null,
   "metadata": {},
   "outputs": [],
   "source": [
    "#TODO separate customer IDs to groups A and B randomly. Hint - use random module\n",
    "\n",
    "customer_ids = df['ID'].tolist()\n",
    "random.shuffle(customer_ids)\n",
    "\n",
    "split_point = len(customer_ids) // 2\n",
    "\n",
    "customer_ids_1 = customer_ids[:split_point]\n",
    "customer_ids_2 = customer_ids[split_point:]"
   ]
  },
  {
   "cell_type": "code",
   "execution_count": null,
   "metadata": {},
   "outputs": [],
   "source": [
    "#TODO use at least 2 data attributes to check that your random shuffling results into two subsets with equal medians\n",
    "#Hint use https://docs.scipy.org/doc/scipy/reference/generated/scipy.stats.kruskal.html\n",
    "\n",
    "from scipy.stats import kruskal, norm\n",
    "#Testing income\n",
    "\n",
    "alpha = 0.05\n",
    "group1_income = df[(df[\"ID\"].isin(customer_ids_1))][\"Income\"].values\n",
    "group2_income = df[(df[\"ID\"].isin(customer_ids_2))][\"Income\"].values\n",
    "\n",
    "print(kruskal(group1_income, group2_income))\n",
    "print(kruskal(group1_income, group2_income, nan_policy = \"omit\"))\n",
    "result = kruskal(group1_income, group2_income, nan_policy = \"omit\")[1]\n",
    "print(\"Hypotheses about median equality is\", alpha<result)\n",
    "\n",
    "\n",
    "print(\"-\"*10)\n",
    "\n",
    "#Testing income\n",
    "\n",
    "alpha = 0.05\n",
    "group1_npurchase = df[(df[\"ID\"].isin(customer_ids_1))][\"NumStorePurchases\"].values\n",
    "group2_npurchase = df[(df[\"ID\"].isin(customer_ids_2))][\"NumStorePurchases\"].values\n",
    "\n",
    "print(kruskal(group1_npurchase, group2_npurchase))\n",
    "print(kruskal(group1_npurchase, group2_npurchase, nan_policy = \"omit\"))\n",
    "result = kruskal(group1_npurchase, group2_npurchase, nan_policy = \"omit\")[1]\n",
    "print(\"Hypotheses about median equality is\", alpha<result)\n",
    "\n"
   ]
  },
  {
   "cell_type": "code",
   "execution_count": null,
   "metadata": {},
   "outputs": [],
   "source": [
    "#Assume we are preparing campaign that gives the customers mall voucher with 5% discount\n",
    "#Calculate what sample size we need to test the hypoothesis that those who recieve voucher will more likely purchase deal we offer them\n",
    "#Assume that those recieving vouchers will have conversion rate 10%, those who don't 6%\n",
    "#Hint you may use critical_value = norm.ppf(1 - alpha/2)  from scipy.stats.norm\n",
    "\n",
    "\n",
    "alpha = 0.05  # Significance level \n",
    "power = 0.80  # Desired power of test\n",
    "p1 = 0.1  # 10% conversion rate for those receiving vouchers\n",
    "p2 = 0.06  # 6% conversion rate for those who don't\n",
    "\n",
    "\n",
    "_ = p1*(1-p1) + p2*(1-p2)\n",
    "delta = (p1-p2)**2\n",
    "\n",
    "\n",
    "# Calculate the required sample size\n",
    "a = norm.ppf(alpha) + norm.ppf(power)\n",
    "a = a**2\n",
    "\n",
    "n = (a*_)/delta\n",
    "\n",
    "print(f\"Required sample size: {int(n)}\")\n"
   ]
  },
  {
   "cell_type": "code",
   "execution_count": null,
   "metadata": {},
   "outputs": [],
   "source": [
    "#TODO test the hypothesis Single customers have the same mean income as Married\n",
    "\n",
    "print(len(df))\n",
    "\n",
    "from scipy.stats import ttest_ind\n",
    "\n",
    "df = df.dropna()\n",
    "\n",
    "\n",
    "group1 = df[df.Marital_Status == \"Married\"][\"Income\"].values\n",
    "group2 = df[df.Marital_Status == \"Single\"][\"Income\"].values\n",
    "\n",
    "print(group1.mean())\n",
    "print(group2.mean())\n",
    "t_statistic, p_value = ttest_ind(group1, group2, nan_policy=\"omit\")\n",
    " \n",
    "# Define the significance level (alpha)\n",
    "alpha = 0.05\n",
    "\n",
    "print(p_value>alpha)\n",
    "\n",
    "print(p_value)"
   ]
  },
  {
   "cell_type": "code",
   "execution_count": null,
   "metadata": {},
   "outputs": [],
   "source": [
    "#TODO test the hypothesis Single customers have the same income variance as Married\n",
    "from scipy.stats import levene\n",
    "\n",
    "\n",
    "statistic, p_value = levene(group1, group2)\n",
    "print(p_value>alpha)\n",
    "print(p_value)"
   ]
  },
  {
   "cell_type": "code",
   "execution_count": null,
   "metadata": {},
   "outputs": [],
   "source": []
  }
 ],
 "metadata": {
  "kernelspec": {
   "display_name": ".venv",
   "language": "python",
   "name": "python3"
  },
  "language_info": {
   "codemirror_mode": {
    "name": "ipython",
    "version": 3
   },
   "file_extension": ".py",
   "mimetype": "text/x-python",
   "name": "python",
   "nbconvert_exporter": "python",
   "pygments_lexer": "ipython3",
   "version": "3.11.5"
  },
  "orig_nbformat": 4
 },
 "nbformat": 4,
 "nbformat_minor": 2
}
