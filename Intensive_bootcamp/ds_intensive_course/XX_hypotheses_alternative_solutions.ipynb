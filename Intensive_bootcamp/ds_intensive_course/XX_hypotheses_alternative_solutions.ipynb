{
 "cells": [
  {
   "cell_type": "markdown",
   "metadata": {},
   "source": [
    "## Sample mean vs population mean t-statistics\n",
    "\n",
    "The t-statistic is a measure of how many standard errors an observed sample mean is away from the hypothesized population mean. It is used in hypothesis testing to determine if the difference between the sample mean and the population mean is statistically significant. The formula for the t-statistic is as follows in LaTeX notation:\n",
    "\n",
    "$$ t = \\frac{{\\text{Sample Mean} - \\text{Population Mean}}}{{\\text{Standard Error}}}$$\n",
    "\n",
    "Remember, that \n",
    "$$\\text{Standard Error} = \\frac{{\\text{Sample standard deviation} }}{\\sqrt{\\text{Sample size}}}$$"
   ]
  },
  {
   "cell_type": "code",
   "execution_count": null,
   "metadata": {},
   "outputs": [],
   "source": [
    "import scipy.stats as stats\n",
    "\n",
    "# Given data\n",
    "sample_size = 27\n",
    "sample_mean = 104.97\n",
    "sample_stddev = 9.07\n",
    "population_mean = 100\n",
    "alpha = 0.05\n",
    "\n",
    "# Calculate the t-statistic\n",
    "t_statistic = (sample_mean - population_mean) / (sample_stddev / (sample_size ** 0.5))\n",
    "\n",
    "# Calculate the degrees of freedom\n",
    "degrees_of_freedom = sample_size - 1\n",
    "\n",
    "# Calculate the critical t-value for a one-tailed test\n",
    "critical_value = stats.t.ppf(1 - alpha, degrees_of_freedom)\n",
    "\n",
    "# Calculate the p-value\n",
    "p_value = 1 - stats.t.cdf(t_statistic, degrees_of_freedom)\n",
    "\n",
    "# Print the results\n",
    "print(f\"Sample Mean: {sample_mean}\")\n",
    "print(f\"Degrees of Freedom: {degrees_of_freedom}\")\n",
    "print(f\"T-statistic: {t_statistic}\")\n",
    "print(f\"Critical Value: {critical_value}\")\n",
    "print(f\"P-value: {p_value}\")\n",
    "\n",
    "# Compare the t-statistic to the critical value and make a decision\n",
    "if t_statistic > critical_value:\n",
    "    print(\"Reject the null hypothesis. The mean spending of clients is greater than $100.\")\n",
    "else:\n",
    "    print(\"Fail to reject the null hypothesis. The mean spending of clients is not greater than $100.\")\n"
   ]
  },
  {
   "cell_type": "code",
   "execution_count": null,
   "metadata": {},
   "outputs": [],
   "source": [
    "import scipy.stats as stats\n",
    "\n",
    "# Given data\n",
    "sample_size = 27\n",
    "sample_mean = 104.97\n",
    "sample_stddev = 9.07\n",
    "population_mean = 100\n",
    "alpha = 0.05\n",
    "\n",
    "# Calculate the t-statistic and p-value\n",
    "t_statistic, p_value = stats.ttest_1samp(sample_mean, population_mean)\n",
    "\n",
    "# Print the results\n",
    "print(f\"t-statistic: {t_statistic}\")\n",
    "print(f\"P-value: {p_value}\")\n",
    "\n",
    "# Compare the p-value to the significance level and make a decision\n",
    "if p_value < alpha:\n",
    "    print(\"Reject the null hypothesis. The mean spending of clients is greater than $100.\")\n",
    "else:\n",
    "    print(\"Fail to reject the null hypothesis. The mean spending of clients is not greater than $100.\")\n"
   ]
  },
  {
   "cell_type": "code",
   "execution_count": null,
   "metadata": {},
   "outputs": [],
   "source": [
    "#TODO \n",
    "#Calculate factory filling boote example with same principle"
   ]
  },
  {
   "cell_type": "markdown",
   "metadata": {},
   "source": [
    "## Sample mean vs population mean z-statistics\n",
    "\n",
    "Tells us how many standard deviations an observed data point or sample mean is away from the mean of a normal distribution. Its applicable for large data samples.\n",
    "\n",
    "$$ z = \\frac{{x̄ - μ}}{{\\frac{σ}{\\sqrt{n}}}} $$\n",
    "\n",
    "z-statistic is used to determine whether an observed sample mean is significantly different from a population mean, similar to the t-statistic. However, it's used when you have a known population standard deviation or a large sample size."
   ]
  },
  {
   "cell_type": "code",
   "execution_count": null,
   "metadata": {},
   "outputs": [],
   "source": [
    "# Given data\n",
    "sample_size = 1000\n",
    "sample_mean = 856\n",
    "sample_stddev = 98\n",
    "population_mean = 850\n",
    "alpha = 0.05\n",
    "\n",
    "# Calculate the z-statistic\n",
    "\n",
    "##TODO\n",
    "z_statistic = #TODO\n",
    "\n",
    "# Calculate the critical z-value for a one-tailed test (right-tailed test)\n",
    "critical_value = stats.norm.ppf(1 - alpha)\n",
    "\n",
    "# Calculate the p-value\n",
    "p_value = 1 - stats.norm.cdf(z_statistic)\n",
    "\n",
    "# Print the results\n",
    "print(f\"Sample Mean: {sample_mean}\")\n",
    "print(f\"Z-statistic: {z_statistic}\")\n",
    "print(f\"Critical Value: {critical_value}\")\n",
    "print(f\"P-value: {p_value}\")\n",
    "\n",
    "# Compare the z-statistic to the critical value and make a decision\n",
    "if z_statistic > critical_value:\n",
    "    print(\"Reject the null hypothesis. Students who buy the course perform better on average.\")\n",
    "else:\n",
    "    print(\"Fail to reject the null hypothesis. There is no sufficient evidence to conclude that students who buy the course perform better on average.\")\n"
   ]
  },
  {
   "cell_type": "markdown",
   "metadata": {},
   "source": []
  }
 ],
 "metadata": {
  "kernelspec": {
   "display_name": ".venv",
   "language": "python",
   "name": "python3"
  },
  "language_info": {
   "codemirror_mode": {
    "name": "ipython",
    "version": 3
   },
   "file_extension": ".py",
   "mimetype": "text/x-python",
   "name": "python",
   "nbconvert_exporter": "python",
   "pygments_lexer": "ipython3",
   "version": "3.11.5"
  },
  "orig_nbformat": 4
 },
 "nbformat": 4,
 "nbformat_minor": 2
}
