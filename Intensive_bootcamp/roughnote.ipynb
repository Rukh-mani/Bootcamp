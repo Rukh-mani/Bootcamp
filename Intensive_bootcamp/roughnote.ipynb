{
 "cells": [
  {
   "cell_type": "code",
   "execution_count": null,
   "metadata": {},
   "outputs": [
    {
     "name": "stdout",
     "output_type": "stream",
     "text": [
      "      Name  Age           City\n",
      "0    Alice   25       New York\n",
      "1      Bob   30    Los Angeles\n",
      "2  Charlie   35        Chicago\n",
      "3    David   22  San Francisco\n",
      "4    Emily   28         Boston\n"
     ]
    }
   ],
   "source": [
    "#% pip install pandas\n",
    "\n",
    "#pandas dataframes\n",
    "import pandas as pd\n",
    "\n",
    "# Create a dictionary of data\n",
    "data = {\n",
    "    'Name': ['Alice', 'Bob', 'Charlie', 'David', 'Emily'],\n",
    "    'Age': [25, 30, 35, 22, 28],\n",
    "    'City': ['New York', 'Los Angeles', 'Chicago', 'San Francisco', 'Boston']\n",
    "}\n",
    " \n",
    "# Create a DataFrame from the dictionary\n",
    "df = pd.DataFrame(data)\n",
    " \n",
    "# Display the DataFrame\n",
    "print(df)"
   ]
  },
  {
   "cell_type": "code",
   "execution_count": 5,
   "metadata": {},
   "outputs": [
    {
     "name": "stdout",
     "output_type": "stream",
     "text": [
      "Name    object\n",
      "Age      int64\n",
      "City    object\n",
      "dtype: object\n",
      "Index(['Name', 'Age', 'City'], dtype='object')\n",
      "(5, 3)\n",
      "15\n",
      "RangeIndex(start=0, stop=5, step=1)\n"
     ]
    }
   ],
   "source": [
    "print(df.dtypes)\n",
    "print(df.columns)\n",
    "print(df.shape)\n",
    "print(df.size)\n",
    "print(df.index)\n"
   ]
  },
  {
   "cell_type": "code",
   "execution_count": null,
   "metadata": {},
   "outputs": [
    {
     "name": "stdout",
     "output_type": "stream",
     "text": [
      "0    10\n",
      "1    20\n",
      "2    30\n",
      "3    40\n",
      "4    50\n",
      "dtype: int64\n"
     ]
    }
   ],
   "source": [
    "# series\n",
    "\n",
    "import pandas as pd\n",
    " \n",
    "# Create a Series from a list\n",
    "data = [10, 20, 30, 40, 50] \n",
    "my_series = pd.Series(data) \n",
    " \n",
    "# Display the Series\n",
    "print(my_series)"
   ]
  },
  {
   "cell_type": "code",
   "execution_count": 8,
   "metadata": {},
   "outputs": [
    {
     "name": "stdout",
     "output_type": "stream",
     "text": [
      "[10 20 30 40 50]\n",
      "RangeIndex(start=0, stop=5, step=1)\n",
      "int64\n"
     ]
    },
    {
     "data": {
      "text/plain": [
       "10"
      ]
     },
     "execution_count": 8,
     "metadata": {},
     "output_type": "execute_result"
    }
   ],
   "source": [
    "print(my_series.values)\n",
    "print(my_series.index)\n",
    "print(my_series.dtype)\n",
    "my_series[0]"
   ]
  },
  {
   "cell_type": "code",
   "execution_count": 1,
   "metadata": {},
   "outputs": [
    {
     "name": "stdout",
     "output_type": "stream",
     "text": [
      "Index: 0, Name: Alice, Age: 25\n",
      "Index: 1, Name: Bob, Age: 30\n",
      "Index: 2, Name: Charlie, Age: 35\n",
      "Index: 3, Name: David, Age: 22\n",
      "Index: 4, Name: Emily, Age: 28\n"
     ]
    }
   ],
   "source": [
    "# Iterrows\n",
    "# Allows you to iterate through the rows of a DataFrame one row at a time.\n",
    "\n",
    "import pandas as pd\n",
    " \n",
    "# Create a sample DataFrame\n",
    "data = {'Name': ['Alice', 'Bob', 'Charlie', 'David', 'Emily'],\n",
    "        'Age': [25, 30, 35, 22, 28]}\n",
    "df = pd.DataFrame(data)\n",
    " \n",
    "# Iterate through the DataFrame using iterrows()\n",
    "for index, row in df.iterrows():\n",
    "    print(f\"Index: {index}, Name: {row['Name']}, Age: {row['Age']}\")\n"
   ]
  },
  {
   "cell_type": "markdown",
   "metadata": {},
   "source": [
    "# day 2"
   ]
  },
  {
   "cell_type": "code",
   "execution_count": null,
   "metadata": {},
   "outputs": [],
   "source": []
  }
 ],
 "metadata": {
  "kernelspec": {
   "display_name": "dwwshop",
   "language": "python",
   "name": "python3"
  },
  "language_info": {
   "codemirror_mode": {
    "name": "ipython",
    "version": 3
   },
   "file_extension": ".py",
   "mimetype": "text/x-python",
   "name": "python",
   "nbconvert_exporter": "python",
   "pygments_lexer": "ipython3",
   "version": "3.11.7"
  }
 },
 "nbformat": 4,
 "nbformat_minor": 2
}
