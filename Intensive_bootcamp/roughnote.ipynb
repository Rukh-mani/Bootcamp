{
 "cells": [
  {
   "cell_type": "code",
   "execution_count": null,
   "metadata": {},
   "outputs": [
    {
     "name": "stdout",
     "output_type": "stream",
     "text": [
      "      Name  Age           City\n",
      "0    Alice   25       New York\n",
      "1      Bob   30    Los Angeles\n",
      "2  Charlie   35        Chicago\n",
      "3    David   22  San Francisco\n",
      "4    Emily   28         Boston\n"
     ]
    }
   ],
   "source": [
    "#% pip install pandas\n",
    "\n",
    "#pandas dataframes\n",
    "import pandas as pd\n",
    "\n",
    "# Create a dictionary of data\n",
    "data = {\n",
    "    'Name': ['Alice', 'Bob', 'Charlie', 'David', 'Emily'],\n",
    "    'Age': [25, 30, 35, 22, 28],\n",
    "    'City': ['New York', 'Los Angeles', 'Chicago', 'San Francisco', 'Boston']\n",
    "}\n",
    " \n",
    "# Create a DataFrame from the dictionary\n",
    "df = pd.DataFrame(data)\n",
    " \n",
    "# Display the DataFrame\n",
    "print(df)"
   ]
  },
  {
   "cell_type": "code",
   "execution_count": 5,
   "metadata": {},
   "outputs": [
    {
     "name": "stdout",
     "output_type": "stream",
     "text": [
      "Name    object\n",
      "Age      int64\n",
      "City    object\n",
      "dtype: object\n",
      "Index(['Name', 'Age', 'City'], dtype='object')\n",
      "(5, 3)\n",
      "15\n",
      "RangeIndex(start=0, stop=5, step=1)\n"
     ]
    }
   ],
   "source": [
    "print(df.dtypes)\n",
    "print(df.columns)\n",
    "print(df.shape)\n",
    "print(df.size)\n",
    "print(df.index)\n"
   ]
  },
  {
   "cell_type": "code",
   "execution_count": null,
   "metadata": {},
   "outputs": [
    {
     "name": "stdout",
     "output_type": "stream",
     "text": [
      "0    10\n",
      "1    20\n",
      "2    30\n",
      "3    40\n",
      "4    50\n",
      "dtype: int64\n"
     ]
    }
   ],
   "source": [
    "# series\n",
    "\n",
    "import pandas as pd\n",
    " \n",
    "# Create a Series from a list\n",
    "data = [10, 20, 30, 40, 50] \n",
    "my_series = pd.Series(data) \n",
    " \n",
    "# Display the Series\n",
    "print(my_series)"
   ]
  },
  {
   "cell_type": "code",
   "execution_count": 8,
   "metadata": {},
   "outputs": [
    {
     "name": "stdout",
     "output_type": "stream",
     "text": [
      "[10 20 30 40 50]\n",
      "RangeIndex(start=0, stop=5, step=1)\n",
      "int64\n"
     ]
    },
    {
     "data": {
      "text/plain": [
       "10"
      ]
     },
     "execution_count": 8,
     "metadata": {},
     "output_type": "execute_result"
    }
   ],
   "source": [
    "print(my_series.values)\n",
    "print(my_series.index)\n",
    "print(my_series.dtype)\n",
    "my_series[0]"
   ]
  },
  {
   "cell_type": "code",
   "execution_count": 1,
   "metadata": {},
   "outputs": [
    {
     "name": "stdout",
     "output_type": "stream",
     "text": [
      "Index: 0, Name: Alice, Age: 25\n",
      "Index: 1, Name: Bob, Age: 30\n",
      "Index: 2, Name: Charlie, Age: 35\n",
      "Index: 3, Name: David, Age: 22\n",
      "Index: 4, Name: Emily, Age: 28\n"
     ]
    }
   ],
   "source": [
    "# Iterrows\n",
    "# Allows you to iterate through the rows of a DataFrame one row at a time.\n",
    "\n",
    "import pandas as pd\n",
    " \n",
    "# Create a sample DataFrame\n",
    "data = {'Name': ['Alice', 'Bob', 'Charlie', 'David', 'Emily'],\n",
    "        'Age': [25, 30, 35, 22, 28]}\n",
    "df = pd.DataFrame(data)\n",
    " \n",
    "# Iterate through the DataFrame using iterrows()\n",
    "for index, row in df.iterrows():\n",
    "    print(f\"Index: {index}, Name: {row['Name']}, Age: {row['Age']}\")\n"
   ]
  },
  {
   "cell_type": "markdown",
   "metadata": {},
   "source": [
    "# hypothesis testing"
   ]
  },
  {
   "cell_type": "code",
   "execution_count": 1,
   "metadata": {},
   "outputs": [],
   "source": [
    "import numpy as np"
   ]
  },
  {
   "cell_type": "code",
   "execution_count": null,
   "metadata": {},
   "outputs": [
    {
     "data": {
      "text/plain": [
       "2.847285285650712"
      ]
     },
     "execution_count": 5,
     "metadata": {},
     "output_type": "execute_result"
    }
   ],
   "source": [
    "# Shop expects that client does not spend more than 100 dollars. New manager disagrees. \n",
    "# He collected sample of size 27 that had sample mean of 104.97 dollars \n",
    "# and standard deviation of 9.07 dollars. Test the hypothesis at level of significance of 0.05.\n",
    "\n",
    "#null_hypothesis : expenditure < 100\n",
    "#alternate_hypo: expenditure > 100\n",
    "n= 27\n",
    "mu_sample=104.97\n",
    "mu_population = 100\n",
    "sigma = 9.07\n",
    "alpha = 0.05\n",
    "dof = n-1\n",
    "#will have a right tailed test (single tailed test)\n",
    "\n",
    "#applying t test since sample size < 30\n",
    "# t = (m-mu)/s/sqrt(n) where m -mean, mu -theoretical mean, s - stddev, n- sample size\n",
    "\n",
    "\n",
    "t = (mu_sample-mu_population)/(sigma/np.sqrt(n))\n",
    "t\n",
    "\n",
    "#the p-value corresponding to this is ~0.005 wrt degrees of freedom and the t statistic\n",
    "\n"
   ]
  },
  {
   "cell_type": "code",
   "execution_count": null,
   "metadata": {},
   "outputs": [
    {
     "data": {
      "text/plain": [
       "1.3551927136362374"
      ]
     },
     "execution_count": 6,
     "metadata": {},
     "output_type": "execute_result"
    }
   ],
   "source": [
    "# Factory fills the bottle with 2l of water. Management started to think that this is no longer true. \n",
    "# They sampled 20 bottles in which they measured on average 2.1l of water with standard deviation of 0.33l. \n",
    "# Test the hypothesis with level of confidence of 99%\n",
    "\n",
    "#level of confidence = 0.99\n",
    "#therefore,\n",
    "\n",
    "alpha = 0.01 #1%\n",
    "n = 20\n",
    "mu_sample = 2.1\n",
    "mu_population = 2\n",
    "sigma = 0.33\n",
    "# null_hypo = mu =2\n",
    "# alternate_hypo = mu!=2 / mu=2.1\n",
    "dof = n-1\n",
    "\n",
    "t_statistic = (mu_sample-mu_population)/(sigma/np.sqrt(n))\n",
    "t_statistic\n",
    "#this is a two tailed test? based on topic \"Statistical hypothesis testing\"\n",
    "\n",
    "#from table p value = 0.1\n",
    "\n",
    "#this is not significant - => we accept the null hypothesis --> bottle has only 2l water\n"
   ]
  },
  {
   "cell_type": "code",
   "execution_count": null,
   "metadata": {},
   "outputs": [
    {
     "data": {
      "text/plain": [
       "5.394194290716927"
      ]
     },
     "execution_count": 10,
     "metadata": {},
     "output_type": "execute_result"
    }
   ],
   "source": [
    "# We measure the length of 10 straws. The values in cm were:\n",
    "\n",
    "# 5,37 5,36 5,35 5,40 5,41 5,34 5,29 5,43 5,42 5,32.\n",
    "\n",
    "# On level of significance of 0.05 test the hypothesis that the average length of straw is not larger than 5,4cm.\n",
    "\n",
    "# Use: a) Confidence interval,\n",
    "\n",
    "# b) Rejection regions\n",
    "\n",
    "# c) p-values\n",
    "\n",
    "#solution:\n",
    "# null_hypo = length > 5.4cm\n",
    "# alt_hypo = length < 5.4cm\n",
    "\n",
    "# confidence_interval = sample_mean +/- confidence_level_value(zscore)*(sample std/srt(n))\n",
    "\n",
    "samples = [5.37, 5.36, 5.35, 5.40, 5.41, 5.34, 5.29, 5.43, 5.42, 5.32]\n",
    "sample_mean = np.mean(samples)\n",
    "sample_variance = np.var(samples)\n",
    "sample_std = np.std(samples)\n",
    "n =10\n",
    "dof = n-1\n",
    "alpha = 0.05\n",
    "\n",
    "popu_mean = 5.4\n",
    "\n",
    "zscore = 1.8331 #for alpha 0.05 and dof 9 (look at table for one tailed test)\n",
    "CI_upperbound = sample_mean + zscore*(sample_std/np.sqrt(n))\n",
    "#CI => corresponds to the upperbound of the CI\n",
    "\n",
    "\n",
    "#CI_upperbound < population_mean\n",
    "#This result implies that the confidence interval does not reach or include 5.4 cm, \n",
    "# indicating that it’s unlikely for the true population mean to be as large as 5.4 cm. \n",
    "# Therefore, this gives us grounds to reject the null hypothesis and \n",
    "# supports the conclusion that the true mean straw length is likely less than 5.4 cm.\n",
    "\n"
   ]
  },
  {
   "cell_type": "code",
   "execution_count": null,
   "metadata": {},
   "outputs": [
    {
     "name": "stdout",
     "output_type": "stream",
     "text": [
      "1.6329931618554523\n"
     ]
    },
    {
     "data": {
      "text/plain": [
       "34.24507982374792"
      ]
     },
     "execution_count": 19,
     "metadata": {},
     "output_type": "execute_result"
    }
   ],
   "source": [
    "# The company's management wants to check the petrol consumption of its 10 passenger vehicles. \n",
    "# After returning from a drive on a particular day, the cars filled up with an average of 32 litres with a variance of 15 litres squared\n",
    "#  At the 0.05 significance level, show that the average daily consumption is greater than 30 litres. \n",
    "# Assume that this is a random selection from a normal distribution\n",
    "\n",
    "# Ho: mu < 30\n",
    "# Ha: mu > 30 (right tailed distribution)\n",
    "\n",
    "mu_population = 30\n",
    "sample_mean = 32\n",
    "sample_variance = 15\n",
    "sample_std = np.sqrt(sample_variance)\n",
    "n =10\n",
    "alpha = 0.05\n",
    "dof = n-1\n",
    "\n",
    "t_statistic = (sample_mean-mu_population)/(sample_std/np.sqrt(n))\n",
    "print(t_statistic)\n",
    "\n",
    "#the p-value corresponding to t_statistic on the t-table is between 0.1 and 0.05 - not significant,so p>0.05\n",
    "#=> reject alternate hypothesis and accept null hypothesis. average daily consumption is not greater than 30 litres\n",
    "#alternatively, if the calculated t statistic is greater than zscore, you reject null hypothesis. but here,\n",
    "#since calculated t-statistic < zscore --> accet null hypothesis\n",
    "\n",
    "zscore = 1.8331 #for alpha 0.05 and dof 9 (look at table for one tailed test)\n",
    "CI_upperbound = sample_mean + zscore*(sample_std/np.sqrt(n))\n",
    "CI_upperbound\n",
    "\n",
    "# #CI_upperbound > population_mean\n",
    "# population mean is included in the CI. so, confirms null hypothesis\n",
    "\n",
    "# rejection region\n",
    "#Since calculated t statistic (1.63) < zcore (1.83), the t-statistic does not fall in the rejection region.\n"
   ]
  },
  {
   "cell_type": "markdown",
   "metadata": {},
   "source": [
    "### CI Lower Bound = sample_mean - zscore*(sample_std/ sqrt(n)) \n",
    "### CI Upper Bound = sample_mean + zscore*(sample_std/ sqrt(n))\n",
    "\n",
    "We’re 95% sure the population average lies between these two numbers\n"
   ]
  },
  {
   "cell_type": "code",
   "execution_count": null,
   "metadata": {},
   "outputs": [],
   "source": [
    "# The manufacturer of a certain pharmaceutical product has declared s2 = 2.0 g2 . \n",
    "# When 10 randomly selected products were checked, the sample variance was calculated as s2 = 2.0 g2 . \n",
    "# At the 0.01 significance level, verify the manufacturer's claim. \n",
    "# Assume that this is a random selection from a normal distribution.\n",
    "\n"
   ]
  },
  {
   "cell_type": "code",
   "execution_count": null,
   "metadata": {},
   "outputs": [
    {
     "data": {
      "text/plain": [
       "8.0"
      ]
     },
     "execution_count": 22,
     "metadata": {},
     "output_type": "execute_result"
    }
   ],
   "source": [
    "# The precision of the automatic machine tool setting is characterized by the length of the machined product. \n",
    "# Before the adjustment, 10 products were randomly measured and a variance of 4 mm2 was found. \n",
    "# After machine setup, a variance of 0.5 mm2 was measured for 15 randomly selected products. \n",
    "# Assuming a normal distribution of the length of the machined product, \n",
    "# verify with 95% confidence that the accuracy of the machine has increased after adjustment.\n",
    "\n",
    "#here we will use F statistic since we only have info about variances and no mean\n",
    "\n",
    "# F = sx**2/sy**2 = var(x)/var(y)\n",
    "\n",
    "#H0: no improvement var(x) = var(y) / var(x)-var(y) <=0\n",
    "#Ha: improvement var(x) > var(y) var(x)-var(y) >0 (right tail test)\n",
    "x_n = 10\n",
    "y_n = 15\n",
    "var_x = 4 #mm2\n",
    "var_y = 0.5 #mm2\n",
    "dof_x= x_n -1\n",
    "dof_y = y_n -1\n",
    "alpha = 0.05\n",
    "\n",
    "F_statistic = var_x/var_y\n",
    "F_statistic\n",
    "\n",
    "#the f critical value for alpha 0.05 based on dof_x, dof_y = 2.65\n",
    "#since F statistic > f_critical => reject null hypothesis \n",
    "#therefore, there was improvement by using the automatic tool setting\n"
   ]
  },
  {
   "cell_type": "code",
   "execution_count": null,
   "metadata": {},
   "outputs": [
    {
     "data": {
      "text/plain": [
       "2.178324594548686"
      ]
     },
     "execution_count": 23,
     "metadata": {},
     "output_type": "execute_result"
    }
   ],
   "source": [
    "# The supermarket buys its sausage products from two suppliers. \n",
    "# It considers the time elapsed between the handover of the order to the suppliers and \n",
    "# the delivery of the ordered goods to be important. \n",
    "# The first supplier was tested on 15 occasions, the average waiting time for the ordered goods was 50.5 hrs \n",
    "# with a sample variance of 11.1 hrs.2. For the second sausage supplier, \n",
    "# 10 measurements were taken with an average waiting time of 48.3 hrs and a sample variance of 2.8 hrs.2. \n",
    "# At the 5% significance level, test the hypothesis whether there is \n",
    "# such a difference in the speed of delivery of sausage products between the two suppliers \n",
    "# that would be significant to the store management.\n",
    "\n",
    "# H0: waiting_time_A = waiting_time_B\n",
    "# Ha: waiting_time_A != waiting_time_B\n",
    "\n",
    "mean_x = 50.5 #hrs\n",
    "mean_y = 48.3 #hrs\n",
    "\n",
    "var_x = 11.1 #hrs\n",
    "var_y = 2.8 #hrs\n",
    "\n",
    "n_x = 15\n",
    "n_y = 10\n",
    "degrees_of_freedom = n_x + n_y - 2\n",
    "alpha = 0.05\n",
    "\n",
    "t_statistic = (mean_x - mean_y)/(np.sqrt((var_x/n_x)+(var_y/n_y)))\n",
    "t_statistic\n",
    "\n",
    "#looking for corresponding alpha value (now becomes p) on the table\n",
    "#the calculated t is between 0.975 and 0.99\n",
    "\n",
    "# t_critical -> 2.069\n",
    "# t_statistic > t_critical => reject null hypothesis and accept alternative hypothesis"
   ]
  }
 ],
 "metadata": {
  "kernelspec": {
   "display_name": "dwwshop",
   "language": "python",
   "name": "python3"
  },
  "language_info": {
   "codemirror_mode": {
    "name": "ipython",
    "version": 3
   },
   "file_extension": ".py",
   "mimetype": "text/x-python",
   "name": "python",
   "nbconvert_exporter": "python",
   "pygments_lexer": "ipython3",
   "version": "3.11.7"
  }
 },
 "nbformat": 4,
 "nbformat_minor": 2
}
