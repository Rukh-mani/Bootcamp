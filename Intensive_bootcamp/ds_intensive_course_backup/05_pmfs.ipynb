{
 "cells": [
  {
   "cell_type": "code",
   "execution_count": null,
   "metadata": {},
   "outputs": [],
   "source": [
    "# Import libraries\n",
    "import random\n",
    "import numpy as np\n",
    "import matplotlib.pyplot as plt\n",
    "from scipy.stats import binom, poisson"
   ]
  },
  {
   "cell_type": "code",
   "execution_count": null,
   "metadata": {},
   "outputs": [],
   "source": [
    "#Create a Python function that simulates rolling a fair six-sided die 'n' times\n",
    "def simulate_die_rolls(n):\n",
    "    outcomes = #TODO hint use random.randint\n",
    "    return outcomes\n",
    "\n",
    "\n",
    "# TODO Simulate die rolls 1000 times\n",
    "\n",
    "simulated_outcomes = #TODO\n",
    "\n",
    "\n",
    "# Exercise 7\n",
    "def calculate_relative_frequencies(outcomes):\n",
    "    frequency = {}\n",
    "    for i in range(1, 7):\n",
    "        count = #TODO count how many i is in outcomes o\n",
    "        frequency[i] = count / len(outcomes)\n",
    "    return frequency\n",
    "\n",
    "#TODO calculate relative frequencyof simulated outcomes\n",
    "relative_frequencies = #TODO \n",
    "\n",
    "print(\"Simulated Frequencies:\", relative_frequencies)"
   ]
  },
  {
   "cell_type": "code",
   "execution_count": null,
   "metadata": {},
   "outputs": [],
   "source": [
    "#TODO plot binomial and poison distribution \n",
    "\n",
    "\n",
    "# Parameters for the binomial distribution\n",
    "n_binom =  # TODO set number of trials \n",
    "p_binom = # TODO set probability of success\n",
    "\n",
    "# Generate 1000 random samples from the binomial distribution\n",
    "\n",
    "samples_binom = #TODO use .rvs(n,p,size) from binom module\n",
    "\n",
    "# Parameters for the Poisson distribution\n",
    "lambda_poisson = 3  # Average rate of events\n",
    "\n",
    "# Generate random samples from the Poisson distribution\n",
    "samples_poisson = #TODO use .rvs(mu, size) from poisson module\n",
    "\n",
    "# Plot histogram for the binomial distribution\n",
    "plt.figure(figsize=(12, 4))\n",
    "plt.subplot(1, 2, 1)\n",
    "plt.hist(samples_binom, bins=np.arange(0, n_binom + 2) - 0.5, density=True, alpha=0.7)\n",
    "plt.title('Binomial Distribution')\n",
    "plt.xlabel('Number of Successes')\n",
    "plt.ylabel('Probability')\n",
    "\n",
    "# Plot histogram for the Poisson distribution\n",
    "plt.subplot(1, 2, 2)\n",
    "plt.hist(samples_poisson, bins=np.arange(0, max(samples_poisson) + 2) - 0.5, density=True, alpha=0.7)\n",
    "plt.title('Poisson Distribution')\n",
    "plt.xlabel('Number of Events')\n",
    "plt.ylabel('Probability')\n",
    "\n",
    "plt.tight_layout()\n",
    "plt.show()"
   ]
  }
 ],
 "metadata": {
  "kernelspec": {
   "display_name": ".venv",
   "language": "python",
   "name": "python3"
  },
  "language_info": {
   "codemirror_mode": {
    "name": "ipython",
    "version": 3
   },
   "file_extension": ".py",
   "mimetype": "text/x-python",
   "name": "python",
   "nbconvert_exporter": "python",
   "pygments_lexer": "ipython3",
   "version": "3.11.5"
  },
  "orig_nbformat": 4
 },
 "nbformat": 4,
 "nbformat_minor": 2
}
