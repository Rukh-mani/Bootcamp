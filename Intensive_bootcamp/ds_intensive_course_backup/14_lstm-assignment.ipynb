{
 "cells": [
  {
   "cell_type": "code",
   "execution_count": null,
   "metadata": {},
   "outputs": [],
   "source": [
    "import pandas as pd\n",
    "import numpy as np\n",
    "import matplotlib.pyplot as plt\n",
    "from sklearn.preprocessing import MinMaxScaler\n",
    "from keras.models import Sequential\n",
    "from keras.layers import LSTM, Dense\n",
    "import statsmodels.api as sm\n",
    "\n",
    "# Load the dataset\n",
    "data = sm.datasets.co2.load_pandas().data\n",
    "data.fillna(method='ffill', inplace=True)  # Handling missing values\n",
    "data['date'] = pd.date_range(start='1958-03', periods=len(data), freq='W-SAT')\n",
    "data.set_index('date', inplace=True)\n",
    "\n",
    "# Visualize the dataset\n",
    "plt.figure(figsize=(10, 6))\n",
    "plt.plot(data['co2'])\n",
    "plt.title('CO2 Levels at Mauna Loa Observatory')\n",
    "plt.ylabel('CO2 concentration (ppm)')\n",
    "plt.show()\n",
    "\n",
    "# TODO: Preprocess the data (normalization, reshaping)\n",
    "\n",
    "# TODO: Define the create_dataset function\n",
    "\n",
    "# TODO: Define and compile your LSTM model\n",
    "\n",
    "# TODO: Fit the model with your data\n",
    "model.fit(X_train, y_train)\n",
    "# TODO: Make predictions and visualize the results\n",
    "\n",
    "y_pred = model.predict\n",
    "error = mean_absolute_error(y_pred, y_test)\n",
    "\n"
   ]
  }
 ],
 "metadata": {
  "language_info": {
   "name": "python"
  }
 },
 "nbformat": 4,
 "nbformat_minor": 2
}
