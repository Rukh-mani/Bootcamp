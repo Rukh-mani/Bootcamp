{
  "cells": [
    {
      "cell_type": "code",
      "execution_count": null,
      "metadata": {
        "colab": {
          "base_uri": "https://localhost:8080/"
        },
        "id": "MNfO1GIDMOXA",
        "outputId": "70afff90-ec35-4e30-9493-409b412b9726"
      },
      "outputs": [],
      "source": [
        "!pip install dash pandas plotly"
      ]
    },
    {
      "cell_type": "code",
      "execution_count": null,
      "metadata": {
        "colab": {
          "base_uri": "https://localhost:8080/",
          "height": 170
        },
        "id": "MPf6NXtuMHny",
        "outputId": "8f2ed30b-62e1-471b-c643-077b77dc2ff6"
      },
      "outputs": [],
      "source": [
        "import dash\n",
        "import dash_core_components as dcc\n",
        "import dash_html_components as html\n",
        "from dash.dependencies import Input, Output\n",
        "import pandas as pd\n",
        "import plotly.express as px"
      ]
    },
    {
      "cell_type": "code",
      "execution_count": null,
      "metadata": {
        "colab": {
          "base_uri": "https://localhost:8080/",
          "height": 221
        },
        "id": "iiISNpljMnOC",
        "outputId": "38db04fa-ebbd-4705-fdbc-495d60ebdc52"
      },
      "outputs": [],
      "source": [
        "# Load the Iris dataset\n",
        "from sklearn import datasets\n",
        "iris = datasets.load_iris()\n",
        "df = pd.DataFrame(iris[\"data\"], columns = iris[\"feature_names\"])\n",
        "df[\"species\"] = iris[\"target\"]\n",
        "df.head()"
      ]
    },
    {
      "cell_type": "code",
      "execution_count": null,
      "metadata": {
        "colab": {
          "base_uri": "https://localhost:8080/"
        },
        "id": "BEHo0cBYNQbb",
        "outputId": "3303e0de-aa68-41d9-ea7c-fae47fe5b433"
      },
      "outputs": [],
      "source": [
        "print(iris[\"target_names\"])\n",
        "mapping = {}\n",
        "target_names = iris[\"target_names\"]\n",
        "\n",
        "for i in range(len(target_names)):\n",
        "  mapping[i] = target_names[i]"
      ]
    },
    {
      "cell_type": "code",
      "execution_count": null,
      "metadata": {
        "colab": {
          "base_uri": "https://localhost:8080/",
          "height": 221
        },
        "id": "9Ssspy7UNke6",
        "outputId": "8a6f2a96-3b4d-4cc1-f177-1a5c208968d3"
      },
      "outputs": [],
      "source": [
        "df[\"species\"] = df[\"species\"].map(mapping)\n",
        "df.head()"
      ]
    },
    {
      "cell_type": "code",
      "execution_count": null,
      "metadata": {
        "colab": {
          "base_uri": "https://localhost:8080/",
          "height": 693
        },
        "id": "B7dfgaWtL4nR",
        "outputId": "f4b530f2-c770-439c-d4f1-2b1e1464b426"
      },
      "outputs": [],
      "source": [
        "# Initialize the Dash app\n",
        "app = dash.Dash(__name__)\n",
        "\n",
        "# Define the layout of the app\n",
        "app.layout = html.Div([\n",
        "    html.H1(\"Iris Dataset Visualization\"),\n",
        "    dcc.Dropdown(\n",
        "        id='species-dropdown',\n",
        "        options=[\n",
        "            {'label': species, 'value': species}\n",
        "            for species in df['species'].unique()\n",
        "        ],\n",
        "        value='setosa'\n",
        "    ),\n",
        "    dcc.Graph(id='scatter-plot')\n",
        "])\n",
        "\n",
        "\n",
        "# Define callback to update the scatter plot\n",
        "@app.callback(\n",
        "    Output('scatter-plot', 'figure'),\n",
        "    [Input('species-dropdown', 'value')]\n",
        ")\n",
        "def update_scatter_plot(selected_species):\n",
        "    filtered_df = df[df['species'] == selected_species]\n",
        "    fig = px.scatter(filtered_df, x='sepal width (cm)', y='sepal length (cm)', color='species',\n",
        "                     title=f'Sepal Length vs Sepal Width ({selected_species} species)')\n",
        "    return fig\n",
        "\n",
        "\n",
        "\n",
        "\n",
        "# Run the app in Jupyter Notebook\n",
        "if __name__ == '__main__':\n",
        "    app.run_server(mode='inline')\n"
      ]
    },
    {
      "cell_type": "code",
      "execution_count": null,
      "metadata": {
        "id": "8HyU-scRMzGb"
      },
      "outputs": [],
      "source": []
    }
  ],
  "metadata": {
    "colab": {
      "provenance": []
    },
    "kernelspec": {
      "display_name": "Python 3",
      "name": "python3"
    },
    "language_info": {
      "name": "python"
    }
  },
  "nbformat": 4,
  "nbformat_minor": 0
}
