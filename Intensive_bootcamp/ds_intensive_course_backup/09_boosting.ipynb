{
 "cells": [
  {
   "cell_type": "code",
   "execution_count": 1,
   "metadata": {},
   "outputs": [],
   "source": [
    "import numpy as np\n",
    "from sklearn.datasets import make_classification\n",
    "from sklearn.model_selection import train_test_split\n",
    "from sklearn.ensemble import RandomForestClassifier, AdaBoostClassifier\n",
    "from sklearn.tree import DecisionTreeClassifier\n",
    "from sklearn.metrics import classification_report, accuracy_score\n",
    "\n",
    "# Generate an imbalanced dataset\n",
    "X, y = make_classification(n_samples=100, n_features=20, weights=[0.9, 0.1], random_state=42)\n"
   ]
  },
  {
   "cell_type": "code",
   "execution_count": null,
   "metadata": {},
   "outputs": [],
   "source": [
    "\n",
    "# Split the data into training and testing sets\n",
    "#TODO split the data\n",
    "\n",
    "\n",
    "# Create a Random Forest classifier\n",
    "rf_classifier = #TODO initialize \n",
    "\n",
    "# Create an AdaBoost classifier with Decision Trees as base estimator\n",
    "base_tree = DecisionTreeClassifier(max_depth=3, random_state=42)\n",
    "adaboost_classifier = AdaBoostClassifier(base_tree, n_estimators=50, random_state=42)\n",
    "\n",
    "# Fit and evaluate the Random Forest model\n",
    "rf_classifier.fit(X_train, y_train)\n",
    "rf_pred = #TODO predict X_test \n",
    "\n",
    "print(\"Random Forest Classifier:\")\n",
    "print(f\"Accuracy: {accuracy_score(y_test, rf_pred):.2f}\")\n",
    "\n",
    "# Fit and evaluate the AdaBoost model\n",
    "#TODO fit adaboost clf\n",
    "#TODO predict X_test\n",
    "\n",
    "\n",
    "print(\"\\nAdaBoost Classifier:\")\n",
    "print(f\"Accuracy: {accuracy_score(y_test, adaboost_pred):.2f}\")\n"
   ]
  },
  {
   "cell_type": "code",
   "execution_count": null,
   "metadata": {},
   "outputs": [],
   "source": []
  }
 ],
 "metadata": {
  "kernelspec": {
   "display_name": ".venv",
   "language": "python",
   "name": "python3"
  },
  "language_info": {
   "codemirror_mode": {
    "name": "ipython",
    "version": 3
   },
   "file_extension": ".py",
   "mimetype": "text/x-python",
   "name": "python",
   "nbconvert_exporter": "python",
   "pygments_lexer": "ipython3",
   "version": "3.11.5"
  },
  "orig_nbformat": 4
 },
 "nbformat": 4,
 "nbformat_minor": 2
}
