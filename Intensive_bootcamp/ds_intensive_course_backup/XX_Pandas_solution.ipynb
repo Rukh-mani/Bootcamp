{
 "cells": [
  {
   "cell_type": "code",
   "execution_count": null,
   "metadata": {},
   "outputs": [],
   "source": [
    "import pandas as pd"
   ]
  },
  {
   "cell_type": "code",
   "execution_count": null,
   "metadata": {},
   "outputs": [],
   "source": [
    "#TODO open E-commerece sales data 2024, product_details and customer_details\n",
    "#TODO which columns rows seem to be redundant? drop them"
   ]
  },
  {
   "cell_type": "code",
   "execution_count": null,
   "metadata": {},
   "outputs": [],
   "source": [
    "df_ecommerce = pd.read_csv(\"data/E-commerece sales data 2024.csv\")\n",
    "df_ecommerce = df_ecommerce.dropna(subset = \"user id\")\n",
    "df_ecommerce"
   ]
  },
  {
   "cell_type": "code",
   "execution_count": null,
   "metadata": {},
   "outputs": [],
   "source": [
    "print(df_ecommerce[\"Unnamed: 4\"].unique())\n",
    "df_ecommerce = df_ecommerce.drop(\"Unnamed: 4\", axis = 1)"
   ]
  },
  {
   "cell_type": "code",
   "execution_count": null,
   "metadata": {},
   "outputs": [],
   "source": [
    "df_ecommerce"
   ]
  },
  {
   "cell_type": "code",
   "execution_count": null,
   "metadata": {},
   "outputs": [],
   "source": [
    "df_products = pd.read_csv(\"data/product_details.csv\")\n",
    "df_products.head(5)"
   ]
  },
  {
   "cell_type": "code",
   "execution_count": null,
   "metadata": {},
   "outputs": [],
   "source": [
    "cols_to_del = []\n",
    "for col in df_products.columns:\n",
    "    col_nunique = df_products[col].nunique()\n",
    "    print(col, \"has this much of unique values\",  col_nunique)\n",
    "    if col_nunique in [0,1]:\n",
    "        print(col, \" may be deleted\")\n",
    "        cols_to_del.append(col)"
   ]
  },
  {
   "cell_type": "code",
   "execution_count": null,
   "metadata": {},
   "outputs": [],
   "source": [
    "cols_to_del"
   ]
  },
  {
   "cell_type": "code",
   "execution_count": null,
   "metadata": {},
   "outputs": [],
   "source": [
    "df_products[cols_to_del]"
   ]
  },
  {
   "cell_type": "code",
   "execution_count": null,
   "metadata": {},
   "outputs": [],
   "source": [
    "df_products = df_products.drop(cols_to_del, axis = 1)\n",
    "df_products.head(5)"
   ]
  },
  {
   "cell_type": "code",
   "execution_count": null,
   "metadata": {},
   "outputs": [],
   "source": [
    "df_customers = pd.read_csv(\"data/customer_details.csv\")\n",
    "df_customers.head()"
   ]
  },
  {
   "cell_type": "code",
   "execution_count": null,
   "metadata": {},
   "outputs": [],
   "source": [
    "#TODO find if customers dataset may be joined with ecommerce dataset\n",
    "print(\"There is only one row per each customer in ecomerce data\")\n",
    "print(\"User is therefore in the data only once with liked/vieved/purchased\")\n",
    "print(df_ecommerce[\"user id\"].nunique()- len(df_ecommerce))\n",
    "\n",
    "\n",
    "print(\"\\n\")\n",
    "print(\"Same goes for customer data\")\n",
    "print(df_customers[\"Customer ID\"].nunique()-len(df_customers))\n",
    "\n",
    "\n",
    "print(\"Lets explore id overlaps\")\n",
    "\n",
    "ids_in_ecommerce = df_ecommerce[\"user id\"]\n",
    "ids_in_customers = df_customers[\"Customer ID\"]\n",
    "\n",
    "\n",
    "print(\"\\n\")\n",
    "print(\"\\n\")\n",
    "\n",
    "print(\"All customers in ecommerce data are in customers data\")\n",
    "print(len(ids_in_ecommerce)-sum(ids_in_ecommerce.isin(ids_in_customers)))\n",
    "print(\"\\n\")\n",
    "\n",
    "print(\"Some customers in customers data are not in ecommerce data\")\n",
    "print(len(ids_in_customers)-sum(ids_in_customers.isin(ids_in_ecommerce)))\n"
   ]
  },
  {
   "cell_type": "code",
   "execution_count": null,
   "metadata": {},
   "outputs": [],
   "source": [
    "df = pd.merge(df_ecommerce, df_customers, left_on='user id', right_on=\"Customer ID\")"
   ]
  },
  {
   "cell_type": "code",
   "execution_count": null,
   "metadata": {},
   "outputs": [],
   "source": [
    "#TODO find if product dataset may be joined with merged data we have created\n",
    "\n",
    "\n",
    "merged_products = df[\"product id\"]\n",
    "base_products = df_products[\"Uniqe Id\"]\n",
    "\n",
    "\n",
    "print(\"All products in merged data are in products base data\")\n",
    "print(len(merged_products)-sum(merged_products.isin(base_products)))\n",
    "print(\"\\n\")\n",
    "\n",
    "print(\"Some products in base product data are not in merged data\")\n",
    "print(len(base_products)-sum(base_products.isin(merged_products)))\n"
   ]
  },
  {
   "cell_type": "code",
   "execution_count": null,
   "metadata": {},
   "outputs": [],
   "source": [
    "df"
   ]
  },
  {
   "cell_type": "code",
   "execution_count": null,
   "metadata": {},
   "outputs": [],
   "source": [
    "df = pd.merge(df, df_products, left_on='product id', right_on=\"Uniqe Id\")"
   ]
  },
  {
   "cell_type": "code",
   "execution_count": null,
   "metadata": {},
   "outputs": [],
   "source": [
    "print(df.columns)\n",
    "df.head()\n"
   ]
  },
  {
   "cell_type": "code",
   "execution_count": null,
   "metadata": {},
   "outputs": [],
   "source": [
    "#TODO drop duplicate and url columns and set index as user id\n",
    "\n",
    "cols_to_keep = ['user id', 'product id', 'Interaction type', 'Time stamp',\n",
    "       'Age', 'Gender', 'Item Purchased', 'Category_x',\n",
    "       'Purchase Amount (USD)', 'Location', 'Size', 'Color', 'Season',\n",
    "       'Review Rating', 'Subscription Status', 'Shipping Type',\n",
    "       'Discount Applied', 'Promo Code Used', 'Previous Purchases',\n",
    "       'Payment Method', 'Frequency of Purchases',  'Product Name',\n",
    "       'Category_y', 'Selling Price', 'Model Number',\n",
    "       'About Product', 'Product Specification', 'Technical Details',\n",
    "       'Shipping Weight', 'Product Dimensions', 'Is Amazon Seller']\n",
    "\n",
    "\n",
    "df = df[cols_to_keep]\n",
    "df = df.set_index(\"user id\")\n",
    "df.head()"
   ]
  },
  {
   "cell_type": "code",
   "execution_count": null,
   "metadata": {},
   "outputs": [],
   "source": [
    "#TODO is product name relevant? Drop if not.\n",
    "\n",
    "df[\"Product Name\"].nunique() #TO many unique options, since customerid is unique, we can drop product level\n",
    "\n",
    "df = df.drop([\"Product Name\", \"product id\"], axis = 1)\n",
    "df.head()"
   ]
  },
  {
   "cell_type": "code",
   "execution_count": null,
   "metadata": {},
   "outputs": [],
   "source": [
    "df[\"Item Purchased\"].nunique()"
   ]
  },
  {
   "cell_type": "code",
   "execution_count": null,
   "metadata": {},
   "outputs": [],
   "source": [
    "#TODO are there any gender differences in items purchased?\n",
    "\n",
    "\n",
    "pd.crosstab(df[\"Item Purchased\"], df.Gender)\n"
   ]
  },
  {
   "cell_type": "code",
   "execution_count": null,
   "metadata": {},
   "outputs": [],
   "source": [
    " pd.crosstab(df[\"Item Purchased\"], df.Gender, normalize='index')"
   ]
  },
  {
   "cell_type": "code",
   "execution_count": null,
   "metadata": {},
   "outputs": [],
   "source": []
  }
 ],
 "metadata": {
  "kernelspec": {
   "display_name": ".venv",
   "language": "python",
   "name": "python3"
  },
  "language_info": {
   "codemirror_mode": {
    "name": "ipython",
    "version": 3
   },
   "file_extension": ".py",
   "mimetype": "text/x-python",
   "name": "python",
   "nbconvert_exporter": "python",
   "pygments_lexer": "ipython3",
   "version": "3.11.5"
  },
  "orig_nbformat": 4
 },
 "nbformat": 4,
 "nbformat_minor": 2
}
