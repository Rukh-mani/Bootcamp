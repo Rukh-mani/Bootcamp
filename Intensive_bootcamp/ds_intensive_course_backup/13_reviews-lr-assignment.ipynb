{
 "cells": [
  {
   "cell_type": "code",
   "execution_count": 2,
   "metadata": {},
   "outputs": [],
   "source": [
    "#! pip install tensorflow_datasets\n",
    "import tensorflow_datasets as tfds\n",
    "from sklearn.model_selection import train_test_split\n",
    "from sklearn.feature_extraction.text import TfidfVectorizer\n",
    "from sklearn.linear_model import LogisticRegression\n",
    "from sklearn.metrics import accuracy_score, classification_report\n",
    "import numpy as np"
   ]
  },
  {
   "cell_type": "code",
   "execution_count": null,
   "metadata": {},
   "outputs": [],
   "source": [
    "# Load the IMDB dataset\n",
    "imdb, info = tfds.load(\"imdb_reviews\", with_info=True, as_supervised=True)\n",
    "\n",
    "# Retrieve the train and test data\n",
    "train_data, test_data = imdb['train'], imdb['test']\n",
    "\n",
    "# Prepare the datasets\n",
    "train_sentences = []\n",
    "train_labels = []\n",
    "\n",
    "test_sentences = []\n",
    "test_labels = []\n",
    "\n",
    "# TensorFlow datasets are stored in a tf.data.Dataset object, which is a generator. \n",
    "# Hence, we need to loop through it to retrieve data.\n",
    "for sentence, label in tfds.as_numpy(train_data):\n",
    "    train_sentences.append(sentence.decode('utf-8'))\n",
    "    train_labels.append(label)\n",
    "\n",
    "for sentence, label in tfds.as_numpy(test_data):\n",
    "    test_sentences.append(sentence.decode('utf-8'))\n",
    "    test_labels.append(label)\n",
    "\n",
    "train_labels = np.array(train_labels)\n",
    "test_labels = np.array(test_labels)"
   ]
  },
  {
   "cell_type": "code",
   "execution_count": null,
   "metadata": {},
   "outputs": [],
   "source": [
    "# Split the training data to create a validation set\n",
    "train_sentences, val_sentences, train_labels, val_labels = train_test_split(\n",
    "    train_sentences, train_labels, test_size=0.2, random_state=42)\n",
    "\n",
    "# Initialize a TF-IDF vectorizer\n",
    "vectorizer = TfidfVectorizer(stop_words='english')\n",
    "\n",
    "# Fit the vectorizer to the training data and transform the sentences\n",
    "X_train = vectorizer.fit_transform(train_sentences)\n",
    "\n",
    "# Transform the validation and test data with the same vectorizer\n",
    "X_val = vectorizer.transform(val_sentences)\n",
    "X_test = vectorizer.transform(test_sentences)"
   ]
  },
  {
   "cell_type": "markdown",
   "metadata": {},
   "source": [
    "### TODO:\n",
    "Your task is to finish the pipeline, train the model, and evaluate the results..."
   ]
  },
  {
   "cell_type": "code",
   "execution_count": null,
   "metadata": {},
   "outputs": [],
   "source": [
    "# Define the Logistic Regression model\n",
    "\n",
    "# Train the model\n",
    "\n",
    "# Predict on the validation set\n",
    "\n",
    "# Evaluate the model\n",
    "\n",
    "# Predict on the test set\n"
   ]
  },
  {
   "cell_type": "code",
   "execution_count": null,
   "metadata": {},
   "outputs": [],
   "source": [
    "# Evaluate the model"
   ]
  }
 ],
 "metadata": {
  "kernelspec": {
   "display_name": "Python 3",
   "language": "python",
   "name": "python3"
  },
  "language_info": {
   "codemirror_mode": {
    "name": "ipython",
    "version": 3
   },
   "file_extension": ".py",
   "mimetype": "text/x-python",
   "name": "python",
   "nbconvert_exporter": "python",
   "pygments_lexer": "ipython3",
   "version": "3.11.4"
  }
 },
 "nbformat": 4,
 "nbformat_minor": 2
}
