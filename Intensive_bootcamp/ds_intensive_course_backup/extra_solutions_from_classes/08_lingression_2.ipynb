{
 "cells": [
  {
   "cell_type": "code",
   "execution_count": null,
   "metadata": {},
   "outputs": [],
   "source": [
    "# Import necessary libraries\n",
    "from sklearn import datasets\n",
    "from sklearn.model_selection import train_test_split\n",
    "from sklearn.linear_model import LinearRegression\n",
    "from sklearn.metrics import mean_squared_error, r2_score\n",
    "\n",
    "# Load the diabetes dataset\n",
    "diabetes_data = datasets.load_diabetes()\n",
    "\n",
    "# Extract the features and the target variable\n",
    "X, y = diabetes_data.data, diabetes_data.target\n",
    "\n",
    "# Split the data into training and testing sets\n",
    "\n",
    "# Create linear regression object\n",
    "\n",
    "# Train the model using the training sets\n",
    "\n",
    "# Make predictions using the testing set\n",
    "\n",
    "# The coefficients\n",
    "\n",
    "# The mean squared error\n",
    "\n",
    "# The coefficient of determination: 1 is perfect prediction\n",
    "# use the function from scikit: r2_score(y_test, y_pred)"
   ]
  }
 ],
 "metadata": {
  "language_info": {
   "name": "python"
  }
 },
 "nbformat": 4,
 "nbformat_minor": 2
}
