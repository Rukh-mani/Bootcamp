{
  "cells": [
    {
      "cell_type": "code",
      "execution_count": 1,
      "metadata": {
        "id": "Uf1AfcvK-L6X"
      },
      "outputs": [],
      "source": [
        "import pandas as pd"
      ]
    },
    {
      "cell_type": "code",
      "execution_count": 2,
      "metadata": {
        "colab": {
          "base_uri": "https://localhost:8080/"
        },
        "id": "YtwMYxim-L6g",
        "outputId": "462c12cd-20a1-47d5-d9d0-82fafbb5f1e1"
      },
      "outputs": [
        {
          "output_type": "execute_result",
          "data": {
            "text/plain": [
              "0    10\n",
              "1    20\n",
              "2    30\n",
              "3    40\n",
              "4    50\n",
              "dtype: int64"
            ]
          },
          "metadata": {},
          "execution_count": 2
        }
      ],
      "source": [
        "#Creating pandas Series from list\n",
        "my_list = [10, 20, 30, 40, 50]\n",
        "my_series = pd.Series(my_list)\n",
        "my_series\n"
      ]
    },
    {
      "cell_type": "code",
      "source": [
        "print(my_series)"
      ],
      "metadata": {
        "colab": {
          "base_uri": "https://localhost:8080/"
        },
        "id": "j4mVnep6-2tz",
        "outputId": "06af3fc6-ac07-4750-d1d4-0aee1b2e0c95"
      },
      "execution_count": 3,
      "outputs": [
        {
          "output_type": "stream",
          "name": "stdout",
          "text": [
            "0    10\n",
            "1    20\n",
            "2    30\n",
            "3    40\n",
            "4    50\n",
            "dtype: int64\n"
          ]
        }
      ]
    },
    {
      "cell_type": "code",
      "execution_count": 6,
      "metadata": {
        "colab": {
          "base_uri": "https://localhost:8080/"
        },
        "id": "nxJ9kA_5-L6h",
        "outputId": "445fc423-71d3-48df-9397-55b50a30645f"
      },
      "outputs": [
        {
          "output_type": "stream",
          "name": "stdout",
          "text": [
            "RangeIndex(start=0, stop=5, step=1)\n",
            "[10 20 30 40 50]\n",
            "int64\n",
            "(5,)\n",
            "40\n",
            "0    10\n",
            "1    20\n",
            "2    30\n",
            "3    40\n",
            "4    50\n",
            "dtype: int64\n"
          ]
        }
      ],
      "source": [
        "#Attributes\n",
        "print(my_series.index)\n",
        "print(my_series.values)\n",
        "print(my_series.dtype)\n",
        "print(my_series.shape)\n",
        "print(my_series.nbytes)\n",
        "print(my_series.T)"
      ]
    },
    {
      "cell_type": "code",
      "execution_count": 7,
      "metadata": {
        "colab": {
          "base_uri": "https://localhost:8080/"
        },
        "id": "KtPgDxwe-L6j",
        "outputId": "2d0a2c31-f22d-463c-82b1-531a6089e51d"
      },
      "outputs": [
        {
          "output_type": "execute_result",
          "data": {
            "text/plain": [
              "0     10\n",
              "1    dog\n",
              "2     30\n",
              "3    cat\n",
              "4     50\n",
              "dtype: object"
            ]
          },
          "metadata": {},
          "execution_count": 7
        }
      ],
      "source": [
        "#However! What if list holds various data types?\n",
        "my_list = [10, \"dog\", 30, \"cat\", 50]\n",
        "my_series =  pd.Series(my_list)#TODO how this works? what about data type?\n",
        "my_series"
      ]
    },
    {
      "cell_type": "code",
      "source": [
        "my_series"
      ],
      "metadata": {
        "colab": {
          "base_uri": "https://localhost:8080/"
        },
        "id": "dgHdTV-hE0hS",
        "outputId": "ab3832ca-6374-4eb8-a584-9dd925dc1002"
      },
      "execution_count": 14,
      "outputs": [
        {
          "output_type": "execute_result",
          "data": {
            "text/plain": [
              "0     10\n",
              "1    dog\n",
              "2     30\n",
              "3    cat\n",
              "4     50\n",
              "dtype: object"
            ]
          },
          "metadata": {},
          "execution_count": 14
        }
      ]
    },
    {
      "cell_type": "code",
      "source": [
        "my_dict = {}\n",
        "my_dict[\"A\"] = [4,5,6]\n",
        "my_dict"
      ],
      "metadata": {
        "colab": {
          "base_uri": "https://localhost:8080/"
        },
        "id": "njV14L83CYQJ",
        "outputId": "22459227-c88e-4d26-c883-08e7add847b6"
      },
      "execution_count": 12,
      "outputs": [
        {
          "output_type": "execute_result",
          "data": {
            "text/plain": [
              "{'A': [4, 5, 6]}"
            ]
          },
          "metadata": {},
          "execution_count": 12
        }
      ]
    },
    {
      "cell_type": "code",
      "source": [
        "my_dict = {\n",
        "    \"Name\":[\"Mike\", \"Jon\"],\n",
        "    \"Age\": [12, 13]\n",
        "}\n",
        "my_dict\n",
        "pd.Series(my_dict)"
      ],
      "metadata": {
        "colab": {
          "base_uri": "https://localhost:8080/"
        },
        "id": "O3sxQ2VAEGpU",
        "outputId": "909b7c85-9063-41bc-bb51-982444ad35dc"
      },
      "execution_count": 13,
      "outputs": [
        {
          "output_type": "execute_result",
          "data": {
            "text/plain": [
              "Name    [Mike, Jon]\n",
              "Age        [12, 13]\n",
              "dtype: object"
            ]
          },
          "metadata": {},
          "execution_count": 13
        }
      ]
    },
    {
      "cell_type": "code",
      "source": [
        "my_dict = {}\n",
        "my_dict[\"A\"] = [4,5,6]\n",
        "my_dict[\"B\"] = [7,8,9]\n",
        "my_dict[\"C\"] = [10,11,12]\n",
        "my_dict\n",
        "\n",
        "my_series = pd.Series(my_dict)\n",
        "my_series"
      ],
      "metadata": {
        "colab": {
          "base_uri": "https://localhost:8080/"
        },
        "id": "WRCCyCCBBu_G",
        "outputId": "8242b89e-301c-4afa-80a5-08462cc21fb9"
      },
      "execution_count": 15,
      "outputs": [
        {
          "output_type": "execute_result",
          "data": {
            "text/plain": [
              "A       [4, 5, 6]\n",
              "B       [7, 8, 9]\n",
              "C    [10, 11, 12]\n",
              "dtype: object"
            ]
          },
          "metadata": {},
          "execution_count": 15
        }
      ]
    },
    {
      "cell_type": "code",
      "source": [
        "type(my_dict)"
      ],
      "metadata": {
        "colab": {
          "base_uri": "https://localhost:8080/"
        },
        "id": "oeVn4zfnFP0I",
        "outputId": "6ebc9641-9c42-4401-d16a-af434c3e1525"
      },
      "execution_count": 17,
      "outputs": [
        {
          "output_type": "execute_result",
          "data": {
            "text/plain": [
              "dict"
            ]
          },
          "metadata": {},
          "execution_count": 17
        }
      ]
    },
    {
      "cell_type": "code",
      "source": [
        "type(my_series)"
      ],
      "metadata": {
        "colab": {
          "base_uri": "https://localhost:8080/"
        },
        "id": "Xw3LW7TWFMiB",
        "outputId": "0fd20e4e-b19b-4b97-e37d-71965ae9c48a"
      },
      "execution_count": 16,
      "outputs": [
        {
          "output_type": "execute_result",
          "data": {
            "text/plain": [
              "pandas.core.series.Series"
            ]
          },
          "metadata": {},
          "execution_count": 16
        }
      ]
    },
    {
      "cell_type": "code",
      "source": [
        "pd.Series(my_series)"
      ],
      "metadata": {
        "colab": {
          "base_uri": "https://localhost:8080/"
        },
        "id": "fIZeh9d3FXx1",
        "outputId": "c30bf867-9d5f-43c0-90d3-5ff551bde1a2"
      },
      "execution_count": 18,
      "outputs": [
        {
          "output_type": "execute_result",
          "data": {
            "text/plain": [
              "A       [4, 5, 6]\n",
              "B       [7, 8, 9]\n",
              "C    [10, 11, 12]\n",
              "dtype: object"
            ]
          },
          "metadata": {},
          "execution_count": 18
        }
      ]
    },
    {
      "cell_type": "code",
      "execution_count": null,
      "metadata": {
        "id": "aCL3hcXS-L6k"
      },
      "outputs": [],
      "source": [
        "#TODO create series from dictionary\n",
        "my_dict = #TODO\n",
        "my_series = #TODO\n",
        "my_series"
      ]
    },
    {
      "cell_type": "code",
      "source": [
        "my_list = [10, 20, 30, 40, 50]\n",
        "my_series = pd.Series(my_list)\n",
        "my_series"
      ],
      "metadata": {
        "colab": {
          "base_uri": "https://localhost:8080/"
        },
        "id": "TRC5tYI6FpRb",
        "outputId": "6c12c681-706e-4dd1-aa66-7355ca3dd91b"
      },
      "execution_count": 19,
      "outputs": [
        {
          "output_type": "execute_result",
          "data": {
            "text/plain": [
              "0    10\n",
              "1    20\n",
              "2    30\n",
              "3    40\n",
              "4    50\n",
              "dtype: int64"
            ]
          },
          "metadata": {},
          "execution_count": 19
        }
      ]
    },
    {
      "cell_type": "code",
      "execution_count": 23,
      "metadata": {
        "colab": {
          "base_uri": "https://localhost:8080/"
        },
        "id": "immA7tY4-L6l",
        "outputId": "3bdef16b-0eff-4789-b2fe-2c5c68cdc26b"
      },
      "outputs": [
        {
          "output_type": "stream",
          "name": "stdout",
          "text": [
            "150\n",
            "30.0\n",
            "12000000\n"
          ]
        }
      ],
      "source": [
        "\n",
        "#Sum series\n",
        "print(my_series.sum())\n",
        "\n",
        "#Mean series\n",
        "print(my_series.mean())\n",
        "\n",
        "#Product series\n",
        "print(my_series.product())\n"
      ]
    },
    {
      "cell_type": "code",
      "execution_count": 24,
      "metadata": {
        "colab": {
          "base_uri": "https://localhost:8080/"
        },
        "id": "OLQvnBE1-L6m",
        "outputId": "7636e321-a910-4261-8bf6-af6a1f478342"
      },
      "outputs": [
        {
          "output_type": "stream",
          "name": "stdout",
          "text": [
            "5\n",
            "<class 'pandas.core.series.Series'>\n",
            "[10, 20, 30, 40, 50]\n",
            "[10, 20, 30, 40, 50]\n",
            "{0: 10, 1: 20, 2: 30, 3: 40, 4: 50}\n",
            "10\n",
            "50\n"
          ]
        }
      ],
      "source": [
        "#Interaction with python built-in functions\n",
        "#TODO let's try len, type, sorted, list, dict, min, max\n",
        "print(len(my_series))\n",
        "print(type(my_series))\n",
        "print(sorted(my_series))\n",
        "print(list(my_series))\n",
        "print(dict(my_series))\n",
        "print(min(my_series))\n",
        "print(max(my_series))"
      ]
    },
    {
      "cell_type": "code",
      "source": [
        "# Create a sample Pandas Series\n",
        "data = {'Monday': 101, 'Tuesday': 201, 'Wednesday': 120, 'Thursday': 212, 'Friday': 56}\n",
        "my_series = pd.Series(data)\n",
        "\n",
        "\n",
        "# TODO Sort the Series using sort_values() method\n",
        "sorted_series_asc = my_series.sort_values()\n",
        "print(\"Sorted in ascending order:\")\n",
        "print(sorted_series_asc)\n",
        "\n",
        "\n",
        "# use ascending parameter to sort the values descending\n",
        "sorted_series_desc = my_series.sort_values(ascending = False)\n",
        "print(\"Sorted in descending order:\")\n",
        "print(sorted_series_desc)\n",
        "\n",
        "\n",
        "# print  indices of the sorted Series, use .index method\n",
        "indices_sorted = sorted_series_desc.index\n",
        "print(\"Indices of the sorted Series:\")\n",
        "print(indices_sorted)\n"
      ],
      "metadata": {
        "colab": {
          "base_uri": "https://localhost:8080/"
        },
        "id": "HmOeEmeVIsJc",
        "outputId": "40ab3157-9e06-4d99-d4f5-87cc7ba631ef"
      },
      "execution_count": 32,
      "outputs": [
        {
          "output_type": "stream",
          "name": "stdout",
          "text": [
            "Sorted in ascending order:\n",
            "Friday        56\n",
            "Monday       101\n",
            "Wednesday    120\n",
            "Tuesday      201\n",
            "Thursday     212\n",
            "dtype: int64\n",
            "Sorted in descending order:\n",
            "Thursday     212\n",
            "Tuesday      201\n",
            "Wednesday    120\n",
            "Monday       101\n",
            "Friday        56\n",
            "dtype: int64\n",
            "Indices of the sorted Series:\n",
            "Index(['Thursday', 'Tuesday', 'Wednesday', 'Monday', 'Friday'], dtype='object')\n"
          ]
        }
      ]
    },
    {
      "cell_type": "code",
      "source": [
        "stored_index = sorted_series_desc.index\n",
        "sorted_index = sorted(stored_index)\n",
        "\n",
        "my_series[sorted_index]"
      ],
      "metadata": {
        "colab": {
          "base_uri": "https://localhost:8080/"
        },
        "id": "02LPn7tIMqEJ",
        "outputId": "13fb9947-2970-4f9a-aa1d-4d8f053bf754"
      },
      "execution_count": 35,
      "outputs": [
        {
          "output_type": "execute_result",
          "data": {
            "text/plain": [
              "Friday        56\n",
              "Monday       101\n",
              "Thursday     212\n",
              "Tuesday      201\n",
              "Wednesday    120\n",
              "dtype: int64"
            ]
          },
          "metadata": {},
          "execution_count": 35
        }
      ]
    },
    {
      "cell_type": "code",
      "execution_count": 25,
      "metadata": {
        "colab": {
          "base_uri": "https://localhost:8080/",
          "height": 140
        },
        "id": "IslWieJv-L6n",
        "outputId": "4ffc1fea-bb08-40ee-8aff-cb82e2ca5e08"
      },
      "outputs": [
        {
          "output_type": "error",
          "ename": "SyntaxError",
          "evalue": "ignored",
          "traceback": [
            "\u001b[0;36m  File \u001b[0;32m\"<ipython-input-25-9306a4e494fc>\"\u001b[0;36m, line \u001b[0;32m7\u001b[0m\n\u001b[0;31m    sorted_series_asc = #TODO\u001b[0m\n\u001b[0m                        ^\u001b[0m\n\u001b[0;31mSyntaxError\u001b[0m\u001b[0;31m:\u001b[0m invalid syntax\n"
          ]
        }
      ],
      "source": [
        "# Create a sample Pandas Series\n",
        "data = {'Monday': 101, 'Tuesday': 201, 'Wednesday': 120, 'Thursday': 212, 'Friday': 56}\n",
        "my_series = pd.Series(data)\n",
        "\n",
        "\n",
        "# TODO Sort the Series using sort_values() method\n",
        "sorted_series_asc = #TODO\n",
        "print(\"Sorted in ascending order:\")\n",
        "print(sorted_series_asc)\n",
        "\n",
        "# use ascending parameter to sort the values descending\n",
        "sorted_series_desc = #TODO\n",
        "print(\"Sorted in descending order:\")\n",
        "print(sorted_series_desc)\n",
        "\n",
        "# print  indices of the sorted Series, use .index method\n",
        "indices_sorted = #TODO\n",
        "print(\"Indices of the sorted Series:\")\n",
        "print(indices_sorted)\n",
        "\n",
        "# Use the sorted indices to access the sorted data\n",
        "sorted_data = my_series[indices_sorted]\n",
        "print(\"Accessing data using sorted indices:\")\n",
        "print(sorted_data)\n",
        "\n",
        "# use head / tail method to access first 5 values of sorted series\n",
        "top_5 = #TODO\n",
        "bottom_5 = #TODO\n",
        "print(\"Top 5 values:\")\n",
        "print(top_5)\n",
        "print(\"Bottom 5 values:\")\n",
        "print(bottom_5)\n"
      ]
    },
    {
      "cell_type": "code",
      "source": [
        "my_list = [10, 20, 30, 40, 50]*5\n",
        "my_series = pd.Series(my_list)\n",
        "my_series"
      ],
      "metadata": {
        "colab": {
          "base_uri": "https://localhost:8080/"
        },
        "id": "7uV1mYb7Nacw",
        "outputId": "700b0fbd-5d77-4fec-b19c-eec33b453055"
      },
      "execution_count": 37,
      "outputs": [
        {
          "output_type": "execute_result",
          "data": {
            "text/plain": [
              "0     10\n",
              "1     20\n",
              "2     30\n",
              "3     40\n",
              "4     50\n",
              "5     10\n",
              "6     20\n",
              "7     30\n",
              "8     40\n",
              "9     50\n",
              "10    10\n",
              "11    20\n",
              "12    30\n",
              "13    40\n",
              "14    50\n",
              "15    10\n",
              "16    20\n",
              "17    30\n",
              "18    40\n",
              "19    50\n",
              "20    10\n",
              "21    20\n",
              "22    30\n",
              "23    40\n",
              "24    50\n",
              "dtype: int64"
            ]
          },
          "metadata": {},
          "execution_count": 37
        }
      ]
    },
    {
      "cell_type": "code",
      "source": [
        "my_series.head(5)"
      ],
      "metadata": {
        "colab": {
          "base_uri": "https://localhost:8080/"
        },
        "id": "WpqxcNi0NsCi",
        "outputId": "ffb8287b-023f-4254-eb1e-039514bf0f13"
      },
      "execution_count": 41,
      "outputs": [
        {
          "output_type": "execute_result",
          "data": {
            "text/plain": [
              "0    10\n",
              "1    20\n",
              "2    30\n",
              "3    40\n",
              "4    50\n",
              "dtype: int64"
            ]
          },
          "metadata": {},
          "execution_count": 41
        }
      ]
    },
    {
      "cell_type": "code",
      "source": [
        "my_series.tail(5)"
      ],
      "metadata": {
        "colab": {
          "base_uri": "https://localhost:8080/"
        },
        "id": "P9qr0fdON1Z9",
        "outputId": "78290ec8-9450-4796-9454-596657fdad6a"
      },
      "execution_count": 42,
      "outputs": [
        {
          "output_type": "execute_result",
          "data": {
            "text/plain": [
              "20    10\n",
              "21    20\n",
              "22    30\n",
              "23    40\n",
              "24    50\n",
              "dtype: int64"
            ]
          },
          "metadata": {},
          "execution_count": 42
        }
      ]
    },
    {
      "cell_type": "code",
      "source": [
        "# use head / tail method to access first 5 values of sorted series\n",
        "top_5 = #TODO\n",
        "bottom_5 = #TODO\n",
        "print(\"Top 5 values:\")\n",
        "print(top_5)\n",
        "print(\"Bottom 5 values:\")\n",
        "print(bottom_5)"
      ],
      "metadata": {
        "id": "ZDKpz_gpNZFi"
      },
      "execution_count": null,
      "outputs": []
    },
    {
      "cell_type": "code",
      "source": [
        "my_series"
      ],
      "metadata": {
        "colab": {
          "base_uri": "https://localhost:8080/"
        },
        "id": "sFUhQggGeS_r",
        "outputId": "eddf050c-2d66-4a1e-d33d-c6e0ef3c0bed"
      },
      "execution_count": 43,
      "outputs": [
        {
          "output_type": "execute_result",
          "data": {
            "text/plain": [
              "0     10\n",
              "1     20\n",
              "2     30\n",
              "3     40\n",
              "4     50\n",
              "5     10\n",
              "6     20\n",
              "7     30\n",
              "8     40\n",
              "9     50\n",
              "10    10\n",
              "11    20\n",
              "12    30\n",
              "13    40\n",
              "14    50\n",
              "15    10\n",
              "16    20\n",
              "17    30\n",
              "18    40\n",
              "19    50\n",
              "20    10\n",
              "21    20\n",
              "22    30\n",
              "23    40\n",
              "24    50\n",
              "dtype: int64"
            ]
          },
          "metadata": {},
          "execution_count": 43
        }
      ]
    },
    {
      "cell_type": "code",
      "execution_count": 44,
      "metadata": {
        "colab": {
          "base_uri": "https://localhost:8080/"
        },
        "id": "Ew4ux8xJ-L6n",
        "outputId": "6f7e0361-c033-488c-d240-86b89169ca56"
      },
      "outputs": [
        {
          "output_type": "execute_result",
          "data": {
            "text/plain": [
              "0     False\n",
              "1      True\n",
              "2      True\n",
              "3     False\n",
              "4     False\n",
              "5     False\n",
              "6      True\n",
              "7      True\n",
              "8     False\n",
              "9     False\n",
              "10    False\n",
              "11     True\n",
              "12     True\n",
              "13    False\n",
              "14    False\n",
              "15    False\n",
              "16     True\n",
              "17     True\n",
              "18    False\n",
              "19    False\n",
              "20    False\n",
              "21     True\n",
              "22     True\n",
              "23    False\n",
              "24    False\n",
              "dtype: bool"
            ]
          },
          "metadata": {},
          "execution_count": 44
        }
      ],
      "source": [
        "#Use .isin() to check if value is in the specified range of keywords\n",
        "keywords = [15, 20, 25, 30, 201, 101]\n",
        "my_series.isin(keywords)"
      ]
    },
    {
      "cell_type": "code",
      "source": [
        "filter = my_series.isin(keywords)\n",
        "filter"
      ],
      "metadata": {
        "colab": {
          "base_uri": "https://localhost:8080/"
        },
        "id": "LzNV5zgefSRV",
        "outputId": "c994d410-79ec-4166-fa14-aaf283af96b3"
      },
      "execution_count": 45,
      "outputs": [
        {
          "output_type": "execute_result",
          "data": {
            "text/plain": [
              "0     False\n",
              "1      True\n",
              "2      True\n",
              "3     False\n",
              "4     False\n",
              "5     False\n",
              "6      True\n",
              "7      True\n",
              "8     False\n",
              "9     False\n",
              "10    False\n",
              "11     True\n",
              "12     True\n",
              "13    False\n",
              "14    False\n",
              "15    False\n",
              "16     True\n",
              "17     True\n",
              "18    False\n",
              "19    False\n",
              "20    False\n",
              "21     True\n",
              "22     True\n",
              "23    False\n",
              "24    False\n",
              "dtype: bool"
            ]
          },
          "metadata": {},
          "execution_count": 45
        }
      ]
    },
    {
      "cell_type": "code",
      "source": [
        "my_series[filter]"
      ],
      "metadata": {
        "colab": {
          "base_uri": "https://localhost:8080/"
        },
        "id": "zwNqkadbfdYg",
        "outputId": "2cf0b5d5-89be-4de6-b2e1-f8f2acfe37ea"
      },
      "execution_count": 46,
      "outputs": [
        {
          "output_type": "execute_result",
          "data": {
            "text/plain": [
              "1     20\n",
              "2     30\n",
              "6     20\n",
              "7     30\n",
              "11    20\n",
              "12    30\n",
              "16    20\n",
              "17    30\n",
              "21    20\n",
              "22    30\n",
              "dtype: int64"
            ]
          },
          "metadata": {},
          "execution_count": 46
        }
      ]
    },
    {
      "cell_type": "code",
      "source": [
        "keywords"
      ],
      "metadata": {
        "colab": {
          "base_uri": "https://localhost:8080/"
        },
        "id": "Uu0UXk8yfjgW",
        "outputId": "2763285f-4b7d-4c4b-f762-4732bc4c5cc2"
      },
      "execution_count": 48,
      "outputs": [
        {
          "output_type": "execute_result",
          "data": {
            "text/plain": [
              "[15, 20, 25, 30, 201, 101]"
            ]
          },
          "metadata": {},
          "execution_count": 48
        }
      ]
    },
    {
      "cell_type": "code",
      "execution_count": null,
      "metadata": {
        "id": "MJ6IqpUa-L6o"
      },
      "outputs": [],
      "source": [
        "#TODO whar if we need the opposite?"
      ]
    },
    {
      "cell_type": "code",
      "source": [
        "filter = (~my_series.isin(keywords))\n",
        "my_series[filter]"
      ],
      "metadata": {
        "colab": {
          "base_uri": "https://localhost:8080/"
        },
        "id": "MGPj4lBpfclH",
        "outputId": "80eafb44-5a76-4aef-8c2e-d0135e96751c"
      },
      "execution_count": 52,
      "outputs": [
        {
          "output_type": "execute_result",
          "data": {
            "text/plain": [
              "0     10\n",
              "3     40\n",
              "4     50\n",
              "5     10\n",
              "8     40\n",
              "9     50\n",
              "10    10\n",
              "13    40\n",
              "14    50\n",
              "15    10\n",
              "18    40\n",
              "19    50\n",
              "20    10\n",
              "23    40\n",
              "24    50\n",
              "dtype: int64"
            ]
          },
          "metadata": {},
          "execution_count": 52
        }
      ]
    },
    {
      "cell_type": "code",
      "source": [],
      "metadata": {
        "id": "SfkYulqEgDSu"
      },
      "execution_count": null,
      "outputs": []
    },
    {
      "cell_type": "code",
      "execution_count": 55,
      "metadata": {
        "colab": {
          "base_uri": "https://localhost:8080/"
        },
        "id": "oF2mgGlf-L6p",
        "outputId": "b2ab506a-62d6-4519-e7f8-8ea565508aef"
      },
      "outputs": [
        {
          "output_type": "stream",
          "name": "stdout",
          "text": [
            "0    10\n",
            "1    20\n",
            "2    30\n",
            "3    40\n",
            "4    50\n",
            "dtype: int64\n",
            "30\n"
          ]
        }
      ],
      "source": [
        "#What is the difference between index and label?\n",
        "\n",
        "\n",
        "#Series with index\n",
        "data = [10, 20, 30, 40, 50]\n",
        "my_series = pd.Series(data)\n",
        "print(my_series)\n",
        "\n",
        "#access value by index\n",
        "value_by_index = my_series[2]\n",
        "print(value_by_index)"
      ]
    },
    {
      "cell_type": "code",
      "source": [
        "#TODO reindex\n",
        "new_index = [2,4,6,8,10]\n",
        "my_series.index = new_index\n",
        "my_series"
      ],
      "metadata": {
        "colab": {
          "base_uri": "https://localhost:8080/"
        },
        "id": "O6mxX1puhH8J",
        "outputId": "69f06401-1ef0-430c-c7a6-820c211327e4"
      },
      "execution_count": 56,
      "outputs": [
        {
          "output_type": "execute_result",
          "data": {
            "text/plain": [
              "2     10\n",
              "4     20\n",
              "6     30\n",
              "8     40\n",
              "10    50\n",
              "dtype: int64"
            ]
          },
          "metadata": {},
          "execution_count": 56
        }
      ]
    },
    {
      "cell_type": "code",
      "source": [
        "\n",
        "#we can also access data using .get methood\n",
        "my_series.get(10)"
      ],
      "metadata": {
        "colab": {
          "base_uri": "https://localhost:8080/"
        },
        "id": "eHhGqo8NgpU4",
        "outputId": "bb4b0b60-ab69-4b8b-d1db-9b4ff25e7ca9"
      },
      "execution_count": 58,
      "outputs": [
        {
          "output_type": "execute_result",
          "data": {
            "text/plain": [
              "50"
            ]
          },
          "metadata": {},
          "execution_count": 58
        }
      ]
    },
    {
      "cell_type": "code",
      "execution_count": 62,
      "metadata": {
        "colab": {
          "base_uri": "https://localhost:8080/"
        },
        "id": "DbZMSvmc-L6p",
        "outputId": "c0a3bf3b-3dc9-4950-c3e7-9441ca4d3c5c"
      },
      "outputs": [
        {
          "output_type": "execute_result",
          "data": {
            "text/plain": [
              "50"
            ]
          },
          "metadata": {},
          "execution_count": 62
        }
      ],
      "source": [
        "#series with labels\n",
        "data = [10, 20, 30, 40, 50]\n",
        "labels = ['A', 'B', 'C', 'D', 'E']\n",
        "my_series = pd.Series(data, index=labels)\n",
        "\n",
        "#access value by label E\n",
        "#TODO\n",
        "my_series[\"E\"]"
      ]
    },
    {
      "cell_type": "code",
      "execution_count": null,
      "metadata": {
        "id": "BD8jDNV--L6q"
      },
      "outputs": [],
      "source": [
        "#TODO use get method too access value by label G, use default parameter to return 0 if nothing is found"
      ]
    },
    {
      "cell_type": "code",
      "source": [
        "my_series.get('G', default = \"nothing was found\")"
      ],
      "metadata": {
        "colab": {
          "base_uri": "https://localhost:8080/",
          "height": 37
        },
        "id": "-yIu4s7-kAXF",
        "outputId": "d26a72e3-e472-42c5-c26d-972ba9fb6e28"
      },
      "execution_count": 70,
      "outputs": [
        {
          "output_type": "execute_result",
          "data": {
            "text/plain": [
              "'nothing was found'"
            ],
            "application/vnd.google.colaboratory.intrinsic+json": {
              "type": "string"
            }
          },
          "metadata": {},
          "execution_count": 70
        }
      ]
    },
    {
      "cell_type": "code",
      "source": [
        "my_series"
      ],
      "metadata": {
        "colab": {
          "base_uri": "https://localhost:8080/"
        },
        "id": "6UtWjCJzkrvt",
        "outputId": "d9e8ecaf-0eaf-4383-d29e-8d7f328135ec"
      },
      "execution_count": 71,
      "outputs": [
        {
          "output_type": "execute_result",
          "data": {
            "text/plain": [
              "A    10\n",
              "B    20\n",
              "C    30\n",
              "D    40\n",
              "E    50\n",
              "dtype: int64"
            ]
          },
          "metadata": {},
          "execution_count": 71
        }
      ]
    },
    {
      "cell_type": "code",
      "source": [
        "#Replacing values using replace function\n",
        "new_series = my_series.replace(20, 25)\n",
        "new_series"
      ],
      "metadata": {
        "colab": {
          "base_uri": "https://localhost:8080/"
        },
        "id": "nkK2pVS1kv-u",
        "outputId": "ed581fb6-5308-477d-bf91-426699b31aaa"
      },
      "execution_count": 72,
      "outputs": [
        {
          "output_type": "execute_result",
          "data": {
            "text/plain": [
              "A    10\n",
              "B    25\n",
              "C    30\n",
              "D    40\n",
              "E    50\n",
              "dtype: int64"
            ]
          },
          "metadata": {},
          "execution_count": 72
        }
      ]
    },
    {
      "cell_type": "code",
      "source": [
        "my_series"
      ],
      "metadata": {
        "colab": {
          "base_uri": "https://localhost:8080/"
        },
        "id": "0ddVIGjmk5-y",
        "outputId": "7250979a-9e8f-41c1-bc33-7195ee2f6537"
      },
      "execution_count": 76,
      "outputs": [
        {
          "output_type": "execute_result",
          "data": {
            "text/plain": [
              "A    10\n",
              "B    20\n",
              "C    30\n",
              "D    40\n",
              "E    50\n",
              "dtype: int64"
            ]
          },
          "metadata": {},
          "execution_count": 76
        }
      ]
    },
    {
      "cell_type": "code",
      "source": [
        "my_series.replace(20, 25,  inplace=True)"
      ],
      "metadata": {
        "id": "y4PUw0qck8bZ"
      },
      "execution_count": 77,
      "outputs": []
    },
    {
      "cell_type": "code",
      "source": [
        "my_series"
      ],
      "metadata": {
        "colab": {
          "base_uri": "https://localhost:8080/"
        },
        "id": "XNvybxyJk-28",
        "outputId": "74a29540-b683-48ad-b033-b29c73ce325b"
      },
      "execution_count": 78,
      "outputs": [
        {
          "output_type": "execute_result",
          "data": {
            "text/plain": [
              "A    10\n",
              "B    25\n",
              "C    30\n",
              "D    40\n",
              "E    50\n",
              "dtype: int64"
            ]
          },
          "metadata": {},
          "execution_count": 78
        }
      ]
    },
    {
      "cell_type": "code",
      "execution_count": null,
      "metadata": {
        "id": "IstaNoPw-L6r"
      },
      "outputs": [],
      "source": [
        "#Replacing values using replace function\n",
        "new_series = my_series.replace(20, 25)\n",
        "\n",
        "#or with overwriting existing\n",
        "my_series.replace(20, 25, inplace=True)\n",
        "\n",
        "#replacing values using indexing\n",
        "my_series[1] = 25\n",
        "\n",
        "#replacing values using conditions\n",
        "my_series[my_series > 30] = 35"
      ]
    },
    {
      "cell_type": "code",
      "source": [
        "my_series[1] = 55"
      ],
      "metadata": {
        "id": "2fCs7yQrlgAw"
      },
      "execution_count": 80,
      "outputs": []
    },
    {
      "cell_type": "code",
      "source": [
        "my_series"
      ],
      "metadata": {
        "colab": {
          "base_uri": "https://localhost:8080/"
        },
        "id": "N567mB9Plgfy",
        "outputId": "1a9572d5-a7c9-4fda-acf5-46fe1a1e391f"
      },
      "execution_count": 81,
      "outputs": [
        {
          "output_type": "execute_result",
          "data": {
            "text/plain": [
              "A    10\n",
              "B    55\n",
              "C    30\n",
              "D    40\n",
              "E    50\n",
              "dtype: int64"
            ]
          },
          "metadata": {},
          "execution_count": 81
        }
      ]
    },
    {
      "cell_type": "code",
      "source": [
        "my_series"
      ],
      "metadata": {
        "colab": {
          "base_uri": "https://localhost:8080/"
        },
        "id": "ebsbaSq1ljIO",
        "outputId": "3dcefc6e-2da5-4be0-ea80-5bf4819a21ce"
      },
      "execution_count": 82,
      "outputs": [
        {
          "output_type": "execute_result",
          "data": {
            "text/plain": [
              "A    10\n",
              "B    55\n",
              "C    30\n",
              "D    40\n",
              "E    50\n",
              "dtype: int64"
            ]
          },
          "metadata": {},
          "execution_count": 82
        }
      ]
    },
    {
      "cell_type": "code",
      "source": [
        "data = [10, 20, 30, 40, 50]\n",
        "labels = ['A', 'B', 'C', 'D', 'E']\n",
        "my_series = pd.Series(data, index=labels)\n",
        "my_series"
      ],
      "metadata": {
        "colab": {
          "base_uri": "https://localhost:8080/"
        },
        "id": "4yaHAOKropsX",
        "outputId": "227c9af9-f384-4fe9-bff3-33b8e7f30ffd"
      },
      "execution_count": 89,
      "outputs": [
        {
          "output_type": "execute_result",
          "data": {
            "text/plain": [
              "A    10\n",
              "B    20\n",
              "C    30\n",
              "D    40\n",
              "E    50\n",
              "dtype: int64"
            ]
          },
          "metadata": {},
          "execution_count": 89
        }
      ]
    },
    {
      "cell_type": "code",
      "source": [
        "filter = my_series > 30\n",
        "filter"
      ],
      "metadata": {
        "colab": {
          "base_uri": "https://localhost:8080/"
        },
        "id": "_lY06hKAmb-i",
        "outputId": "09cbf6f9-5781-4a80-d1b1-fb60560b1934"
      },
      "execution_count": 92,
      "outputs": [
        {
          "output_type": "execute_result",
          "data": {
            "text/plain": [
              "A    False\n",
              "B    False\n",
              "C    False\n",
              "D     True\n",
              "E     True\n",
              "dtype: bool"
            ]
          },
          "metadata": {},
          "execution_count": 92
        }
      ]
    },
    {
      "cell_type": "code",
      "source": [
        "my_series[filter]"
      ],
      "metadata": {
        "colab": {
          "base_uri": "https://localhost:8080/"
        },
        "id": "gA4S6-27ozzV",
        "outputId": "70e54c29-59a6-4e97-e33b-00d5e5038e37"
      },
      "execution_count": 93,
      "outputs": [
        {
          "output_type": "execute_result",
          "data": {
            "text/plain": [
              "D    40\n",
              "E    50\n",
              "dtype: int64"
            ]
          },
          "metadata": {},
          "execution_count": 93
        }
      ]
    },
    {
      "cell_type": "code",
      "source": [
        "my_series[filter] = 35"
      ],
      "metadata": {
        "id": "qyR1D4fGmgOB"
      },
      "execution_count": 94,
      "outputs": []
    },
    {
      "cell_type": "code",
      "source": [
        "my_series"
      ],
      "metadata": {
        "colab": {
          "base_uri": "https://localhost:8080/"
        },
        "id": "tDuKwU3tmkSA",
        "outputId": "18c2ffe5-a56d-44e9-90ba-2db40edeefef"
      },
      "execution_count": 95,
      "outputs": [
        {
          "output_type": "execute_result",
          "data": {
            "text/plain": [
              "A    10\n",
              "B    20\n",
              "C    30\n",
              "D    35\n",
              "E    35\n",
              "dtype: int64"
            ]
          },
          "metadata": {},
          "execution_count": 95
        }
      ]
    },
    {
      "cell_type": "code",
      "source": [],
      "metadata": {
        "id": "HfztwHZmmoap"
      },
      "execution_count": null,
      "outputs": []
    }
  ],
  "metadata": {
    "kernelspec": {
      "display_name": ".venv",
      "language": "python",
      "name": "python3"
    },
    "language_info": {
      "codemirror_mode": {
        "name": "ipython",
        "version": 3
      },
      "file_extension": ".py",
      "mimetype": "text/x-python",
      "name": "python",
      "nbconvert_exporter": "python",
      "pygments_lexer": "ipython3",
      "version": "3.11.5"
    },
    "orig_nbformat": 4,
    "colab": {
      "provenance": []
    }
  },
  "nbformat": 4,
  "nbformat_minor": 0
}