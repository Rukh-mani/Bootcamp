{
 "cells": [
  {
   "cell_type": "code",
   "execution_count": null,
   "metadata": {},
   "outputs": [],
   "source": [
    "# 1. Data Collection and Import\n",
    "from sklearn import datasets\n",
    "from sklearn.model_selection import train_test_split\n",
    "from sklearn.preprocessing import StandardScaler\n",
    "from sklearn.ensemble import RandomForestClassifier\n",
    "from sklearn.metrics import accuracy_score\n",
    "\n",
    "from sklearn.pipeline import Pipeline\n",
    "from sklearn.impute import SimpleImputer\n",
    "\n",
    "# Load the iris dataset as an example\n",
    "data = datasets.load_iris()\n",
    "X = data.data\n",
    "y = data.target\n",
    "\n",
    "# 3. Data Splitting\n",
    "X_train, X_test, y_train, y_test = train_test_split(X, y, test_size=0.2, random_state=42)\n",
    "\n",
    "# Create pipeline\n",
    "pipeline = Pipeline(\n",
    "    [\n",
    "        # 2. Data Preprocessing\n",
    "        # 2.1 Handling missing values\n",
    "        ('simple_imputer',SimpleImputer(strategy='mean')),\n",
    "        \n",
    "        # 2.2 Feature Engineering\n",
    "        # No feature engineering\n",
    "        \n",
    "        # 2.3 Scaling/Normalization\n",
    "        ('standard_scaler',StandardScaler()),\n",
    "\n",
    "        # 4. Model Selection\n",
    "        ('ourestimator',RandomForestClassifier())\n",
    "    ]\n",
    ")\n",
    "\n",
    "# 5. Training\n",
    "pipeline.fit(X_train, y_train)\n",
    "\n",
    "# 6. Evaluation\n",
    "y_pred = pipeline.predict(X_test)\n",
    "accuracy = accuracy_score(y_test, y_pred)\n",
    "print(f\"Accuracy: {accuracy*100:.2f}%\")"
   ]
  }
 ],
 "metadata": {
  "language_info": {
   "name": "python"
  }
 },
 "nbformat": 4,
 "nbformat_minor": 2
}
