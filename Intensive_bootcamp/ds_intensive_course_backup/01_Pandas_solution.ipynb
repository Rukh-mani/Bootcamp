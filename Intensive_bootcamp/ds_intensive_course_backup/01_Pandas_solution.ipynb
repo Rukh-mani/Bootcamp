{
 "cells": [
  {
   "cell_type": "code",
   "execution_count": 3,
   "metadata": {},
   "outputs": [],
   "source": [
    "import pandas as pd"
   ]
  },
  {
   "cell_type": "code",
   "execution_count": 4,
   "metadata": {},
   "outputs": [
    {
     "data": {
      "text/html": [
       "<div>\n",
       "<style scoped>\n",
       "    .dataframe tbody tr th:only-of-type {\n",
       "        vertical-align: middle;\n",
       "    }\n",
       "\n",
       "    .dataframe tbody tr th {\n",
       "        vertical-align: top;\n",
       "    }\n",
       "\n",
       "    .dataframe thead th {\n",
       "        text-align: right;\n",
       "    }\n",
       "</style>\n",
       "<table border=\"1\" class=\"dataframe\">\n",
       "  <thead>\n",
       "    <tr style=\"text-align: right;\">\n",
       "      <th></th>\n",
       "      <th>PassengerId</th>\n",
       "      <th>Survived</th>\n",
       "      <th>Pclass</th>\n",
       "      <th>Name</th>\n",
       "      <th>Sex</th>\n",
       "      <th>Age</th>\n",
       "      <th>SibSp</th>\n",
       "      <th>Parch</th>\n",
       "      <th>Ticket</th>\n",
       "      <th>Fare</th>\n",
       "      <th>Cabin</th>\n",
       "      <th>Embarked</th>\n",
       "    </tr>\n",
       "  </thead>\n",
       "  <tbody>\n",
       "    <tr>\n",
       "      <th>0</th>\n",
       "      <td>1</td>\n",
       "      <td>0</td>\n",
       "      <td>3</td>\n",
       "      <td>Braund, Mr. Owen Harris</td>\n",
       "      <td>male</td>\n",
       "      <td>22.0</td>\n",
       "      <td>1</td>\n",
       "      <td>0</td>\n",
       "      <td>A/5 21171</td>\n",
       "      <td>7.2500</td>\n",
       "      <td>NaN</td>\n",
       "      <td>S</td>\n",
       "    </tr>\n",
       "    <tr>\n",
       "      <th>1</th>\n",
       "      <td>2</td>\n",
       "      <td>1</td>\n",
       "      <td>1</td>\n",
       "      <td>Cumings, Mrs. John Bradley (Florence Briggs Th...</td>\n",
       "      <td>female</td>\n",
       "      <td>38.0</td>\n",
       "      <td>1</td>\n",
       "      <td>0</td>\n",
       "      <td>PC 17599</td>\n",
       "      <td>71.2833</td>\n",
       "      <td>C85</td>\n",
       "      <td>C</td>\n",
       "    </tr>\n",
       "    <tr>\n",
       "      <th>2</th>\n",
       "      <td>3</td>\n",
       "      <td>1</td>\n",
       "      <td>3</td>\n",
       "      <td>Heikkinen, Miss. Laina</td>\n",
       "      <td>female</td>\n",
       "      <td>26.0</td>\n",
       "      <td>0</td>\n",
       "      <td>0</td>\n",
       "      <td>STON/O2. 3101282</td>\n",
       "      <td>7.9250</td>\n",
       "      <td>NaN</td>\n",
       "      <td>S</td>\n",
       "    </tr>\n",
       "    <tr>\n",
       "      <th>3</th>\n",
       "      <td>4</td>\n",
       "      <td>1</td>\n",
       "      <td>1</td>\n",
       "      <td>Futrelle, Mrs. Jacques Heath (Lily May Peel)</td>\n",
       "      <td>female</td>\n",
       "      <td>35.0</td>\n",
       "      <td>1</td>\n",
       "      <td>0</td>\n",
       "      <td>113803</td>\n",
       "      <td>53.1000</td>\n",
       "      <td>C123</td>\n",
       "      <td>S</td>\n",
       "    </tr>\n",
       "    <tr>\n",
       "      <th>4</th>\n",
       "      <td>5</td>\n",
       "      <td>0</td>\n",
       "      <td>3</td>\n",
       "      <td>Allen, Mr. William Henry</td>\n",
       "      <td>male</td>\n",
       "      <td>35.0</td>\n",
       "      <td>0</td>\n",
       "      <td>0</td>\n",
       "      <td>373450</td>\n",
       "      <td>8.0500</td>\n",
       "      <td>NaN</td>\n",
       "      <td>S</td>\n",
       "    </tr>\n",
       "  </tbody>\n",
       "</table>\n",
       "</div>"
      ],
      "text/plain": [
       "   PassengerId  Survived  Pclass  \\\n",
       "0            1         0       3   \n",
       "1            2         1       1   \n",
       "2            3         1       3   \n",
       "3            4         1       1   \n",
       "4            5         0       3   \n",
       "\n",
       "                                                Name     Sex   Age  SibSp  \\\n",
       "0                            Braund, Mr. Owen Harris    male  22.0      1   \n",
       "1  Cumings, Mrs. John Bradley (Florence Briggs Th...  female  38.0      1   \n",
       "2                             Heikkinen, Miss. Laina  female  26.0      0   \n",
       "3       Futrelle, Mrs. Jacques Heath (Lily May Peel)  female  35.0      1   \n",
       "4                           Allen, Mr. William Henry    male  35.0      0   \n",
       "\n",
       "   Parch            Ticket     Fare Cabin Embarked  \n",
       "0      0         A/5 21171   7.2500   NaN        S  \n",
       "1      0          PC 17599  71.2833   C85        C  \n",
       "2      0  STON/O2. 3101282   7.9250   NaN        S  \n",
       "3      0            113803  53.1000  C123        S  \n",
       "4      0            373450   8.0500   NaN        S  "
      ]
     },
     "execution_count": 4,
     "metadata": {},
     "output_type": "execute_result"
    }
   ],
   "source": [
    "#Task 0 open data/titanic.csv\n",
    "df = pd.read_csv(\"data/titanic.csv\")\n",
    "df.head()"
   ]
  },
  {
   "cell_type": "code",
   "execution_count": null,
   "metadata": {},
   "outputs": [],
   "source": [
    "#Task 1 how many passangers are in the data?\n",
    "df.PassengerId.nunique()"
   ]
  },
  {
   "cell_type": "code",
   "execution_count": null,
   "metadata": {},
   "outputs": [],
   "source": [
    "#Task 2 How many distinct Surnames can you see in the data?\n",
    "splitted_names = df[\"Name\"].str.split(\",\")\n",
    "surnames_only = splitted_names.str[0]\n",
    "surnames_only.nunique()"
   ]
  },
  {
   "cell_type": "code",
   "execution_count": null,
   "metadata": {},
   "outputs": [],
   "source": [
    "#Task 3 sum Fare per A) location of Embarked B) Locatio of Embarked and Sex \n",
    "#result should be dataframe\n",
    "\n",
    "#this result is series\n",
    "gr = df.groupby(\"Embarked\").Fare.sum()\n",
    "print(gr, \"\\n\", type(gr))\n",
    "print(\"-\"*50)\n",
    "print(\"-\"*50)\n",
    "\n",
    "#This is df\n",
    "gr = df.groupby(\"Embarked\", as_index=False).Fare.sum()\n",
    "print(gr, \"\\n\", type(gr))\n",
    "print(\"-\"*50)\n",
    "print(\"-\"*50)\n",
    "\n",
    "\n",
    "#This is also df\n",
    "gr = df.groupby(\"Embarked\").Fare.sum()\n",
    "gr = gr.to_frame()\n",
    "print(gr, \"\\n\", type(gr))\n",
    "print(\"-\"*50)\n",
    "print(\"-\"*50)\n",
    "\n"
   ]
  },
  {
   "cell_type": "code",
   "execution_count": null,
   "metadata": {},
   "outputs": [],
   "source": [
    "#This is df, Embarked and sex are now multiindeces\n",
    "gr = df.groupby([\"Embarked\", \"Sex\"]).Fare.sum()\n",
    "print(gr, \"\\n\", type(gr))\n",
    "print(\"-\"*50)\n",
    "print(\"-\"*50)\n",
    "\n",
    "\n",
    "#This is also without Embarked and sex beeing multiindeces\n",
    "gr = df.groupby([\"Embarked\", \"Sex\"], as_index=False).Fare.sum()\n",
    "print(gr, \"\\n\", type(gr))\n",
    "print(\"-\"*50)\n",
    "print(\"-\"*50)"
   ]
  },
  {
   "cell_type": "code",
   "execution_count": null,
   "metadata": {},
   "outputs": [],
   "source": [
    "#Task 4 How wold you drop all rows that contain none? How about dropping tows that have none in Cabin?\n",
    "no_nan = df.dropna()\n",
    "no_nan_cabin = df.dropna(subset= \"Cabin\")"
   ]
  },
  {
   "cell_type": "code",
   "execution_count": null,
   "metadata": {},
   "outputs": [],
   "source": [
    "no_nan_cabin"
   ]
  },
  {
   "cell_type": "code",
   "execution_count": null,
   "metadata": {},
   "outputs": [],
   "source": [
    "#Task 5 Use columns SibSp and Parch to form binary attribute has_family (use max or addition of two columns)\n",
    "\n",
    "df[\"has_family\"] = df.SibSp + df.Parch\n",
    "df.loc[df[\"has_family\"] >1, \"has_family\"] = 1"
   ]
  },
  {
   "cell_type": "code",
   "execution_count": null,
   "metadata": {},
   "outputs": [],
   "source": [
    "# Task 6 drop column has family \n",
    "df = df.drop(\"has_family\", axis = 1)\n"
   ]
  },
  {
   "cell_type": "code",
   "execution_count": null,
   "metadata": {},
   "outputs": [],
   "source": [
    "#Task 7 Use conditions approach to form has_family attriubte\n",
    "df[\"has_family\"] = ((df.SibSp > 0) | (df.Parch > 0))\n",
    "df"
   ]
  },
  {
   "cell_type": "code",
   "execution_count": null,
   "metadata": {},
   "outputs": [],
   "source": [
    "#Task 8 What is the overall age average? What is the age average for women? And for men?\n",
    "print(df.Age.mean())\n",
    "\n",
    "df.groupby(\"Sex\").Age.mean()"
   ]
  },
  {
   "cell_type": "code",
   "execution_count": null,
   "metadata": {},
   "outputs": [],
   "source": [
    "#Task 9 how many passerngers traveled on their own (alone)?\n",
    "df.has_family.count() - df.has_family.sum()"
   ]
  },
  {
   "cell_type": "code",
   "execution_count": null,
   "metadata": {},
   "outputs": [],
   "source": [
    "#Task 10 is there any effect of class passengers traveled in and survival rate?\n",
    "_ = df_filled.groupby('Pclass')['Survived'].agg(Sum='sum', Count='count')\n",
    "_[\"Survival ratio\"] = _[\"Sum\"]/_[\"Count\"]\n",
    "_"
   ]
  },
  {
   "cell_type": "code",
   "execution_count": null,
   "metadata": {},
   "outputs": [],
   "source": [
    "#Task 11 Do missing cabin values have something incommon with Pclass?\n",
    "\n",
    "\n",
    "#Cabin contains NAN values\n",
    "#So if we do this \n",
    "print(df.groupby(\"Pclass\")[\"Cabin\"].agg(Nunique='nunique', Count='count'))\n",
    "print(\"Counts do not sum up to len(df) because NAN is not counted!\")\n",
    "\n",
    "df_filled = df.copy()\n",
    "df_filled[\"Cabin\"] = df_filled[\"Cabin\"].fillna(\"unknown\")\n",
    "df_filled.groupby(\"Pclass\")[\"Cabin\"].agg(Nunique='nunique', Count='count')"
   ]
  },
  {
   "cell_type": "code",
   "execution_count": null,
   "metadata": {},
   "outputs": [],
   "source": [
    "#Task 12 Create new column family name, count members of the family in data\n",
    "\n",
    "#we reuse the code snippet from above\n",
    "df[\"family_name\"] = df[\"Name\"].str.split(\",\").str[0]\n",
    "df[\"family_name_freq\"] = df['family_name'].map(df['family_name'].value_counts())\n",
    "\n",
    "#We wont be able to clean family name frequency for all the names that are repeated\n",
    "#without its owners being in fact related\n",
    "#but we can help ourselves out with has_family attribute\n",
    "df[\"family_size\"] = df[\"family_name_freq\"].values\n",
    "df.loc[((df.has_family == False)&(df.family_name_freq > 1)), \"family_size\"] = 1\n",
    "\n"
   ]
  },
  {
   "cell_type": "code",
   "execution_count": 8,
   "metadata": {},
   "outputs": [
    {
     "name": "stdout",
     "output_type": "stream",
     "text": [
      "0.0\n",
      "512.3292\n",
      "14.4542\n",
      "32.204207968574636\n"
     ]
    }
   ],
   "source": [
    "#Task 13 group Fare by 3 thresholds so you have category cheap fare, regular fare, expensive fare\n",
    "print(df.Fare.min())\n",
    "print(df.Fare.max())\n",
    "print(df.Fare.median())\n",
    "print(df.Fare.mean())\n",
    "\n",
    "\n",
    "def findFareGroup(fare):\n",
    "    if fare<df.Fare.median():\n",
    "        return \"cheap\"\n",
    "    elif fare>=df.Fare.median() and fare<df.Fare.mean():\n",
    "        return \"regular\"\n",
    "    else:\n",
    "        return \"expensive\""
   ]
  },
  {
   "cell_type": "code",
   "execution_count": 9,
   "metadata": {},
   "outputs": [],
   "source": [
    "df['FareGroup']=df['Fare'].apply(lambda x: findFareGroup(x))"
   ]
  },
  {
   "cell_type": "code",
   "execution_count": 13,
   "metadata": {},
   "outputs": [
    {
     "data": {
      "text/html": [
       "<div>\n",
       "<style scoped>\n",
       "    .dataframe tbody tr th:only-of-type {\n",
       "        vertical-align: middle;\n",
       "    }\n",
       "\n",
       "    .dataframe tbody tr th {\n",
       "        vertical-align: top;\n",
       "    }\n",
       "\n",
       "    .dataframe thead th {\n",
       "        text-align: right;\n",
       "    }\n",
       "</style>\n",
       "<table border=\"1\" class=\"dataframe\">\n",
       "  <thead>\n",
       "    <tr style=\"text-align: right;\">\n",
       "      <th></th>\n",
       "      <th>FareGroup</th>\n",
       "      <th>PassengerId</th>\n",
       "    </tr>\n",
       "  </thead>\n",
       "  <tbody>\n",
       "    <tr>\n",
       "      <th>0</th>\n",
       "      <td>cheap</td>\n",
       "      <td>440</td>\n",
       "    </tr>\n",
       "    <tr>\n",
       "      <th>1</th>\n",
       "      <td>expensive</td>\n",
       "      <td>211</td>\n",
       "    </tr>\n",
       "    <tr>\n",
       "      <th>2</th>\n",
       "      <td>regular</td>\n",
       "      <td>240</td>\n",
       "    </tr>\n",
       "  </tbody>\n",
       "</table>\n",
       "</div>"
      ],
      "text/plain": [
       "   FareGroup  PassengerId\n",
       "0      cheap          440\n",
       "1  expensive          211\n",
       "2    regular          240"
      ]
     },
     "execution_count": 13,
     "metadata": {},
     "output_type": "execute_result"
    }
   ],
   "source": [
    "#Task 14 form an empty dataset, append counts in fare category to it\n",
    "\n",
    "empty_df = pd.DataFrame([])\n",
    "grouped_df = df.groupby(\"FareGroup\",as_index = False).PassengerId.nunique()\n",
    "append_df = pd.concat([empty_df,grouped_df ])\n",
    "append_df"
   ]
  },
  {
   "cell_type": "code",
   "execution_count": 14,
   "metadata": {},
   "outputs": [
    {
     "data": {
      "text/html": [
       "<div>\n",
       "<style scoped>\n",
       "    .dataframe tbody tr th:only-of-type {\n",
       "        vertical-align: middle;\n",
       "    }\n",
       "\n",
       "    .dataframe tbody tr th {\n",
       "        vertical-align: top;\n",
       "    }\n",
       "\n",
       "    .dataframe thead th {\n",
       "        text-align: right;\n",
       "    }\n",
       "</style>\n",
       "<table border=\"1\" class=\"dataframe\">\n",
       "  <thead>\n",
       "    <tr style=\"text-align: right;\">\n",
       "      <th></th>\n",
       "      <th>FareGroup</th>\n",
       "      <th>Passenger Count</th>\n",
       "    </tr>\n",
       "  </thead>\n",
       "  <tbody>\n",
       "    <tr>\n",
       "      <th>0</th>\n",
       "      <td>cheap</td>\n",
       "      <td>440</td>\n",
       "    </tr>\n",
       "    <tr>\n",
       "      <th>1</th>\n",
       "      <td>expensive</td>\n",
       "      <td>211</td>\n",
       "    </tr>\n",
       "    <tr>\n",
       "      <th>2</th>\n",
       "      <td>regular</td>\n",
       "      <td>240</td>\n",
       "    </tr>\n",
       "  </tbody>\n",
       "</table>\n",
       "</div>"
      ],
      "text/plain": [
       "   FareGroup  Passenger Count\n",
       "0      cheap              440\n",
       "1  expensive              211\n",
       "2    regular              240"
      ]
     },
     "execution_count": 14,
     "metadata": {},
     "output_type": "execute_result"
    }
   ],
   "source": [
    "#Task 15 rename column PassengerId in appended dataframe to Passenger Count\n",
    "append_df.columns = [\"FareGroup\", \"Passenger Count\"]\n",
    "append_df"
   ]
  },
  {
   "cell_type": "code",
   "execution_count": null,
   "metadata": {},
   "outputs": [],
   "source": []
  }
 ],
 "metadata": {
  "kernelspec": {
   "display_name": ".venv",
   "language": "python",
   "name": "python3"
  },
  "language_info": {
   "codemirror_mode": {
    "name": "ipython",
    "version": 3
   },
   "file_extension": ".py",
   "mimetype": "text/x-python",
   "name": "python",
   "nbconvert_exporter": "python",
   "pygments_lexer": "ipython3",
   "version": "3.11.5"
  },
  "orig_nbformat": 4
 },
 "nbformat": 4,
 "nbformat_minor": 2
}
