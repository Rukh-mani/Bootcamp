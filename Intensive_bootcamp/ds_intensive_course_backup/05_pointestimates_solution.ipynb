{
 "cells": [
  {
   "cell_type": "code",
   "execution_count": null,
   "metadata": {},
   "outputs": [],
   "source": [
    "import numpy as np"
   ]
  },
  {
   "cell_type": "markdown",
   "metadata": {},
   "source": [
    "#### Sample mean\n",
    "\n",
    "$$\\bar{x} = \\frac{1}{n} \\sum_{i=1}^{n} x_i$$\n"
   ]
  },
  {
   "cell_type": "code",
   "execution_count": null,
   "metadata": {},
   "outputs": [],
   "source": [
    "# Sample data\n",
    "data = [25, 30, 35, 40, 45]\n",
    "\n",
    "# Calculate the sample mean without NumPy\n",
    "mean_estimate = sum(data) / len(data)\n",
    "print(\"Sample Mean (Point Estimate):\", mean_estimate)\n"
   ]
  },
  {
   "cell_type": "code",
   "execution_count": null,
   "metadata": {},
   "outputs": [],
   "source": [
    "# Calculate the sample mean using NumPy\n",
    "mean_estimate = np.mean(data)\n",
    "print(\"Sample Mean (Point Estimate):\", mean_estimate)\n"
   ]
  },
  {
   "cell_type": "markdown",
   "metadata": {},
   "source": [
    "### Sample variance\n",
    "\n",
    "$$\n",
    "s^2 = \\frac{1}{n-1} \\sum_{i=1}^{n} (x_i - \\bar{x})^2\n",
    "$$\n",
    "\n"
   ]
  },
  {
   "cell_type": "code",
   "execution_count": null,
   "metadata": {},
   "outputs": [],
   "source": [
    "# Calculate the sample variance without NumPy\n",
    "mean = sum(data) / len(data)\n",
    "variance_estimate = sum((x - mean) ** 2 for x in data) / (len(data) - 1)\n",
    "print(\"Sample Variance (Point Estimate):\", variance_estimate)\n"
   ]
  },
  {
   "cell_type": "code",
   "execution_count": null,
   "metadata": {},
   "outputs": [],
   "source": [
    "#Calculate variance using numpy ddof = 1\n",
    "variance_estimate = np.var(data, ddof=1)\n",
    "print(\"Sample Variance (Point Estimate):\", variance_estimate)"
   ]
  },
  {
   "cell_type": "markdown",
   "metadata": {},
   "source": [
    "### Sample mode\n",
    "\n",
    "Count the frequency of each distinct value in the dataset.\n",
    "Identify the value(s) with the highest frequency.\n",
    "The value(s) with the highest frequency is the sample mode."
   ]
  },
  {
   "cell_type": "code",
   "execution_count": null,
   "metadata": {},
   "outputs": [],
   "source": [
    "#Calculate mode for data_2 = [1,1,4,5,8,1,10]\n",
    "data_2 = [1,1,4,5,8,1,10]\n",
    "\n",
    "\n",
    "from statistics import mode\n",
    "mode_estimate = mode(data_2)\n",
    "print(\"Sample Mode (Point Estimate):\", mode_estimate)\n",
    "\n",
    "\n",
    "import pandas as pd\n",
    "s = pd.Series(data_2)\n",
    "print(s)\n",
    "mode_estimate = (s.value_counts()).index[0]\n",
    "print(\"Sample Mode (Point Estimate):\", mode_estimate)\n"
   ]
  },
  {
   "cell_type": "markdown",
   "metadata": {},
   "source": [
    "### Median\n",
    "\n",
    "$$\n",
    "\\text{Median} = \n",
    "\\begin{cases}\n",
    "\\text{middle data point} & \\text{if the number of data points is odd} \\\\\n",
    "\\frac{\\text{middle data point} + \\text{middle data point + 1}}{2} & \\text{if the number of data points is even}\n",
    "\\end{cases}\n",
    "$$"
   ]
  },
  {
   "cell_type": "code",
   "execution_count": null,
   "metadata": {},
   "outputs": [],
   "source": [
    "# Calculate the sample median without NumPy\n",
    "sorted_data = sorted(data)\n",
    "n = len(sorted_data)\n",
    "if n % 2 == 0:\n",
    "    median_estimate = (sorted_data[n // 2 - 1] + sorted_data[n // 2]) / 2\n",
    "else:\n",
    "    median_estimate = sorted_data[n // 2]\n",
    "print(\"Sample Median (Point Estimate):\", median_estimate)\n"
   ]
  },
  {
   "cell_type": "code",
   "execution_count": null,
   "metadata": {},
   "outputs": [],
   "source": [
    "# Calculate the sample median using NumPy\n",
    "median_estimate = np.median(data)\n",
    "print(\"Sample Median (Point Estimate):\", median_estimate)"
   ]
  },
  {
   "cell_type": "markdown",
   "metadata": {},
   "source": [
    "### Correlation of two variables\n",
    "\n",
    "\n",
    "$$ r = \\frac{\\sum{(x_i - \\bar{x})(y_i - \\bar{y})}}{\\sqrt{\\sum{(x_i - \\bar{x})^2} \\cdot \\sum{(y_i - \\bar{y})^2}}} $$"
   ]
  },
  {
   "cell_type": "code",
   "execution_count": null,
   "metadata": {},
   "outputs": [],
   "source": [
    "# Sample data for two variables\n",
    "\n",
    "#Calculate the Pearson correlation coefficient r  without NumPy\n",
    "variable1 = [1, 2, 3, 4, 5]\n",
    "variable2 = [2, 3, 4, 5, 6]"
   ]
  },
  {
   "cell_type": "code",
   "execution_count": null,
   "metadata": {},
   "outputs": [],
   "source": [
    "# Calculate the Pearson correlation coefficient without NumPy\n",
    "\n",
    "# Calculate the means of both variables\n",
    "mean_variable1 = sum(variable1) / len(variable1)\n",
    "mean_variable2 = sum(variable2) / len(variable2)\n",
    "\n",
    "# Calculate the sum of the products of the differences\n",
    "\n",
    "total_sum = 0\n",
    "for x, y in zip(variable1,variable2):\n",
    "    total_sum += (x-mean_variable1)*(y-mean_variable2)\n",
    "\n",
    "\n",
    "# Calculate the sum of squared differences for each variable\n",
    "\n",
    "x_sum = 0\n",
    "y_sum = 0\n",
    "for x, y in zip(variable1,variable2):\n",
    "    x_sum += (x-mean_variable1)**2\n",
    "    y_sum += (y-mean_variable2)**2\n",
    "\n",
    "\n",
    "# Calculate the Pearson correlation coefficient\n",
    "correlation_coefficient = total_sum / ( (x_sum ** 0.5) * (y_sum ** 0.5) )\n",
    "\n",
    "print(\"Pearson Correlation Coefficient:\", correlation_coefficient)\n",
    "\n",
    "\n",
    "\n",
    "#alternative way of shortening while loop\n",
    "\n",
    "total_sum = sum((variable1[i] - mean_variable1) * (variable2[i] - mean_variable2) for i in range(n))\n",
    "\n",
    "# Calculate the sum of squared differences for each variable\n",
    "x_sum = sum((variable1[i] - mean_variable1) ** 2 for i in range(n))\n",
    "y_sum = sum((variable2[i] - mean_variable2) ** 2 for i in range(n))\n",
    "\n",
    "\n",
    "# Calculate the Pearson correlation coefficient\n",
    "correlation_coefficient = total_sum / ( (x_sum ** 0.5) * (y_sum ** 0.5) )\n",
    "\n",
    "print(\"Pearson Correlation Coefficient:\", correlation_coefficient)\n"
   ]
  },
  {
   "cell_type": "code",
   "execution_count": null,
   "metadata": {},
   "outputs": [],
   "source": [
    "correlation_matrix = np.corrcoef(variable1, variable2)\n",
    "print(correlation_matrix)"
   ]
  },
  {
   "cell_type": "code",
   "execution_count": null,
   "metadata": {},
   "outputs": [],
   "source": [
    "from sklearn import datasets\n",
    "\n",
    "iris = datasets.load_iris()\n",
    "iris = pd.DataFrame(iris[\"data\"], columns = iris[\"feature_names\"])\n",
    "iris.head()"
   ]
  },
  {
   "cell_type": "code",
   "execution_count": null,
   "metadata": {},
   "outputs": [],
   "source": [
    "# look in documentation for pandas function that returns correlation matrix\n",
    "# what is the correlation between sepal lenght and petal length?\n",
    "iris.corr()"
   ]
  },
  {
   "cell_type": "code",
   "execution_count": null,
   "metadata": {},
   "outputs": [],
   "source": [
    "#Calculate point estimates (mean, variance, median for all columns using padas build in functions)\n",
    "\n",
    "for col in iris.columns:\n",
    "    print(col)\n",
    "    print(iris[col].mean())\n",
    "    print(iris[col].var())\n",
    "    print(iris[col].std())\n",
    "    print(iris[col].median())\n"
   ]
  },
  {
   "cell_type": "code",
   "execution_count": null,
   "metadata": {},
   "outputs": [],
   "source": [
    "# Can you think of df fuctnion we used on day 1 to give us this statistical overview?\n",
    "\n",
    "iris.describe()"
   ]
  },
  {
   "cell_type": "code",
   "execution_count": null,
   "metadata": {},
   "outputs": [],
   "source": []
  }
 ],
 "metadata": {
  "kernelspec": {
   "display_name": ".venv",
   "language": "python",
   "name": "python3"
  },
  "language_info": {
   "codemirror_mode": {
    "name": "ipython",
    "version": 3
   },
   "file_extension": ".py",
   "mimetype": "text/x-python",
   "name": "python",
   "nbconvert_exporter": "python",
   "pygments_lexer": "ipython3",
   "version": "3.11.5"
  },
  "orig_nbformat": 4
 },
 "nbformat": 4,
 "nbformat_minor": 2
}
